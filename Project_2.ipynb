{
  "nbformat": 4,
  "nbformat_minor": 0,
  "metadata": {
    "colab": {
      "provenance": []
    },
    "kernelspec": {
      "name": "python3",
      "display_name": "Python 3"
    },
    "language_info": {
      "name": "python"
    }
  },
  "cells": [
    {
      "cell_type": "code",
      "execution_count": 5,
      "metadata": {
        "id": "UBQHvv3j9c4n"
      },
      "outputs": [],
      "source": [
        "import pandas as pd\n",
        "import numpy as np"
      ]
    },
    {
      "cell_type": "code",
      "source": [
        "#Reading dataset 1\n",
        "\n",
        "excel_file = '/content/dataset_1.xlsx'\n",
        "data = pd.read_excel(excel_file)\n",
        "print(data)"
      ],
      "metadata": {
        "colab": {
          "base_uri": "https://localhost:8080/"
        },
        "id": "Qo--G8H89xGH",
        "outputId": "5aae7adb-fe72-4539-a3e4-58aa8627bd2e"
      },
      "execution_count": 20,
      "outputs": [
        {
          "output_type": "stream",
          "name": "stdout",
          "text": [
            "     instant     dteday  season  yr  mnth  hr  holiday  weekday  weathersit  \\\n",
            "0          1 2011-01-01       1   0     1   0    False        6           1   \n",
            "1          2 2011-01-01       1   0     1   1    False        6           1   \n",
            "2          3 2011-01-01       1   0     1   2    False        6           1   \n",
            "3          4 2011-01-01       1   0     1   3    False        6           1   \n",
            "4          5 2011-01-01       1   0     1   4    False        6           1   \n",
            "..       ...        ...     ...  ..   ...  ..      ...      ...         ...   \n",
            "605      606 2011-01-28       1   0     1  11    False        5           3   \n",
            "606      607 2011-01-28       1   0     1  12    False        5           3   \n",
            "607      608 2011-01-28       1   0     1  13    False        5           3   \n",
            "608      609 2011-01-28       1   0     1  14    False        5           3   \n",
            "609      610 2011-01-28       1   0     1  15    False        5           2   \n",
            "\n",
            "     temp  \n",
            "0    0.24  \n",
            "1    0.22  \n",
            "2    0.22  \n",
            "3    0.24  \n",
            "4    0.24  \n",
            "..    ...  \n",
            "605  0.18  \n",
            "606  0.18  \n",
            "607  0.18  \n",
            "608  0.22  \n",
            "609  0.20  \n",
            "\n",
            "[610 rows x 10 columns]\n"
          ]
        }
      ]
    },
    {
      "cell_type": "code",
      "source": [
        "data.head()"
      ],
      "metadata": {
        "colab": {
          "base_uri": "https://localhost:8080/",
          "height": 206
        },
        "id": "v9Gaq6eq92nw",
        "outputId": "7fd9967a-4e1f-486b-ee90-0fa8524b0d61"
      },
      "execution_count": 21,
      "outputs": [
        {
          "output_type": "execute_result",
          "data": {
            "text/plain": [
              "   instant     dteday  season  yr  mnth  hr  holiday  weekday  weathersit  \\\n",
              "0        1 2011-01-01       1   0     1   0    False        6           1   \n",
              "1        2 2011-01-01       1   0     1   1    False        6           1   \n",
              "2        3 2011-01-01       1   0     1   2    False        6           1   \n",
              "3        4 2011-01-01       1   0     1   3    False        6           1   \n",
              "4        5 2011-01-01       1   0     1   4    False        6           1   \n",
              "\n",
              "   temp  \n",
              "0  0.24  \n",
              "1  0.22  \n",
              "2  0.22  \n",
              "3  0.24  \n",
              "4  0.24  "
            ],
            "text/html": [
              "\n",
              "  <div id=\"df-7723f988-1fc7-49ea-a856-c694c6685558\" class=\"colab-df-container\">\n",
              "    <div>\n",
              "<style scoped>\n",
              "    .dataframe tbody tr th:only-of-type {\n",
              "        vertical-align: middle;\n",
              "    }\n",
              "\n",
              "    .dataframe tbody tr th {\n",
              "        vertical-align: top;\n",
              "    }\n",
              "\n",
              "    .dataframe thead th {\n",
              "        text-align: right;\n",
              "    }\n",
              "</style>\n",
              "<table border=\"1\" class=\"dataframe\">\n",
              "  <thead>\n",
              "    <tr style=\"text-align: right;\">\n",
              "      <th></th>\n",
              "      <th>instant</th>\n",
              "      <th>dteday</th>\n",
              "      <th>season</th>\n",
              "      <th>yr</th>\n",
              "      <th>mnth</th>\n",
              "      <th>hr</th>\n",
              "      <th>holiday</th>\n",
              "      <th>weekday</th>\n",
              "      <th>weathersit</th>\n",
              "      <th>temp</th>\n",
              "    </tr>\n",
              "  </thead>\n",
              "  <tbody>\n",
              "    <tr>\n",
              "      <th>0</th>\n",
              "      <td>1</td>\n",
              "      <td>2011-01-01</td>\n",
              "      <td>1</td>\n",
              "      <td>0</td>\n",
              "      <td>1</td>\n",
              "      <td>0</td>\n",
              "      <td>False</td>\n",
              "      <td>6</td>\n",
              "      <td>1</td>\n",
              "      <td>0.24</td>\n",
              "    </tr>\n",
              "    <tr>\n",
              "      <th>1</th>\n",
              "      <td>2</td>\n",
              "      <td>2011-01-01</td>\n",
              "      <td>1</td>\n",
              "      <td>0</td>\n",
              "      <td>1</td>\n",
              "      <td>1</td>\n",
              "      <td>False</td>\n",
              "      <td>6</td>\n",
              "      <td>1</td>\n",
              "      <td>0.22</td>\n",
              "    </tr>\n",
              "    <tr>\n",
              "      <th>2</th>\n",
              "      <td>3</td>\n",
              "      <td>2011-01-01</td>\n",
              "      <td>1</td>\n",
              "      <td>0</td>\n",
              "      <td>1</td>\n",
              "      <td>2</td>\n",
              "      <td>False</td>\n",
              "      <td>6</td>\n",
              "      <td>1</td>\n",
              "      <td>0.22</td>\n",
              "    </tr>\n",
              "    <tr>\n",
              "      <th>3</th>\n",
              "      <td>4</td>\n",
              "      <td>2011-01-01</td>\n",
              "      <td>1</td>\n",
              "      <td>0</td>\n",
              "      <td>1</td>\n",
              "      <td>3</td>\n",
              "      <td>False</td>\n",
              "      <td>6</td>\n",
              "      <td>1</td>\n",
              "      <td>0.24</td>\n",
              "    </tr>\n",
              "    <tr>\n",
              "      <th>4</th>\n",
              "      <td>5</td>\n",
              "      <td>2011-01-01</td>\n",
              "      <td>1</td>\n",
              "      <td>0</td>\n",
              "      <td>1</td>\n",
              "      <td>4</td>\n",
              "      <td>False</td>\n",
              "      <td>6</td>\n",
              "      <td>1</td>\n",
              "      <td>0.24</td>\n",
              "    </tr>\n",
              "  </tbody>\n",
              "</table>\n",
              "</div>\n",
              "    <div class=\"colab-df-buttons\">\n",
              "\n",
              "  <div class=\"colab-df-container\">\n",
              "    <button class=\"colab-df-convert\" onclick=\"convertToInteractive('df-7723f988-1fc7-49ea-a856-c694c6685558')\"\n",
              "            title=\"Convert this dataframe to an interactive table.\"\n",
              "            style=\"display:none;\">\n",
              "\n",
              "  <svg xmlns=\"http://www.w3.org/2000/svg\" height=\"24px\" viewBox=\"0 -960 960 960\">\n",
              "    <path d=\"M120-120v-720h720v720H120Zm60-500h600v-160H180v160Zm220 220h160v-160H400v160Zm0 220h160v-160H400v160ZM180-400h160v-160H180v160Zm440 0h160v-160H620v160ZM180-180h160v-160H180v160Zm440 0h160v-160H620v160Z\"/>\n",
              "  </svg>\n",
              "    </button>\n",
              "\n",
              "  <style>\n",
              "    .colab-df-container {\n",
              "      display:flex;\n",
              "      gap: 12px;\n",
              "    }\n",
              "\n",
              "    .colab-df-convert {\n",
              "      background-color: #E8F0FE;\n",
              "      border: none;\n",
              "      border-radius: 50%;\n",
              "      cursor: pointer;\n",
              "      display: none;\n",
              "      fill: #1967D2;\n",
              "      height: 32px;\n",
              "      padding: 0 0 0 0;\n",
              "      width: 32px;\n",
              "    }\n",
              "\n",
              "    .colab-df-convert:hover {\n",
              "      background-color: #E2EBFA;\n",
              "      box-shadow: 0px 1px 2px rgba(60, 64, 67, 0.3), 0px 1px 3px 1px rgba(60, 64, 67, 0.15);\n",
              "      fill: #174EA6;\n",
              "    }\n",
              "\n",
              "    .colab-df-buttons div {\n",
              "      margin-bottom: 4px;\n",
              "    }\n",
              "\n",
              "    [theme=dark] .colab-df-convert {\n",
              "      background-color: #3B4455;\n",
              "      fill: #D2E3FC;\n",
              "    }\n",
              "\n",
              "    [theme=dark] .colab-df-convert:hover {\n",
              "      background-color: #434B5C;\n",
              "      box-shadow: 0px 1px 3px 1px rgba(0, 0, 0, 0.15);\n",
              "      filter: drop-shadow(0px 1px 2px rgba(0, 0, 0, 0.3));\n",
              "      fill: #FFFFFF;\n",
              "    }\n",
              "  </style>\n",
              "\n",
              "    <script>\n",
              "      const buttonEl =\n",
              "        document.querySelector('#df-7723f988-1fc7-49ea-a856-c694c6685558 button.colab-df-convert');\n",
              "      buttonEl.style.display =\n",
              "        google.colab.kernel.accessAllowed ? 'block' : 'none';\n",
              "\n",
              "      async function convertToInteractive(key) {\n",
              "        const element = document.querySelector('#df-7723f988-1fc7-49ea-a856-c694c6685558');\n",
              "        const dataTable =\n",
              "          await google.colab.kernel.invokeFunction('convertToInteractive',\n",
              "                                                    [key], {});\n",
              "        if (!dataTable) return;\n",
              "\n",
              "        const docLinkHtml = 'Like what you see? Visit the ' +\n",
              "          '<a target=\"_blank\" href=https://colab.research.google.com/notebooks/data_table.ipynb>data table notebook</a>'\n",
              "          + ' to learn more about interactive tables.';\n",
              "        element.innerHTML = '';\n",
              "        dataTable['output_type'] = 'display_data';\n",
              "        await google.colab.output.renderOutput(dataTable, element);\n",
              "        const docLink = document.createElement('div');\n",
              "        docLink.innerHTML = docLinkHtml;\n",
              "        element.appendChild(docLink);\n",
              "      }\n",
              "    </script>\n",
              "  </div>\n",
              "\n",
              "\n",
              "<div id=\"df-a7ccbfee-c305-497f-929b-4a61c2c6d8b8\">\n",
              "  <button class=\"colab-df-quickchart\" onclick=\"quickchart('df-a7ccbfee-c305-497f-929b-4a61c2c6d8b8')\"\n",
              "            title=\"Suggest charts\"\n",
              "            style=\"display:none;\">\n",
              "\n",
              "<svg xmlns=\"http://www.w3.org/2000/svg\" height=\"24px\"viewBox=\"0 0 24 24\"\n",
              "     width=\"24px\">\n",
              "    <g>\n",
              "        <path d=\"M19 3H5c-1.1 0-2 .9-2 2v14c0 1.1.9 2 2 2h14c1.1 0 2-.9 2-2V5c0-1.1-.9-2-2-2zM9 17H7v-7h2v7zm4 0h-2V7h2v10zm4 0h-2v-4h2v4z\"/>\n",
              "    </g>\n",
              "</svg>\n",
              "  </button>\n",
              "\n",
              "<style>\n",
              "  .colab-df-quickchart {\n",
              "      --bg-color: #E8F0FE;\n",
              "      --fill-color: #1967D2;\n",
              "      --hover-bg-color: #E2EBFA;\n",
              "      --hover-fill-color: #174EA6;\n",
              "      --disabled-fill-color: #AAA;\n",
              "      --disabled-bg-color: #DDD;\n",
              "  }\n",
              "\n",
              "  [theme=dark] .colab-df-quickchart {\n",
              "      --bg-color: #3B4455;\n",
              "      --fill-color: #D2E3FC;\n",
              "      --hover-bg-color: #434B5C;\n",
              "      --hover-fill-color: #FFFFFF;\n",
              "      --disabled-bg-color: #3B4455;\n",
              "      --disabled-fill-color: #666;\n",
              "  }\n",
              "\n",
              "  .colab-df-quickchart {\n",
              "    background-color: var(--bg-color);\n",
              "    border: none;\n",
              "    border-radius: 50%;\n",
              "    cursor: pointer;\n",
              "    display: none;\n",
              "    fill: var(--fill-color);\n",
              "    height: 32px;\n",
              "    padding: 0;\n",
              "    width: 32px;\n",
              "  }\n",
              "\n",
              "  .colab-df-quickchart:hover {\n",
              "    background-color: var(--hover-bg-color);\n",
              "    box-shadow: 0 1px 2px rgba(60, 64, 67, 0.3), 0 1px 3px 1px rgba(60, 64, 67, 0.15);\n",
              "    fill: var(--button-hover-fill-color);\n",
              "  }\n",
              "\n",
              "  .colab-df-quickchart-complete:disabled,\n",
              "  .colab-df-quickchart-complete:disabled:hover {\n",
              "    background-color: var(--disabled-bg-color);\n",
              "    fill: var(--disabled-fill-color);\n",
              "    box-shadow: none;\n",
              "  }\n",
              "\n",
              "  .colab-df-spinner {\n",
              "    border: 2px solid var(--fill-color);\n",
              "    border-color: transparent;\n",
              "    border-bottom-color: var(--fill-color);\n",
              "    animation:\n",
              "      spin 1s steps(1) infinite;\n",
              "  }\n",
              "\n",
              "  @keyframes spin {\n",
              "    0% {\n",
              "      border-color: transparent;\n",
              "      border-bottom-color: var(--fill-color);\n",
              "      border-left-color: var(--fill-color);\n",
              "    }\n",
              "    20% {\n",
              "      border-color: transparent;\n",
              "      border-left-color: var(--fill-color);\n",
              "      border-top-color: var(--fill-color);\n",
              "    }\n",
              "    30% {\n",
              "      border-color: transparent;\n",
              "      border-left-color: var(--fill-color);\n",
              "      border-top-color: var(--fill-color);\n",
              "      border-right-color: var(--fill-color);\n",
              "    }\n",
              "    40% {\n",
              "      border-color: transparent;\n",
              "      border-right-color: var(--fill-color);\n",
              "      border-top-color: var(--fill-color);\n",
              "    }\n",
              "    60% {\n",
              "      border-color: transparent;\n",
              "      border-right-color: var(--fill-color);\n",
              "    }\n",
              "    80% {\n",
              "      border-color: transparent;\n",
              "      border-right-color: var(--fill-color);\n",
              "      border-bottom-color: var(--fill-color);\n",
              "    }\n",
              "    90% {\n",
              "      border-color: transparent;\n",
              "      border-bottom-color: var(--fill-color);\n",
              "    }\n",
              "  }\n",
              "</style>\n",
              "\n",
              "  <script>\n",
              "    async function quickchart(key) {\n",
              "      const quickchartButtonEl =\n",
              "        document.querySelector('#' + key + ' button');\n",
              "      quickchartButtonEl.disabled = true;  // To prevent multiple clicks.\n",
              "      quickchartButtonEl.classList.add('colab-df-spinner');\n",
              "      try {\n",
              "        const charts = await google.colab.kernel.invokeFunction(\n",
              "            'suggestCharts', [key], {});\n",
              "      } catch (error) {\n",
              "        console.error('Error during call to suggestCharts:', error);\n",
              "      }\n",
              "      quickchartButtonEl.classList.remove('colab-df-spinner');\n",
              "      quickchartButtonEl.classList.add('colab-df-quickchart-complete');\n",
              "    }\n",
              "    (() => {\n",
              "      let quickchartButtonEl =\n",
              "        document.querySelector('#df-a7ccbfee-c305-497f-929b-4a61c2c6d8b8 button');\n",
              "      quickchartButtonEl.style.display =\n",
              "        google.colab.kernel.accessAllowed ? 'block' : 'none';\n",
              "    })();\n",
              "  </script>\n",
              "</div>\n",
              "\n",
              "    </div>\n",
              "  </div>\n"
            ],
            "application/vnd.google.colaboratory.intrinsic+json": {
              "type": "dataframe",
              "variable_name": "data",
              "summary": "{\n  \"name\": \"data\",\n  \"rows\": 610,\n  \"fields\": [\n    {\n      \"column\": \"instant\",\n      \"properties\": {\n        \"dtype\": \"number\",\n        \"std\": 176,\n        \"min\": 1,\n        \"max\": 610,\n        \"num_unique_values\": 610,\n        \"samples\": [\n          82,\n          219,\n          56\n        ],\n        \"semantic_type\": \"\",\n        \"description\": \"\"\n      }\n    },\n    {\n      \"column\": \"dteday\",\n      \"properties\": {\n        \"dtype\": \"date\",\n        \"min\": \"2011-01-01 00:00:00\",\n        \"max\": \"2011-01-28 00:00:00\",\n        \"num_unique_values\": 28,\n        \"samples\": [\n          \"2011-01-10 00:00:00\",\n          \"2011-01-26 00:00:00\",\n          \"2011-01-09 00:00:00\"\n        ],\n        \"semantic_type\": \"\",\n        \"description\": \"\"\n      }\n    },\n    {\n      \"column\": \"season\",\n      \"properties\": {\n        \"dtype\": \"number\",\n        \"std\": 0,\n        \"min\": 1,\n        \"max\": 1,\n        \"num_unique_values\": 1,\n        \"samples\": [\n          1\n        ],\n        \"semantic_type\": \"\",\n        \"description\": \"\"\n      }\n    },\n    {\n      \"column\": \"yr\",\n      \"properties\": {\n        \"dtype\": \"number\",\n        \"std\": 0,\n        \"min\": 0,\n        \"max\": 0,\n        \"num_unique_values\": 1,\n        \"samples\": [\n          0\n        ],\n        \"semantic_type\": \"\",\n        \"description\": \"\"\n      }\n    },\n    {\n      \"column\": \"mnth\",\n      \"properties\": {\n        \"dtype\": \"number\",\n        \"std\": 0,\n        \"min\": 1,\n        \"max\": 1,\n        \"num_unique_values\": 1,\n        \"samples\": [\n          1\n        ],\n        \"semantic_type\": \"\",\n        \"description\": \"\"\n      }\n    },\n    {\n      \"column\": \"hr\",\n      \"properties\": {\n        \"dtype\": \"number\",\n        \"std\": 6,\n        \"min\": 0,\n        \"max\": 23,\n        \"num_unique_values\": 24,\n        \"samples\": [\n          8\n        ],\n        \"semantic_type\": \"\",\n        \"description\": \"\"\n      }\n    },\n    {\n      \"column\": \"holiday\",\n      \"properties\": {\n        \"dtype\": \"boolean\",\n        \"num_unique_values\": 2,\n        \"samples\": [\n          true\n        ],\n        \"semantic_type\": \"\",\n        \"description\": \"\"\n      }\n    },\n    {\n      \"column\": \"weekday\",\n      \"properties\": {\n        \"dtype\": \"number\",\n        \"std\": 2,\n        \"min\": 0,\n        \"max\": 6,\n        \"num_unique_values\": 7,\n        \"samples\": [\n          6\n        ],\n        \"semantic_type\": \"\",\n        \"description\": \"\"\n      }\n    },\n    {\n      \"column\": \"weathersit\",\n      \"properties\": {\n        \"dtype\": \"number\",\n        \"std\": 0,\n        \"min\": 1,\n        \"max\": 4,\n        \"num_unique_values\": 4,\n        \"samples\": [\n          2\n        ],\n        \"semantic_type\": \"\",\n        \"description\": \"\"\n      }\n    },\n    {\n      \"column\": \"temp\",\n      \"properties\": {\n        \"dtype\": \"number\",\n        \"std\": 0.0813038450326841,\n        \"min\": 0.02,\n        \"max\": 0.46,\n        \"num_unique_values\": 23,\n        \"samples\": [\n          0.18\n        ],\n        \"semantic_type\": \"\",\n        \"description\": \"\"\n      }\n    }\n  ]\n}"
            }
          },
          "metadata": {},
          "execution_count": 21
        }
      ]
    },
    {
      "cell_type": "code",
      "source": [
        "#Renaming the columns\n",
        "\n",
        "Headers = [\"S_no\", 'date', 'season', 'yr', 'month', 'hr', 'holiday', 'weekday', 'weathersit', 'temp']\n",
        "data.columns = Headers\n",
        "print(data)"
      ],
      "metadata": {
        "colab": {
          "base_uri": "https://localhost:8080/"
        },
        "id": "n7LTxznu-JOX",
        "outputId": "7a42fa2b-1b90-412d-f0e8-17b73f80f526"
      },
      "execution_count": 22,
      "outputs": [
        {
          "output_type": "stream",
          "name": "stdout",
          "text": [
            "     S_no       date  season  yr  month  hr  holiday  weekday  weathersit  \\\n",
            "0       1 2011-01-01       1   0      1   0    False        6           1   \n",
            "1       2 2011-01-01       1   0      1   1    False        6           1   \n",
            "2       3 2011-01-01       1   0      1   2    False        6           1   \n",
            "3       4 2011-01-01       1   0      1   3    False        6           1   \n",
            "4       5 2011-01-01       1   0      1   4    False        6           1   \n",
            "..    ...        ...     ...  ..    ...  ..      ...      ...         ...   \n",
            "605   606 2011-01-28       1   0      1  11    False        5           3   \n",
            "606   607 2011-01-28       1   0      1  12    False        5           3   \n",
            "607   608 2011-01-28       1   0      1  13    False        5           3   \n",
            "608   609 2011-01-28       1   0      1  14    False        5           3   \n",
            "609   610 2011-01-28       1   0      1  15    False        5           2   \n",
            "\n",
            "     temp  \n",
            "0    0.24  \n",
            "1    0.22  \n",
            "2    0.22  \n",
            "3    0.24  \n",
            "4    0.24  \n",
            "..    ...  \n",
            "605  0.18  \n",
            "606  0.18  \n",
            "607  0.18  \n",
            "608  0.22  \n",
            "609  0.20  \n",
            "\n",
            "[610 rows x 10 columns]\n"
          ]
        }
      ]
    },
    {
      "cell_type": "code",
      "source": [
        "#Finding the dimension of the dataset1\n",
        "\n",
        "data.shape"
      ],
      "metadata": {
        "id": "f_oFVAGO_Zrv",
        "colab": {
          "base_uri": "https://localhost:8080/"
        },
        "outputId": "6a3f4302-5948-4705-faa1-267da6e4c45c"
      },
      "execution_count": 23,
      "outputs": [
        {
          "output_type": "execute_result",
          "data": {
            "text/plain": [
              "(610, 10)"
            ]
          },
          "metadata": {},
          "execution_count": 23
        }
      ]
    },
    {
      "cell_type": "code",
      "source": [
        "#data types present in the dataset 1\n",
        "\n",
        "\n",
        "data.dtypes"
      ],
      "metadata": {
        "colab": {
          "base_uri": "https://localhost:8080/"
        },
        "id": "KJeNhCh5PJRC",
        "outputId": "55bb1c83-ec77-4e54-f832-54c741059539"
      },
      "execution_count": 24,
      "outputs": [
        {
          "output_type": "execute_result",
          "data": {
            "text/plain": [
              "S_no                   int64\n",
              "date          datetime64[ns]\n",
              "season                 int64\n",
              "yr                     int64\n",
              "month                  int64\n",
              "hr                     int64\n",
              "holiday                 bool\n",
              "weekday                int64\n",
              "weathersit             int64\n",
              "temp                 float64\n",
              "dtype: object"
            ]
          },
          "metadata": {},
          "execution_count": 24
        }
      ]
    },
    {
      "cell_type": "code",
      "source": [
        "#Finding Unique values in dataset1 - date\n",
        "\n",
        "data.date.unique()"
      ],
      "metadata": {
        "colab": {
          "base_uri": "https://localhost:8080/"
        },
        "id": "c2d1aAMnPLXj",
        "outputId": "7f3ab866-b718-4797-cbbc-66e4d748da94"
      },
      "execution_count": 25,
      "outputs": [
        {
          "output_type": "execute_result",
          "data": {
            "text/plain": [
              "<DatetimeArray>\n",
              "['2011-01-01 00:00:00', '2011-01-02 00:00:00', '2011-01-03 00:00:00',\n",
              " '2011-01-04 00:00:00', '2011-01-05 00:00:00', '2011-01-06 00:00:00',\n",
              " '2011-01-07 00:00:00', '2011-01-08 00:00:00', '2011-01-09 00:00:00',\n",
              " '2011-01-10 00:00:00', '2011-01-11 00:00:00', '2011-01-12 00:00:00',\n",
              " '2011-01-13 00:00:00', '2011-01-14 00:00:00', '2011-01-15 00:00:00',\n",
              " '2011-01-16 00:00:00', '2011-01-17 00:00:00', '2011-01-18 00:00:00',\n",
              " '2011-01-19 00:00:00', '2011-01-20 00:00:00', '2011-01-21 00:00:00',\n",
              " '2011-01-22 00:00:00', '2011-01-23 00:00:00', '2011-01-24 00:00:00',\n",
              " '2011-01-25 00:00:00', '2011-01-26 00:00:00', '2011-01-27 00:00:00',\n",
              " '2011-01-28 00:00:00']\n",
              "Length: 28, dtype: datetime64[ns]"
            ]
          },
          "metadata": {},
          "execution_count": 25
        }
      ]
    },
    {
      "cell_type": "code",
      "source": [
        "#Finding Unique values in dataset1 - season\n",
        "\n",
        "data.season.unique()"
      ],
      "metadata": {
        "colab": {
          "base_uri": "https://localhost:8080/"
        },
        "id": "WbhPWNceP44j",
        "outputId": "0de766bc-10a6-467d-cbe5-93f2841fb945"
      },
      "execution_count": 26,
      "outputs": [
        {
          "output_type": "execute_result",
          "data": {
            "text/plain": [
              "array([1])"
            ]
          },
          "metadata": {},
          "execution_count": 26
        }
      ]
    },
    {
      "cell_type": "code",
      "source": [
        "#Finding Unique values in dataset1 - yr\n",
        "\n",
        "data.yr.unique()"
      ],
      "metadata": {
        "colab": {
          "base_uri": "https://localhost:8080/"
        },
        "id": "sGWiO42kKe9F",
        "outputId": "36e84c21-c80b-42a3-b613-fb88bb1b3afe"
      },
      "execution_count": 27,
      "outputs": [
        {
          "output_type": "execute_result",
          "data": {
            "text/plain": [
              "array([0])"
            ]
          },
          "metadata": {},
          "execution_count": 27
        }
      ]
    },
    {
      "cell_type": "code",
      "source": [
        "#Finding Unique values in dataset1 - month\n",
        "\n",
        "data.month.unique()"
      ],
      "metadata": {
        "colab": {
          "base_uri": "https://localhost:8080/"
        },
        "id": "n7-XnsXvLQ_R",
        "outputId": "78cca009-140f-43f6-8e15-91aca428ffce"
      },
      "execution_count": 28,
      "outputs": [
        {
          "output_type": "execute_result",
          "data": {
            "text/plain": [
              "array([1])"
            ]
          },
          "metadata": {},
          "execution_count": 28
        }
      ]
    },
    {
      "cell_type": "code",
      "source": [
        "#Finding Unique values in dataset1 - hr\n",
        "\n",
        "data.hr.unique()"
      ],
      "metadata": {
        "colab": {
          "base_uri": "https://localhost:8080/"
        },
        "id": "tvBKj5tfLa8Y",
        "outputId": "b910b3d9-2a8a-46ce-eea4-a09a171b0566"
      },
      "execution_count": 29,
      "outputs": [
        {
          "output_type": "execute_result",
          "data": {
            "text/plain": [
              "array([ 0,  1,  2,  3,  4,  5,  6,  7,  8,  9, 10, 11, 12, 13, 14, 15, 16,\n",
              "       17, 18, 19, 20, 21, 22, 23])"
            ]
          },
          "metadata": {},
          "execution_count": 29
        }
      ]
    },
    {
      "cell_type": "code",
      "source": [
        "#Finding Unique values in dataset1 - Holiday\n",
        "\n",
        "data.holiday.unique()"
      ],
      "metadata": {
        "colab": {
          "base_uri": "https://localhost:8080/"
        },
        "id": "rJUHbESEQB6A",
        "outputId": "404d4442-0e70-4a4d-ec3a-e9cba39892cc"
      },
      "execution_count": 30,
      "outputs": [
        {
          "output_type": "execute_result",
          "data": {
            "text/plain": [
              "array([False,  True])"
            ]
          },
          "metadata": {},
          "execution_count": 30
        }
      ]
    },
    {
      "cell_type": "code",
      "source": [
        "#Finding Unique values in dataset1 - weekday\n",
        "\n",
        "data.weekday.unique()"
      ],
      "metadata": {
        "colab": {
          "base_uri": "https://localhost:8080/"
        },
        "id": "tqChSJoPLjPL",
        "outputId": "b4a892eb-fd2c-488e-eb67-5a4433ab09eb"
      },
      "execution_count": 31,
      "outputs": [
        {
          "output_type": "execute_result",
          "data": {
            "text/plain": [
              "array([6, 0, 1, 2, 3, 4, 5])"
            ]
          },
          "metadata": {},
          "execution_count": 31
        }
      ]
    },
    {
      "cell_type": "code",
      "source": [
        "#Finding Unique values in dataset1 - weathersit\n",
        "\n",
        "data.weathersit.unique()"
      ],
      "metadata": {
        "colab": {
          "base_uri": "https://localhost:8080/"
        },
        "id": "fwwkDMciQwQw",
        "outputId": "59d3f74a-fddd-418d-80ed-eb40946d68e7"
      },
      "execution_count": null,
      "outputs": [
        {
          "output_type": "execute_result",
          "data": {
            "text/plain": [
              "array([1, 2, 3, 4])"
            ]
          },
          "metadata": {},
          "execution_count": 15
        }
      ]
    },
    {
      "cell_type": "code",
      "source": [
        "#Finding Unique values in dataset1 - temp\n",
        "\n",
        "data.temp.unique()"
      ],
      "metadata": {
        "colab": {
          "base_uri": "https://localhost:8080/"
        },
        "id": "O6T-q1vpQ60u",
        "outputId": "dd66cc6b-79b9-4b56-f4ac-47f84f9ba3cc"
      },
      "execution_count": 32,
      "outputs": [
        {
          "output_type": "execute_result",
          "data": {
            "text/plain": [
              "array([0.24, 0.22, 0.2 , 0.32, 0.38, 0.36, 0.42, 0.46, 0.44, 0.4 , 0.34,\n",
              "       0.3 , 0.26, 0.16, 0.14, 0.18, 0.12, 0.28, 0.1 , 0.08, 0.06, 0.04,\n",
              "       0.02])"
            ]
          },
          "metadata": {},
          "execution_count": 32
        }
      ]
    },
    {
      "cell_type": "markdown",
      "source": [
        "## There is no missing value in the data set 1 hence going forward with checking the central tendency, correlation and skewness of the data"
      ],
      "metadata": {
        "id": "7_8VDgbIMipw"
      }
    },
    {
      "cell_type": "code",
      "source": [
        "data.describe()"
      ],
      "metadata": {
        "colab": {
          "base_uri": "https://localhost:8080/",
          "height": 300
        },
        "id": "6dtP_Q7tMqn1",
        "outputId": "4906bcdc-d0ae-4f7e-e681-87c6b5001eef"
      },
      "execution_count": 33,
      "outputs": [
        {
          "output_type": "execute_result",
          "data": {
            "text/plain": [
              "             S_no                           date  season     yr  month  \\\n",
              "count  610.000000                            610   610.0  610.0  610.0   \n",
              "mean   305.500000  2011-01-13 19:47:24.590163968     1.0    0.0    1.0   \n",
              "min      1.000000            2011-01-01 00:00:00     1.0    0.0    1.0   \n",
              "25%    153.250000            2011-01-07 00:00:00     1.0    0.0    1.0   \n",
              "50%    305.500000            2011-01-14 00:00:00     1.0    0.0    1.0   \n",
              "75%    457.750000            2011-01-21 00:00:00     1.0    0.0    1.0   \n",
              "max    610.000000            2011-01-28 00:00:00     1.0    0.0    1.0   \n",
              "std    176.236111                            NaN     0.0    0.0    0.0   \n",
              "\n",
              "               hr     weekday  weathersit        temp  \n",
              "count  610.000000  610.000000  610.000000  610.000000  \n",
              "mean    11.795082    2.977049    1.477049    0.196885  \n",
              "min      0.000000    0.000000    1.000000    0.020000  \n",
              "25%      6.000000    1.000000    1.000000    0.160000  \n",
              "50%     12.000000    3.000000    1.000000    0.200000  \n",
              "75%     18.000000    5.000000    2.000000    0.235000  \n",
              "max     23.000000    6.000000    4.000000    0.460000  \n",
              "std      6.852107    2.054943    0.643496    0.081304  "
            ],
            "text/html": [
              "\n",
              "  <div id=\"df-55064825-8148-4401-89d5-9abcabfc99a3\" class=\"colab-df-container\">\n",
              "    <div>\n",
              "<style scoped>\n",
              "    .dataframe tbody tr th:only-of-type {\n",
              "        vertical-align: middle;\n",
              "    }\n",
              "\n",
              "    .dataframe tbody tr th {\n",
              "        vertical-align: top;\n",
              "    }\n",
              "\n",
              "    .dataframe thead th {\n",
              "        text-align: right;\n",
              "    }\n",
              "</style>\n",
              "<table border=\"1\" class=\"dataframe\">\n",
              "  <thead>\n",
              "    <tr style=\"text-align: right;\">\n",
              "      <th></th>\n",
              "      <th>S_no</th>\n",
              "      <th>date</th>\n",
              "      <th>season</th>\n",
              "      <th>yr</th>\n",
              "      <th>month</th>\n",
              "      <th>hr</th>\n",
              "      <th>weekday</th>\n",
              "      <th>weathersit</th>\n",
              "      <th>temp</th>\n",
              "    </tr>\n",
              "  </thead>\n",
              "  <tbody>\n",
              "    <tr>\n",
              "      <th>count</th>\n",
              "      <td>610.000000</td>\n",
              "      <td>610</td>\n",
              "      <td>610.0</td>\n",
              "      <td>610.0</td>\n",
              "      <td>610.0</td>\n",
              "      <td>610.000000</td>\n",
              "      <td>610.000000</td>\n",
              "      <td>610.000000</td>\n",
              "      <td>610.000000</td>\n",
              "    </tr>\n",
              "    <tr>\n",
              "      <th>mean</th>\n",
              "      <td>305.500000</td>\n",
              "      <td>2011-01-13 19:47:24.590163968</td>\n",
              "      <td>1.0</td>\n",
              "      <td>0.0</td>\n",
              "      <td>1.0</td>\n",
              "      <td>11.795082</td>\n",
              "      <td>2.977049</td>\n",
              "      <td>1.477049</td>\n",
              "      <td>0.196885</td>\n",
              "    </tr>\n",
              "    <tr>\n",
              "      <th>min</th>\n",
              "      <td>1.000000</td>\n",
              "      <td>2011-01-01 00:00:00</td>\n",
              "      <td>1.0</td>\n",
              "      <td>0.0</td>\n",
              "      <td>1.0</td>\n",
              "      <td>0.000000</td>\n",
              "      <td>0.000000</td>\n",
              "      <td>1.000000</td>\n",
              "      <td>0.020000</td>\n",
              "    </tr>\n",
              "    <tr>\n",
              "      <th>25%</th>\n",
              "      <td>153.250000</td>\n",
              "      <td>2011-01-07 00:00:00</td>\n",
              "      <td>1.0</td>\n",
              "      <td>0.0</td>\n",
              "      <td>1.0</td>\n",
              "      <td>6.000000</td>\n",
              "      <td>1.000000</td>\n",
              "      <td>1.000000</td>\n",
              "      <td>0.160000</td>\n",
              "    </tr>\n",
              "    <tr>\n",
              "      <th>50%</th>\n",
              "      <td>305.500000</td>\n",
              "      <td>2011-01-14 00:00:00</td>\n",
              "      <td>1.0</td>\n",
              "      <td>0.0</td>\n",
              "      <td>1.0</td>\n",
              "      <td>12.000000</td>\n",
              "      <td>3.000000</td>\n",
              "      <td>1.000000</td>\n",
              "      <td>0.200000</td>\n",
              "    </tr>\n",
              "    <tr>\n",
              "      <th>75%</th>\n",
              "      <td>457.750000</td>\n",
              "      <td>2011-01-21 00:00:00</td>\n",
              "      <td>1.0</td>\n",
              "      <td>0.0</td>\n",
              "      <td>1.0</td>\n",
              "      <td>18.000000</td>\n",
              "      <td>5.000000</td>\n",
              "      <td>2.000000</td>\n",
              "      <td>0.235000</td>\n",
              "    </tr>\n",
              "    <tr>\n",
              "      <th>max</th>\n",
              "      <td>610.000000</td>\n",
              "      <td>2011-01-28 00:00:00</td>\n",
              "      <td>1.0</td>\n",
              "      <td>0.0</td>\n",
              "      <td>1.0</td>\n",
              "      <td>23.000000</td>\n",
              "      <td>6.000000</td>\n",
              "      <td>4.000000</td>\n",
              "      <td>0.460000</td>\n",
              "    </tr>\n",
              "    <tr>\n",
              "      <th>std</th>\n",
              "      <td>176.236111</td>\n",
              "      <td>NaN</td>\n",
              "      <td>0.0</td>\n",
              "      <td>0.0</td>\n",
              "      <td>0.0</td>\n",
              "      <td>6.852107</td>\n",
              "      <td>2.054943</td>\n",
              "      <td>0.643496</td>\n",
              "      <td>0.081304</td>\n",
              "    </tr>\n",
              "  </tbody>\n",
              "</table>\n",
              "</div>\n",
              "    <div class=\"colab-df-buttons\">\n",
              "\n",
              "  <div class=\"colab-df-container\">\n",
              "    <button class=\"colab-df-convert\" onclick=\"convertToInteractive('df-55064825-8148-4401-89d5-9abcabfc99a3')\"\n",
              "            title=\"Convert this dataframe to an interactive table.\"\n",
              "            style=\"display:none;\">\n",
              "\n",
              "  <svg xmlns=\"http://www.w3.org/2000/svg\" height=\"24px\" viewBox=\"0 -960 960 960\">\n",
              "    <path d=\"M120-120v-720h720v720H120Zm60-500h600v-160H180v160Zm220 220h160v-160H400v160Zm0 220h160v-160H400v160ZM180-400h160v-160H180v160Zm440 0h160v-160H620v160ZM180-180h160v-160H180v160Zm440 0h160v-160H620v160Z\"/>\n",
              "  </svg>\n",
              "    </button>\n",
              "\n",
              "  <style>\n",
              "    .colab-df-container {\n",
              "      display:flex;\n",
              "      gap: 12px;\n",
              "    }\n",
              "\n",
              "    .colab-df-convert {\n",
              "      background-color: #E8F0FE;\n",
              "      border: none;\n",
              "      border-radius: 50%;\n",
              "      cursor: pointer;\n",
              "      display: none;\n",
              "      fill: #1967D2;\n",
              "      height: 32px;\n",
              "      padding: 0 0 0 0;\n",
              "      width: 32px;\n",
              "    }\n",
              "\n",
              "    .colab-df-convert:hover {\n",
              "      background-color: #E2EBFA;\n",
              "      box-shadow: 0px 1px 2px rgba(60, 64, 67, 0.3), 0px 1px 3px 1px rgba(60, 64, 67, 0.15);\n",
              "      fill: #174EA6;\n",
              "    }\n",
              "\n",
              "    .colab-df-buttons div {\n",
              "      margin-bottom: 4px;\n",
              "    }\n",
              "\n",
              "    [theme=dark] .colab-df-convert {\n",
              "      background-color: #3B4455;\n",
              "      fill: #D2E3FC;\n",
              "    }\n",
              "\n",
              "    [theme=dark] .colab-df-convert:hover {\n",
              "      background-color: #434B5C;\n",
              "      box-shadow: 0px 1px 3px 1px rgba(0, 0, 0, 0.15);\n",
              "      filter: drop-shadow(0px 1px 2px rgba(0, 0, 0, 0.3));\n",
              "      fill: #FFFFFF;\n",
              "    }\n",
              "  </style>\n",
              "\n",
              "    <script>\n",
              "      const buttonEl =\n",
              "        document.querySelector('#df-55064825-8148-4401-89d5-9abcabfc99a3 button.colab-df-convert');\n",
              "      buttonEl.style.display =\n",
              "        google.colab.kernel.accessAllowed ? 'block' : 'none';\n",
              "\n",
              "      async function convertToInteractive(key) {\n",
              "        const element = document.querySelector('#df-55064825-8148-4401-89d5-9abcabfc99a3');\n",
              "        const dataTable =\n",
              "          await google.colab.kernel.invokeFunction('convertToInteractive',\n",
              "                                                    [key], {});\n",
              "        if (!dataTable) return;\n",
              "\n",
              "        const docLinkHtml = 'Like what you see? Visit the ' +\n",
              "          '<a target=\"_blank\" href=https://colab.research.google.com/notebooks/data_table.ipynb>data table notebook</a>'\n",
              "          + ' to learn more about interactive tables.';\n",
              "        element.innerHTML = '';\n",
              "        dataTable['output_type'] = 'display_data';\n",
              "        await google.colab.output.renderOutput(dataTable, element);\n",
              "        const docLink = document.createElement('div');\n",
              "        docLink.innerHTML = docLinkHtml;\n",
              "        element.appendChild(docLink);\n",
              "      }\n",
              "    </script>\n",
              "  </div>\n",
              "\n",
              "\n",
              "<div id=\"df-8bb9670b-c812-44f5-92ca-56404075dbc7\">\n",
              "  <button class=\"colab-df-quickchart\" onclick=\"quickchart('df-8bb9670b-c812-44f5-92ca-56404075dbc7')\"\n",
              "            title=\"Suggest charts\"\n",
              "            style=\"display:none;\">\n",
              "\n",
              "<svg xmlns=\"http://www.w3.org/2000/svg\" height=\"24px\"viewBox=\"0 0 24 24\"\n",
              "     width=\"24px\">\n",
              "    <g>\n",
              "        <path d=\"M19 3H5c-1.1 0-2 .9-2 2v14c0 1.1.9 2 2 2h14c1.1 0 2-.9 2-2V5c0-1.1-.9-2-2-2zM9 17H7v-7h2v7zm4 0h-2V7h2v10zm4 0h-2v-4h2v4z\"/>\n",
              "    </g>\n",
              "</svg>\n",
              "  </button>\n",
              "\n",
              "<style>\n",
              "  .colab-df-quickchart {\n",
              "      --bg-color: #E8F0FE;\n",
              "      --fill-color: #1967D2;\n",
              "      --hover-bg-color: #E2EBFA;\n",
              "      --hover-fill-color: #174EA6;\n",
              "      --disabled-fill-color: #AAA;\n",
              "      --disabled-bg-color: #DDD;\n",
              "  }\n",
              "\n",
              "  [theme=dark] .colab-df-quickchart {\n",
              "      --bg-color: #3B4455;\n",
              "      --fill-color: #D2E3FC;\n",
              "      --hover-bg-color: #434B5C;\n",
              "      --hover-fill-color: #FFFFFF;\n",
              "      --disabled-bg-color: #3B4455;\n",
              "      --disabled-fill-color: #666;\n",
              "  }\n",
              "\n",
              "  .colab-df-quickchart {\n",
              "    background-color: var(--bg-color);\n",
              "    border: none;\n",
              "    border-radius: 50%;\n",
              "    cursor: pointer;\n",
              "    display: none;\n",
              "    fill: var(--fill-color);\n",
              "    height: 32px;\n",
              "    padding: 0;\n",
              "    width: 32px;\n",
              "  }\n",
              "\n",
              "  .colab-df-quickchart:hover {\n",
              "    background-color: var(--hover-bg-color);\n",
              "    box-shadow: 0 1px 2px rgba(60, 64, 67, 0.3), 0 1px 3px 1px rgba(60, 64, 67, 0.15);\n",
              "    fill: var(--button-hover-fill-color);\n",
              "  }\n",
              "\n",
              "  .colab-df-quickchart-complete:disabled,\n",
              "  .colab-df-quickchart-complete:disabled:hover {\n",
              "    background-color: var(--disabled-bg-color);\n",
              "    fill: var(--disabled-fill-color);\n",
              "    box-shadow: none;\n",
              "  }\n",
              "\n",
              "  .colab-df-spinner {\n",
              "    border: 2px solid var(--fill-color);\n",
              "    border-color: transparent;\n",
              "    border-bottom-color: var(--fill-color);\n",
              "    animation:\n",
              "      spin 1s steps(1) infinite;\n",
              "  }\n",
              "\n",
              "  @keyframes spin {\n",
              "    0% {\n",
              "      border-color: transparent;\n",
              "      border-bottom-color: var(--fill-color);\n",
              "      border-left-color: var(--fill-color);\n",
              "    }\n",
              "    20% {\n",
              "      border-color: transparent;\n",
              "      border-left-color: var(--fill-color);\n",
              "      border-top-color: var(--fill-color);\n",
              "    }\n",
              "    30% {\n",
              "      border-color: transparent;\n",
              "      border-left-color: var(--fill-color);\n",
              "      border-top-color: var(--fill-color);\n",
              "      border-right-color: var(--fill-color);\n",
              "    }\n",
              "    40% {\n",
              "      border-color: transparent;\n",
              "      border-right-color: var(--fill-color);\n",
              "      border-top-color: var(--fill-color);\n",
              "    }\n",
              "    60% {\n",
              "      border-color: transparent;\n",
              "      border-right-color: var(--fill-color);\n",
              "    }\n",
              "    80% {\n",
              "      border-color: transparent;\n",
              "      border-right-color: var(--fill-color);\n",
              "      border-bottom-color: var(--fill-color);\n",
              "    }\n",
              "    90% {\n",
              "      border-color: transparent;\n",
              "      border-bottom-color: var(--fill-color);\n",
              "    }\n",
              "  }\n",
              "</style>\n",
              "\n",
              "  <script>\n",
              "    async function quickchart(key) {\n",
              "      const quickchartButtonEl =\n",
              "        document.querySelector('#' + key + ' button');\n",
              "      quickchartButtonEl.disabled = true;  // To prevent multiple clicks.\n",
              "      quickchartButtonEl.classList.add('colab-df-spinner');\n",
              "      try {\n",
              "        const charts = await google.colab.kernel.invokeFunction(\n",
              "            'suggestCharts', [key], {});\n",
              "      } catch (error) {\n",
              "        console.error('Error during call to suggestCharts:', error);\n",
              "      }\n",
              "      quickchartButtonEl.classList.remove('colab-df-spinner');\n",
              "      quickchartButtonEl.classList.add('colab-df-quickchart-complete');\n",
              "    }\n",
              "    (() => {\n",
              "      let quickchartButtonEl =\n",
              "        document.querySelector('#df-8bb9670b-c812-44f5-92ca-56404075dbc7 button');\n",
              "      quickchartButtonEl.style.display =\n",
              "        google.colab.kernel.accessAllowed ? 'block' : 'none';\n",
              "    })();\n",
              "  </script>\n",
              "</div>\n",
              "\n",
              "    </div>\n",
              "  </div>\n"
            ],
            "application/vnd.google.colaboratory.intrinsic+json": {
              "type": "dataframe",
              "summary": "{\n  \"name\": \"data\",\n  \"rows\": 8,\n  \"fields\": [\n    {\n      \"column\": \"S_no\",\n      \"properties\": {\n        \"dtype\": \"number\",\n        \"std\": 219.54224009661357,\n        \"min\": 1.0,\n        \"max\": 610.0,\n        \"num_unique_values\": 6,\n        \"samples\": [\n          610.0,\n          305.5,\n          176.23611056383044\n        ],\n        \"semantic_type\": \"\",\n        \"description\": \"\"\n      }\n    },\n    {\n      \"column\": \"date\",\n      \"properties\": {\n        \"dtype\": \"date\",\n        \"min\": \"1970-01-01 00:00:00.000000610\",\n        \"max\": \"2011-01-28 00:00:00\",\n        \"num_unique_values\": 7,\n        \"samples\": [\n          \"610\",\n          \"2011-01-13 19:47:24.590163968\",\n          \"2011-01-21 00:00:00\"\n        ],\n        \"semantic_type\": \"\",\n        \"description\": \"\"\n      }\n    },\n    {\n      \"column\": \"season\",\n      \"properties\": {\n        \"dtype\": \"number\",\n        \"std\": 215.3648067814238,\n        \"min\": 0.0,\n        \"max\": 610.0,\n        \"num_unique_values\": 3,\n        \"samples\": [\n          610.0,\n          1.0,\n          0.0\n        ],\n        \"semantic_type\": \"\",\n        \"description\": \"\"\n      }\n    },\n    {\n      \"column\": \"yr\",\n      \"properties\": {\n        \"dtype\": \"number\",\n        \"std\": 215.667568261897,\n        \"min\": 0.0,\n        \"max\": 610.0,\n        \"num_unique_values\": 2,\n        \"samples\": [\n          0.0,\n          610.0\n        ],\n        \"semantic_type\": \"\",\n        \"description\": \"\"\n      }\n    },\n    {\n      \"column\": \"month\",\n      \"properties\": {\n        \"dtype\": \"number\",\n        \"std\": 215.3648067814238,\n        \"min\": 0.0,\n        \"max\": 610.0,\n        \"num_unique_values\": 3,\n        \"samples\": [\n          610.0,\n          1.0\n        ],\n        \"semantic_type\": \"\",\n        \"description\": \"\"\n      }\n    },\n    {\n      \"column\": \"hr\",\n      \"properties\": {\n        \"dtype\": \"number\",\n        \"std\": 211.86644824838376,\n        \"min\": 0.0,\n        \"max\": 610.0,\n        \"num_unique_values\": 8,\n        \"samples\": [\n          11.795081967213115,\n          18.0\n        ],\n        \"semantic_type\": \"\",\n        \"description\": \"\"\n      }\n    },\n    {\n      \"column\": \"weekday\",\n      \"properties\": {\n        \"dtype\": \"number\",\n        \"std\": 214.66470425473682,\n        \"min\": 0.0,\n        \"max\": 610.0,\n        \"num_unique_values\": 8,\n        \"samples\": [\n          2.9770491803278687,\n          5.0\n        ],\n        \"semantic_type\": \"\",\n        \"description\": \"\"\n      }\n    },\n    {\n      \"column\": \"weathersit\",\n      \"properties\": {\n        \"dtype\": \"number\",\n        \"std\": 215.10852887913128,\n        \"min\": 0.6434955450201184,\n        \"max\": 610.0,\n        \"num_unique_values\": 6,\n        \"samples\": [\n          610.0,\n          1.477049180327869\n        ],\n        \"semantic_type\": \"\",\n        \"description\": \"\"\n      }\n    },\n    {\n      \"column\": \"temp\",\n      \"properties\": {\n        \"dtype\": \"number\",\n        \"std\": 215.5992605250565,\n        \"min\": 0.02,\n        \"max\": 610.0,\n        \"num_unique_values\": 8,\n        \"samples\": [\n          0.19688524590163933,\n          0.235\n        ],\n        \"semantic_type\": \"\",\n        \"description\": \"\"\n      }\n    }\n  ]\n}"
            }
          },
          "metadata": {},
          "execution_count": 33
        }
      ]
    },
    {
      "cell_type": "code",
      "source": [
        "#Finding the Median for all the columns inthe dataset 1 - for knowing the central tendency\n",
        "\n",
        "median_date = data['date'].median()\n",
        "median_season = data['season'].median()\n",
        "median_yr  = data['yr'].median()\n",
        "median_month  = data['month'].median()\n",
        "median_hr  = data['hr'].median()\n",
        "median_holiday  = data['holiday'].median()\n",
        "median_weekday  = data['weekday'].median()\n",
        "median_temp  = data['temp'].median()\n",
        "median_weathersit  = data['weathersit'].median()\n",
        "\n",
        "\n",
        "print(\"Median of the month :\", median_month)\n",
        "print(\"Median of the date :\", median_date)\n",
        "print(\"Median of the season :\", median_season)\n",
        "print(\"Median of the Year :\", median_yr)\n",
        "print(\"Median of the Hour :\", median_hr)\n",
        "print(\"Median of the Holiday :\", median_holiday)\n",
        "print(\"Median of the Week day :\", median_weekday)\n",
        "print(\"Median of the Temperature :\", median_temp)\n",
        "print(\"Median of the Weather situation :\", median_weathersit)"
      ],
      "metadata": {
        "colab": {
          "base_uri": "https://localhost:8080/"
        },
        "id": "wwNs3N5kM6sa",
        "outputId": "f54775fd-f459-4b14-bc52-b4d9b96330eb"
      },
      "execution_count": 36,
      "outputs": [
        {
          "output_type": "stream",
          "name": "stdout",
          "text": [
            "Median of the month : 1.0\n",
            "Median of the date : 2011-01-14 00:00:00\n",
            "Median of the season : 1.0\n",
            "Median of the Year : 0.0\n",
            "Median of the Hour : 12.0\n",
            "Median of the Holiday : 0.0\n",
            "Median of the Week day : 3.0\n",
            "Median of the Temperature : 0.2\n",
            "Median of the Weather situation : 1.0\n"
          ]
        }
      ]
    },
    {
      "cell_type": "code",
      "source": [
        "#Finding the Mode for all the columns inthe dataset 1 - for knowing the central tendency\n",
        "\n",
        "mode_date = data['date'].mode()\n",
        "mode_season = data['season'].mode()\n",
        "mode_yr  = data['yr'].mode()\n",
        "mode_month  = data['month'].mode()\n",
        "mode_hr  = data['hr'].mode()\n",
        "mode_holiday  = data['holiday'].mode()\n",
        "mode_weekday  = data['weekday'].mode()\n",
        "mode_temp  = data['temp'].mode()\n",
        "mode_weathersit  = data['weathersit'].mode()\n",
        "\n",
        "\n",
        "print(\"Mode of the month :\", mode_month)\n",
        "print(\"Mode of the date :\", mode_date)\n",
        "print(\"Mode of the season :\", mode_season)\n",
        "print(\"Mode of the Year :\", mode_yr)\n",
        "print(\"Mode of the Hour :\", mode_hr)\n",
        "print(\"Mode of the Holiday :\", mode_holiday)\n",
        "print(\"Mode of the Week day :\", mode_weekday)\n",
        "print(\"Mode of the Temperature :\", mode_temp)\n",
        "print(\"Mode of the Weather situation :\", mode_weathersit)"
      ],
      "metadata": {
        "colab": {
          "base_uri": "https://localhost:8080/"
        },
        "id": "AINnPbadOIIA",
        "outputId": "5bf12931-a47d-4e7d-e804-23fd9c399a64"
      },
      "execution_count": 35,
      "outputs": [
        {
          "output_type": "stream",
          "name": "stdout",
          "text": [
            "Mode of the month : 0    1\n",
            "Name: month, dtype: int64\n",
            "Mode of the date : 0   2011-01-01\n",
            "1   2011-01-08\n",
            "2   2011-01-09\n",
            "3   2011-01-10\n",
            "4   2011-01-13\n",
            "5   2011-01-15\n",
            "6   2011-01-16\n",
            "7   2011-01-17\n",
            "8   2011-01-20\n",
            "9   2011-01-21\n",
            "Name: date, dtype: datetime64[ns]\n",
            "Mode of the season : 0    1\n",
            "Name: season, dtype: int64\n",
            "Mode of the Year : 0    0\n",
            "Name: yr, dtype: int64\n",
            "Mode of the Hour : 0    12\n",
            "1    13\n",
            "2    14\n",
            "3    15\n",
            "4    16\n",
            "5    17\n",
            "Name: hr, dtype: int64\n",
            "Mode of the Holiday : 0    False\n",
            "Name: holiday, dtype: bool\n",
            "Mode of the Week day : 0    6\n",
            "Name: weekday, dtype: int64\n",
            "Mode of the Temperature : 0    0.2\n",
            "Name: temp, dtype: float64\n",
            "Mode of the Weather situation : 0    1\n",
            "Name: weathersit, dtype: int64\n"
          ]
        }
      ]
    },
    {
      "cell_type": "code",
      "source": [
        "#Finding the skewness in the dataset 1\n",
        "\n",
        "\n",
        "\n",
        "skew_season = data['season'].skew()\n",
        "skew_month  = data['month'].skew()\n",
        "skew_hr  = data['hr'].skew()\n",
        "skew_holiday  = data['holiday'].skew()\n",
        "skew_weekday  = data['weekday'].skew()\n",
        "skew_temp  = data['temp'].skew()\n",
        "skew_weathersit  = data['weathersit'].skew()\n",
        "\n",
        "print(\"Skew of the month :\", skew_month)\n",
        "print(\"Skew of the season :\", skew_season)\n",
        "print(\"Skew of the Hour :\", skew_hr)\n",
        "print(\"Skew of the Holiday :\", skew_holiday)\n",
        "print(\"Skew of the Week day :\", skew_weekday)\n",
        "print(\"Skew of the Temperature :\", skew_temp)\n",
        "print(\"Skew of the Weather situation :\", skew_weathersit)"
      ],
      "metadata": {
        "colab": {
          "base_uri": "https://localhost:8080/"
        },
        "id": "rIScISXrUUVJ",
        "outputId": "710a4a64-addd-473e-b389-aed3b0e1bd62"
      },
      "execution_count": 34,
      "outputs": [
        {
          "output_type": "stream",
          "name": "stdout",
          "text": [
            "Skew of the month : 0\n",
            "Skew of the season : 0\n",
            "Skew of the Hour : -0.07205891940732706\n",
            "Skew of the Holiday : 4.750637266440773\n",
            "Skew of the Week day : 0.02640311025011482\n",
            "Skew of the Temperature : 0.6650867915670247\n",
            "Skew of the Weather situation : 1.050244188891752\n"
          ]
        }
      ]
    },
    {
      "cell_type": "markdown",
      "source": [
        "## From the above data we can understnd that except for hour columns every category of the data is right skewed while the hour column is left skewed"
      ],
      "metadata": {
        "id": "3u2j4M0iWEzI"
      }
    },
    {
      "cell_type": "code",
      "source": [
        "#Finding correlation of the data in the dataset 1\n",
        "\n",
        "Correlation_data = data.corr()\n",
        "print(Correlation_data)"
      ],
      "metadata": {
        "colab": {
          "base_uri": "https://localhost:8080/"
        },
        "id": "FjWlZTzBUUAi",
        "outputId": "9448bb53-c083-4a5f-fd7c-57a7a7c8674f"
      },
      "execution_count": 37,
      "outputs": [
        {
          "output_type": "stream",
          "name": "stdout",
          "text": [
            "                S_no      date  season  yr  month        hr   holiday  \\\n",
            "S_no        1.000000  0.998949     NaN NaN    NaN  0.025355  0.090792   \n",
            "date        0.998949  1.000000     NaN NaN    NaN -0.011974  0.082414   \n",
            "season           NaN       NaN     NaN NaN    NaN       NaN       NaN   \n",
            "yr               NaN       NaN     NaN NaN    NaN       NaN       NaN   \n",
            "month            NaN       NaN     NaN NaN    NaN       NaN       NaN   \n",
            "hr          0.025355 -0.011974     NaN NaN    NaN  1.000000 -0.008722   \n",
            "holiday     0.090792  0.082414     NaN NaN    NaN -0.008722  1.000000   \n",
            "weekday     0.015448  0.022275     NaN NaN    NaN -0.021792 -0.194864   \n",
            "weathersit  0.162506  0.166450     NaN NaN    NaN -0.056370  0.217058   \n",
            "temp       -0.314224 -0.315769     NaN NaN    NaN  0.165148 -0.052444   \n",
            "\n",
            "             weekday  weathersit      temp  \n",
            "S_no        0.015448    0.162506 -0.314224  \n",
            "date        0.022275    0.166450 -0.315769  \n",
            "season           NaN         NaN       NaN  \n",
            "yr               NaN         NaN       NaN  \n",
            "month            NaN         NaN       NaN  \n",
            "hr         -0.021792   -0.056370  0.165148  \n",
            "holiday    -0.194864    0.217058 -0.052444  \n",
            "weekday     1.000000    0.065414  0.040457  \n",
            "weathersit  0.065414    1.000000  0.224919  \n",
            "temp        0.040457    0.224919  1.000000  \n"
          ]
        }
      ]
    },
    {
      "cell_type": "code",
      "source": [
        "#Findling outliers in the dataset 1\n",
        "\n",
        "import matplotlib.pyplot as plt\n",
        "import seaborn as sns\n",
        "\n",
        "#creating box plot only for weather situation and temperature\n",
        "\n",
        "box_data0=['weathersit', 'temp','weekday']\n",
        "\n",
        "# Create a boxplot\n",
        "sns.boxplot(box_data0)\n",
        "\n",
        "# Add labels and title\n",
        "\n",
        "plt.title('Boxplot of Weather Condition')\n",
        "\n",
        "# Show the plot\n",
        "plt.show()"
      ],
      "metadata": {
        "colab": {
          "base_uri": "https://localhost:8080/",
          "height": 433
        },
        "id": "WGJeL6uYbgBS",
        "outputId": "a3581338-4d40-45da-e314-f4e91aee460d"
      },
      "execution_count": 38,
      "outputs": [
        {
          "output_type": "display_data",
          "data": {
            "text/plain": [
              "<Figure size 640x480 with 1 Axes>"
            ],
            "image/png": "[encoded data removed]"
          },
          "metadata": {}
        }
      ]
    },
    {
      "cell_type": "code",
      "source": [
        "#Reading dataset 2\n",
        "\n",
        "excel_file = '/content/dataset_2.xlsx'\n",
        "data2 = pd.read_excel(excel_file)\n",
        "print(data2)\n"
      ],
      "metadata": {
        "colab": {
          "base_uri": "https://localhost:8080/"
        },
        "id": "qd-UdsysRDmQ",
        "outputId": "02c6ea58-24db-4f2f-bc9b-fe009b48b3d3"
      },
      "execution_count": 39,
      "outputs": [
        {
          "output_type": "stream",
          "name": "stdout",
          "text": [
            "     Unnamed: 0  instant   atemp   hum  windspeed  casual  registered  cnt\n",
            "0             0        1  0.2879  0.81     0.0000       3          13   16\n",
            "1             1        2  0.2727  0.80     0.0000       8          32   40\n",
            "2             2        3  0.2727  0.80     0.0000       5          27   32\n",
            "3             3        4  0.2879  0.75     0.0000       3          10   13\n",
            "4             4        5  0.2879  0.75     0.0000       0           1    1\n",
            "..          ...      ...     ...   ...        ...     ...         ...  ...\n",
            "605         605      606  0.2121  0.93     0.1045       0          30   30\n",
            "606         606      607  0.2121  0.93     0.1045       1          28   29\n",
            "607         607      608  0.2121  0.93     0.1045       0          31   31\n",
            "608         608      609  0.2727  0.80     0.0000       2          36   38\n",
            "609         609      610  0.2576  0.86     0.0000       1          40   41\n",
            "\n",
            "[610 rows x 8 columns]\n"
          ]
        }
      ]
    },
    {
      "cell_type": "code",
      "source": [
        "data2.head()"
      ],
      "metadata": {
        "colab": {
          "base_uri": "https://localhost:8080/",
          "height": 206
        },
        "id": "jBzhVxxXiCXA",
        "outputId": "3fdc74f3-be2b-41ee-ff34-627df1d3e7d0"
      },
      "execution_count": 40,
      "outputs": [
        {
          "output_type": "execute_result",
          "data": {
            "text/plain": [
              "   Unnamed: 0  instant   atemp   hum  windspeed  casual  registered  cnt\n",
              "0           0        1  0.2879  0.81        0.0       3          13   16\n",
              "1           1        2  0.2727  0.80        0.0       8          32   40\n",
              "2           2        3  0.2727  0.80        0.0       5          27   32\n",
              "3           3        4  0.2879  0.75        0.0       3          10   13\n",
              "4           4        5  0.2879  0.75        0.0       0           1    1"
            ],
            "text/html": [
              "\n",
              "  <div id=\"df-73cd22dc-4954-4ea2-9383-52e3784ce0ae\" class=\"colab-df-container\">\n",
              "    <div>\n",
              "<style scoped>\n",
              "    .dataframe tbody tr th:only-of-type {\n",
              "        vertical-align: middle;\n",
              "    }\n",
              "\n",
              "    .dataframe tbody tr th {\n",
              "        vertical-align: top;\n",
              "    }\n",
              "\n",
              "    .dataframe thead th {\n",
              "        text-align: right;\n",
              "    }\n",
              "</style>\n",
              "<table border=\"1\" class=\"dataframe\">\n",
              "  <thead>\n",
              "    <tr style=\"text-align: right;\">\n",
              "      <th></th>\n",
              "      <th>Unnamed: 0</th>\n",
              "      <th>instant</th>\n",
              "      <th>atemp</th>\n",
              "      <th>hum</th>\n",
              "      <th>windspeed</th>\n",
              "      <th>casual</th>\n",
              "      <th>registered</th>\n",
              "      <th>cnt</th>\n",
              "    </tr>\n",
              "  </thead>\n",
              "  <tbody>\n",
              "    <tr>\n",
              "      <th>0</th>\n",
              "      <td>0</td>\n",
              "      <td>1</td>\n",
              "      <td>0.2879</td>\n",
              "      <td>0.81</td>\n",
              "      <td>0.0</td>\n",
              "      <td>3</td>\n",
              "      <td>13</td>\n",
              "      <td>16</td>\n",
              "    </tr>\n",
              "    <tr>\n",
              "      <th>1</th>\n",
              "      <td>1</td>\n",
              "      <td>2</td>\n",
              "      <td>0.2727</td>\n",
              "      <td>0.80</td>\n",
              "      <td>0.0</td>\n",
              "      <td>8</td>\n",
              "      <td>32</td>\n",
              "      <td>40</td>\n",
              "    </tr>\n",
              "    <tr>\n",
              "      <th>2</th>\n",
              "      <td>2</td>\n",
              "      <td>3</td>\n",
              "      <td>0.2727</td>\n",
              "      <td>0.80</td>\n",
              "      <td>0.0</td>\n",
              "      <td>5</td>\n",
              "      <td>27</td>\n",
              "      <td>32</td>\n",
              "    </tr>\n",
              "    <tr>\n",
              "      <th>3</th>\n",
              "      <td>3</td>\n",
              "      <td>4</td>\n",
              "      <td>0.2879</td>\n",
              "      <td>0.75</td>\n",
              "      <td>0.0</td>\n",
              "      <td>3</td>\n",
              "      <td>10</td>\n",
              "      <td>13</td>\n",
              "    </tr>\n",
              "    <tr>\n",
              "      <th>4</th>\n",
              "      <td>4</td>\n",
              "      <td>5</td>\n",
              "      <td>0.2879</td>\n",
              "      <td>0.75</td>\n",
              "      <td>0.0</td>\n",
              "      <td>0</td>\n",
              "      <td>1</td>\n",
              "      <td>1</td>\n",
              "    </tr>\n",
              "  </tbody>\n",
              "</table>\n",
              "</div>\n",
              "    <div class=\"colab-df-buttons\">\n",
              "\n",
              "  <div class=\"colab-df-container\">\n",
              "    <button class=\"colab-df-convert\" onclick=\"convertToInteractive('df-73cd22dc-4954-4ea2-9383-52e3784ce0ae')\"\n",
              "            title=\"Convert this dataframe to an interactive table.\"\n",
              "            style=\"display:none;\">\n",
              "\n",
              "  <svg xmlns=\"http://www.w3.org/2000/svg\" height=\"24px\" viewBox=\"0 -960 960 960\">\n",
              "    <path d=\"M120-120v-720h720v720H120Zm60-500h600v-160H180v160Zm220 220h160v-160H400v160Zm0 220h160v-160H400v160ZM180-400h160v-160H180v160Zm440 0h160v-160H620v160ZM180-180h160v-160H180v160Zm440 0h160v-160H620v160Z\"/>\n",
              "  </svg>\n",
              "    </button>\n",
              "\n",
              "  <style>\n",
              "    .colab-df-container {\n",
              "      display:flex;\n",
              "      gap: 12px;\n",
              "    }\n",
              "\n",
              "    .colab-df-convert {\n",
              "      background-color: #E8F0FE;\n",
              "      border: none;\n",
              "      border-radius: 50%;\n",
              "      cursor: pointer;\n",
              "      display: none;\n",
              "      fill: #1967D2;\n",
              "      height: 32px;\n",
              "      padding: 0 0 0 0;\n",
              "      width: 32px;\n",
              "    }\n",
              "\n",
              "    .colab-df-convert:hover {\n",
              "      background-color: #E2EBFA;\n",
              "      box-shadow: 0px 1px 2px rgba(60, 64, 67, 0.3), 0px 1px 3px 1px rgba(60, 64, 67, 0.15);\n",
              "      fill: #174EA6;\n",
              "    }\n",
              "\n",
              "    .colab-df-buttons div {\n",
              "      margin-bottom: 4px;\n",
              "    }\n",
              "\n",
              "    [theme=dark] .colab-df-convert {\n",
              "      background-color: #3B4455;\n",
              "      fill: #D2E3FC;\n",
              "    }\n",
              "\n",
              "    [theme=dark] .colab-df-convert:hover {\n",
              "      background-color: #434B5C;\n",
              "      box-shadow: 0px 1px 3px 1px rgba(0, 0, 0, 0.15);\n",
              "      filter: drop-shadow(0px 1px 2px rgba(0, 0, 0, 0.3));\n",
              "      fill: #FFFFFF;\n",
              "    }\n",
              "  </style>\n",
              "\n",
              "    <script>\n",
              "      const buttonEl =\n",
              "        document.querySelector('#df-73cd22dc-4954-4ea2-9383-52e3784ce0ae button.colab-df-convert');\n",
              "      buttonEl.style.display =\n",
              "        google.colab.kernel.accessAllowed ? 'block' : 'none';\n",
              "\n",
              "      async function convertToInteractive(key) {\n",
              "        const element = document.querySelector('#df-73cd22dc-4954-4ea2-9383-52e3784ce0ae');\n",
              "        const dataTable =\n",
              "          await google.colab.kernel.invokeFunction('convertToInteractive',\n",
              "                                                    [key], {});\n",
              "        if (!dataTable) return;\n",
              "\n",
              "        const docLinkHtml = 'Like what you see? Visit the ' +\n",
              "          '<a target=\"_blank\" href=https://colab.research.google.com/notebooks/data_table.ipynb>data table notebook</a>'\n",
              "          + ' to learn more about interactive tables.';\n",
              "        element.innerHTML = '';\n",
              "        dataTable['output_type'] = 'display_data';\n",
              "        await google.colab.output.renderOutput(dataTable, element);\n",
              "        const docLink = document.createElement('div');\n",
              "        docLink.innerHTML = docLinkHtml;\n",
              "        element.appendChild(docLink);\n",
              "      }\n",
              "    </script>\n",
              "  </div>\n",
              "\n",
              "\n",
              "<div id=\"df-52b317b7-47bc-45f4-88a8-99a350662749\">\n",
              "  <button class=\"colab-df-quickchart\" onclick=\"quickchart('df-52b317b7-47bc-45f4-88a8-99a350662749')\"\n",
              "            title=\"Suggest charts\"\n",
              "            style=\"display:none;\">\n",
              "\n",
              "<svg xmlns=\"http://www.w3.org/2000/svg\" height=\"24px\"viewBox=\"0 0 24 24\"\n",
              "     width=\"24px\">\n",
              "    <g>\n",
              "        <path d=\"M19 3H5c-1.1 0-2 .9-2 2v14c0 1.1.9 2 2 2h14c1.1 0 2-.9 2-2V5c0-1.1-.9-2-2-2zM9 17H7v-7h2v7zm4 0h-2V7h2v10zm4 0h-2v-4h2v4z\"/>\n",
              "    </g>\n",
              "</svg>\n",
              "  </button>\n",
              "\n",
              "<style>\n",
              "  .colab-df-quickchart {\n",
              "      --bg-color: #E8F0FE;\n",
              "      --fill-color: #1967D2;\n",
              "      --hover-bg-color: #E2EBFA;\n",
              "      --hover-fill-color: #174EA6;\n",
              "      --disabled-fill-color: #AAA;\n",
              "      --disabled-bg-color: #DDD;\n",
              "  }\n",
              "\n",
              "  [theme=dark] .colab-df-quickchart {\n",
              "      --bg-color: #3B4455;\n",
              "      --fill-color: #D2E3FC;\n",
              "      --hover-bg-color: #434B5C;\n",
              "      --hover-fill-color: #FFFFFF;\n",
              "      --disabled-bg-color: #3B4455;\n",
              "      --disabled-fill-color: #666;\n",
              "  }\n",
              "\n",
              "  .colab-df-quickchart {\n",
              "    background-color: var(--bg-color);\n",
              "    border: none;\n",
              "    border-radius: 50%;\n",
              "    cursor: pointer;\n",
              "    display: none;\n",
              "    fill: var(--fill-color);\n",
              "    height: 32px;\n",
              "    padding: 0;\n",
              "    width: 32px;\n",
              "  }\n",
              "\n",
              "  .colab-df-quickchart:hover {\n",
              "    background-color: var(--hover-bg-color);\n",
              "    box-shadow: 0 1px 2px rgba(60, 64, 67, 0.3), 0 1px 3px 1px rgba(60, 64, 67, 0.15);\n",
              "    fill: var(--button-hover-fill-color);\n",
              "  }\n",
              "\n",
              "  .colab-df-quickchart-complete:disabled,\n",
              "  .colab-df-quickchart-complete:disabled:hover {\n",
              "    background-color: var(--disabled-bg-color);\n",
              "    fill: var(--disabled-fill-color);\n",
              "    box-shadow: none;\n",
              "  }\n",
              "\n",
              "  .colab-df-spinner {\n",
              "    border: 2px solid var(--fill-color);\n",
              "    border-color: transparent;\n",
              "    border-bottom-color: var(--fill-color);\n",
              "    animation:\n",
              "      spin 1s steps(1) infinite;\n",
              "  }\n",
              "\n",
              "  @keyframes spin {\n",
              "    0% {\n",
              "      border-color: transparent;\n",
              "      border-bottom-color: var(--fill-color);\n",
              "      border-left-color: var(--fill-color);\n",
              "    }\n",
              "    20% {\n",
              "      border-color: transparent;\n",
              "      border-left-color: var(--fill-color);\n",
              "      border-top-color: var(--fill-color);\n",
              "    }\n",
              "    30% {\n",
              "      border-color: transparent;\n",
              "      border-left-color: var(--fill-color);\n",
              "      border-top-color: var(--fill-color);\n",
              "      border-right-color: var(--fill-color);\n",
              "    }\n",
              "    40% {\n",
              "      border-color: transparent;\n",
              "      border-right-color: var(--fill-color);\n",
              "      border-top-color: var(--fill-color);\n",
              "    }\n",
              "    60% {\n",
              "      border-color: transparent;\n",
              "      border-right-color: var(--fill-color);\n",
              "    }\n",
              "    80% {\n",
              "      border-color: transparent;\n",
              "      border-right-color: var(--fill-color);\n",
              "      border-bottom-color: var(--fill-color);\n",
              "    }\n",
              "    90% {\n",
              "      border-color: transparent;\n",
              "      border-bottom-color: var(--fill-color);\n",
              "    }\n",
              "  }\n",
              "</style>\n",
              "\n",
              "  <script>\n",
              "    async function quickchart(key) {\n",
              "      const quickchartButtonEl =\n",
              "        document.querySelector('#' + key + ' button');\n",
              "      quickchartButtonEl.disabled = true;  // To prevent multiple clicks.\n",
              "      quickchartButtonEl.classList.add('colab-df-spinner');\n",
              "      try {\n",
              "        const charts = await google.colab.kernel.invokeFunction(\n",
              "            'suggestCharts', [key], {});\n",
              "      } catch (error) {\n",
              "        console.error('Error during call to suggestCharts:', error);\n",
              "      }\n",
              "      quickchartButtonEl.classList.remove('colab-df-spinner');\n",
              "      quickchartButtonEl.classList.add('colab-df-quickchart-complete');\n",
              "    }\n",
              "    (() => {\n",
              "      let quickchartButtonEl =\n",
              "        document.querySelector('#df-52b317b7-47bc-45f4-88a8-99a350662749 button');\n",
              "      quickchartButtonEl.style.display =\n",
              "        google.colab.kernel.accessAllowed ? 'block' : 'none';\n",
              "    })();\n",
              "  </script>\n",
              "</div>\n",
              "\n",
              "    </div>\n",
              "  </div>\n"
            ],
            "application/vnd.google.colaboratory.intrinsic+json": {
              "type": "dataframe",
              "variable_name": "data2",
              "summary": "{\n  \"name\": \"data2\",\n  \"rows\": 610,\n  \"fields\": [\n    {\n      \"column\": \"Unnamed: 0\",\n      \"properties\": {\n        \"dtype\": \"number\",\n        \"std\": 176,\n        \"min\": 0,\n        \"max\": 609,\n        \"num_unique_values\": 610,\n        \"samples\": [\n          81,\n          218,\n          55\n        ],\n        \"semantic_type\": \"\",\n        \"description\": \"\"\n      }\n    },\n    {\n      \"column\": \"instant\",\n      \"properties\": {\n        \"dtype\": \"number\",\n        \"std\": 176,\n        \"min\": 1,\n        \"max\": 610,\n        \"num_unique_values\": 610,\n        \"samples\": [\n          82,\n          219,\n          56\n        ],\n        \"semantic_type\": \"\",\n        \"description\": \"\"\n      }\n    },\n    {\n      \"column\": \"atemp\",\n      \"properties\": {\n        \"dtype\": \"number\",\n        \"std\": 0.07883563805393566,\n        \"min\": 0.0,\n        \"max\": 0.4545,\n        \"num_unique_values\": 29,\n        \"samples\": [\n          0.0,\n          0.1667,\n          0.197\n        ],\n        \"semantic_type\": \"\",\n        \"description\": \"\"\n      }\n    },\n    {\n      \"column\": \"hum\",\n      \"properties\": {\n        \"dtype\": \"number\",\n        \"std\": 0.17544015550267802,\n        \"min\": 0.21,\n        \"max\": 1.0,\n        \"num_unique_values\": 61,\n        \"samples\": [\n          0.81,\n          0.77,\n          0.34\n        ],\n        \"semantic_type\": \"\",\n        \"description\": \"\"\n      }\n    },\n    {\n      \"column\": \"windspeed\",\n      \"properties\": {\n        \"dtype\": \"number\",\n        \"std\": 0.12180590946383396,\n        \"min\": 0.0,\n        \"max\": 0.5821,\n        \"num_unique_values\": 20,\n        \"samples\": [\n          0.0,\n          0.4627,\n          0.4925\n        ],\n        \"semantic_type\": \"\",\n        \"description\": \"\"\n      }\n    },\n    {\n      \"column\": \"casual\",\n      \"properties\": {\n        \"dtype\": \"number\",\n        \"std\": 6,\n        \"min\": 0,\n        \"max\": 47,\n        \"num_unique_values\": 32,\n        \"samples\": [\n          23,\n          6,\n          14\n        ],\n        \"semantic_type\": \"\",\n        \"description\": \"\"\n      }\n    },\n    {\n      \"column\": \"registered\",\n      \"properties\": {\n        \"dtype\": \"number\",\n        \"std\": 47,\n        \"min\": 0,\n        \"max\": 247,\n        \"num_unique_values\": 150,\n        \"samples\": [\n          95,\n          25,\n          117\n        ],\n        \"semantic_type\": \"\",\n        \"description\": \"\"\n      }\n    },\n    {\n      \"column\": \"cnt\",\n      \"properties\": {\n        \"dtype\": \"number\",\n        \"std\": 49,\n        \"min\": 1,\n        \"max\": 249,\n        \"num_unique_values\": 165,\n        \"samples\": [\n          113,\n          29,\n          129\n        ],\n        \"semantic_type\": \"\",\n        \"description\": \"\"\n      }\n    }\n  ]\n}"
            }
          },
          "metadata": {},
          "execution_count": 40
        }
      ]
    },
    {
      "cell_type": "code",
      "source": [
        "#Checking the dimension of the data2\n",
        "\n",
        "data2.shape"
      ],
      "metadata": {
        "colab": {
          "base_uri": "https://localhost:8080/"
        },
        "id": "m8LM5oiERq24",
        "outputId": "81eb63fb-2865-43f4-9823-e5f383746f10"
      },
      "execution_count": 41,
      "outputs": [
        {
          "output_type": "execute_result",
          "data": {
            "text/plain": [
              "(610, 8)"
            ]
          },
          "metadata": {},
          "execution_count": 41
        }
      ]
    },
    {
      "cell_type": "code",
      "source": [
        "#Checking the type of the data2\n",
        "\n",
        "data2.dtypes"
      ],
      "metadata": {
        "colab": {
          "base_uri": "https://localhost:8080/"
        },
        "id": "sGi5C8zbRxwb",
        "outputId": "23755bec-bb37-4375-ba66-450946cd6778"
      },
      "execution_count": 42,
      "outputs": [
        {
          "output_type": "execute_result",
          "data": {
            "text/plain": [
              "Unnamed: 0      int64\n",
              "instant         int64\n",
              "atemp         float64\n",
              "hum           float64\n",
              "windspeed     float64\n",
              "casual          int64\n",
              "registered      int64\n",
              "cnt             int64\n",
              "dtype: object"
            ]
          },
          "metadata": {},
          "execution_count": 42
        }
      ]
    },
    {
      "cell_type": "code",
      "source": [
        "#Renaming the data 2\n",
        "\n",
        "Headers = ['S_no', 'instant', 'temp', 'humidity', 'windspeed', 'casual', 'rgstd', 'cnt' ]\n",
        "data2.columns = Headers\n",
        "print(data2)"
      ],
      "metadata": {
        "colab": {
          "base_uri": "https://localhost:8080/"
        },
        "id": "uJcQXUF3R7o9",
        "outputId": "cad70bf1-bc94-4ecf-959a-ddd5201d3843"
      },
      "execution_count": 43,
      "outputs": [
        {
          "output_type": "stream",
          "name": "stdout",
          "text": [
            "     S_no  instant    temp  humidity  windspeed  casual  rgstd  cnt\n",
            "0       0        1  0.2879      0.81     0.0000       3     13   16\n",
            "1       1        2  0.2727      0.80     0.0000       8     32   40\n",
            "2       2        3  0.2727      0.80     0.0000       5     27   32\n",
            "3       3        4  0.2879      0.75     0.0000       3     10   13\n",
            "4       4        5  0.2879      0.75     0.0000       0      1    1\n",
            "..    ...      ...     ...       ...        ...     ...    ...  ...\n",
            "605   605      606  0.2121      0.93     0.1045       0     30   30\n",
            "606   606      607  0.2121      0.93     0.1045       1     28   29\n",
            "607   607      608  0.2121      0.93     0.1045       0     31   31\n",
            "608   608      609  0.2727      0.80     0.0000       2     36   38\n",
            "609   609      610  0.2576      0.86     0.0000       1     40   41\n",
            "\n",
            "[610 rows x 8 columns]\n"
          ]
        }
      ]
    },
    {
      "cell_type": "code",
      "source": [
        "data2.describe()"
      ],
      "metadata": {
        "colab": {
          "base_uri": "https://localhost:8080/",
          "height": 300
        },
        "id": "8FVjG-tSnR1f",
        "outputId": "ad75a36d-ea70-49a7-9b50-bdaf42c2f52b"
      },
      "execution_count": 44,
      "outputs": [
        {
          "output_type": "execute_result",
          "data": {
            "text/plain": [
              "             S_no     instant        temp    humidity   windspeed      casual  \\\n",
              "count  610.000000  610.000000  599.000000  610.000000  610.000000  610.000000   \n",
              "mean   304.500000  305.500000    0.199935    0.562475    0.204851    4.501639   \n",
              "std    176.236111  176.236111    0.078836    0.175440    0.121806    6.319945   \n",
              "min      0.000000    1.000000    0.000000    0.210000    0.000000    0.000000   \n",
              "25%    152.250000  153.250000    0.151500    0.432500    0.104500    0.000000   \n",
              "50%    304.500000  305.500000    0.197000    0.520000    0.194000    2.000000   \n",
              "75%    456.750000  457.750000    0.242400    0.690000    0.283600    6.000000   \n",
              "max    609.000000  610.000000    0.454500    1.000000    0.582100   47.000000   \n",
              "\n",
              "            rgstd         cnt  \n",
              "count  610.000000  610.000000  \n",
              "mean    51.068852   55.570492  \n",
              "std     47.021204   49.316802  \n",
              "min      0.000000    1.000000  \n",
              "25%     14.000000   16.000000  \n",
              "50%     43.000000   47.000000  \n",
              "75%     70.000000   79.750000  \n",
              "max    247.000000  249.000000  "
            ],
            "text/html": [
              "\n",
              "  <div id=\"df-25b90350-5d80-4c1a-a948-2812054e0d1b\" class=\"colab-df-container\">\n",
              "    <div>\n",
              "<style scoped>\n",
              "    .dataframe tbody tr th:only-of-type {\n",
              "        vertical-align: middle;\n",
              "    }\n",
              "\n",
              "    .dataframe tbody tr th {\n",
              "        vertical-align: top;\n",
              "    }\n",
              "\n",
              "    .dataframe thead th {\n",
              "        text-align: right;\n",
              "    }\n",
              "</style>\n",
              "<table border=\"1\" class=\"dataframe\">\n",
              "  <thead>\n",
              "    <tr style=\"text-align: right;\">\n",
              "      <th></th>\n",
              "      <th>S_no</th>\n",
              "      <th>instant</th>\n",
              "      <th>temp</th>\n",
              "      <th>humidity</th>\n",
              "      <th>windspeed</th>\n",
              "      <th>casual</th>\n",
              "      <th>rgstd</th>\n",
              "      <th>cnt</th>\n",
              "    </tr>\n",
              "  </thead>\n",
              "  <tbody>\n",
              "    <tr>\n",
              "      <th>count</th>\n",
              "      <td>610.000000</td>\n",
              "      <td>610.000000</td>\n",
              "      <td>599.000000</td>\n",
              "      <td>610.000000</td>\n",
              "      <td>610.000000</td>\n",
              "      <td>610.000000</td>\n",
              "      <td>610.000000</td>\n",
              "      <td>610.000000</td>\n",
              "    </tr>\n",
              "    <tr>\n",
              "      <th>mean</th>\n",
              "      <td>304.500000</td>\n",
              "      <td>305.500000</td>\n",
              "      <td>0.199935</td>\n",
              "      <td>0.562475</td>\n",
              "      <td>0.204851</td>\n",
              "      <td>4.501639</td>\n",
              "      <td>51.068852</td>\n",
              "      <td>55.570492</td>\n",
              "    </tr>\n",
              "    <tr>\n",
              "      <th>std</th>\n",
              "      <td>176.236111</td>\n",
              "      <td>176.236111</td>\n",
              "      <td>0.078836</td>\n",
              "      <td>0.175440</td>\n",
              "      <td>0.121806</td>\n",
              "      <td>6.319945</td>\n",
              "      <td>47.021204</td>\n",
              "      <td>49.316802</td>\n",
              "    </tr>\n",
              "    <tr>\n",
              "      <th>min</th>\n",
              "      <td>0.000000</td>\n",
              "      <td>1.000000</td>\n",
              "      <td>0.000000</td>\n",
              "      <td>0.210000</td>\n",
              "      <td>0.000000</td>\n",
              "      <td>0.000000</td>\n",
              "      <td>0.000000</td>\n",
              "      <td>1.000000</td>\n",
              "    </tr>\n",
              "    <tr>\n",
              "      <th>25%</th>\n",
              "      <td>152.250000</td>\n",
              "      <td>153.250000</td>\n",
              "      <td>0.151500</td>\n",
              "      <td>0.432500</td>\n",
              "      <td>0.104500</td>\n",
              "      <td>0.000000</td>\n",
              "      <td>14.000000</td>\n",
              "      <td>16.000000</td>\n",
              "    </tr>\n",
              "    <tr>\n",
              "      <th>50%</th>\n",
              "      <td>304.500000</td>\n",
              "      <td>305.500000</td>\n",
              "      <td>0.197000</td>\n",
              "      <td>0.520000</td>\n",
              "      <td>0.194000</td>\n",
              "      <td>2.000000</td>\n",
              "      <td>43.000000</td>\n",
              "      <td>47.000000</td>\n",
              "    </tr>\n",
              "    <tr>\n",
              "      <th>75%</th>\n",
              "      <td>456.750000</td>\n",
              "      <td>457.750000</td>\n",
              "      <td>0.242400</td>\n",
              "      <td>0.690000</td>\n",
              "      <td>0.283600</td>\n",
              "      <td>6.000000</td>\n",
              "      <td>70.000000</td>\n",
              "      <td>79.750000</td>\n",
              "    </tr>\n",
              "    <tr>\n",
              "      <th>max</th>\n",
              "      <td>609.000000</td>\n",
              "      <td>610.000000</td>\n",
              "      <td>0.454500</td>\n",
              "      <td>1.000000</td>\n",
              "      <td>0.582100</td>\n",
              "      <td>47.000000</td>\n",
              "      <td>247.000000</td>\n",
              "      <td>249.000000</td>\n",
              "    </tr>\n",
              "  </tbody>\n",
              "</table>\n",
              "</div>\n",
              "    <div class=\"colab-df-buttons\">\n",
              "\n",
              "  <div class=\"colab-df-container\">\n",
              "    <button class=\"colab-df-convert\" onclick=\"convertToInteractive('df-25b90350-5d80-4c1a-a948-2812054e0d1b')\"\n",
              "            title=\"Convert this dataframe to an interactive table.\"\n",
              "            style=\"display:none;\">\n",
              "\n",
              "  <svg xmlns=\"http://www.w3.org/2000/svg\" height=\"24px\" viewBox=\"0 -960 960 960\">\n",
              "    <path d=\"M120-120v-720h720v720H120Zm60-500h600v-160H180v160Zm220 220h160v-160H400v160Zm0 220h160v-160H400v160ZM180-400h160v-160H180v160Zm440 0h160v-160H620v160ZM180-180h160v-160H180v160Zm440 0h160v-160H620v160Z\"/>\n",
              "  </svg>\n",
              "    </button>\n",
              "\n",
              "  <style>\n",
              "    .colab-df-container {\n",
              "      display:flex;\n",
              "      gap: 12px;\n",
              "    }\n",
              "\n",
              "    .colab-df-convert {\n",
              "      background-color: #E8F0FE;\n",
              "      border: none;\n",
              "      border-radius: 50%;\n",
              "      cursor: pointer;\n",
              "      display: none;\n",
              "      fill: #1967D2;\n",
              "      height: 32px;\n",
              "      padding: 0 0 0 0;\n",
              "      width: 32px;\n",
              "    }\n",
              "\n",
              "    .colab-df-convert:hover {\n",
              "      background-color: #E2EBFA;\n",
              "      box-shadow: 0px 1px 2px rgba(60, 64, 67, 0.3), 0px 1px 3px 1px rgba(60, 64, 67, 0.15);\n",
              "      fill: #174EA6;\n",
              "    }\n",
              "\n",
              "    .colab-df-buttons div {\n",
              "      margin-bottom: 4px;\n",
              "    }\n",
              "\n",
              "    [theme=dark] .colab-df-convert {\n",
              "      background-color: #3B4455;\n",
              "      fill: #D2E3FC;\n",
              "    }\n",
              "\n",
              "    [theme=dark] .colab-df-convert:hover {\n",
              "      background-color: #434B5C;\n",
              "      box-shadow: 0px 1px 3px 1px rgba(0, 0, 0, 0.15);\n",
              "      filter: drop-shadow(0px 1px 2px rgba(0, 0, 0, 0.3));\n",
              "      fill: #FFFFFF;\n",
              "    }\n",
              "  </style>\n",
              "\n",
              "    <script>\n",
              "      const buttonEl =\n",
              "        document.querySelector('#df-25b90350-5d80-4c1a-a948-2812054e0d1b button.colab-df-convert');\n",
              "      buttonEl.style.display =\n",
              "        google.colab.kernel.accessAllowed ? 'block' : 'none';\n",
              "\n",
              "      async function convertToInteractive(key) {\n",
              "        const element = document.querySelector('#df-25b90350-5d80-4c1a-a948-2812054e0d1b');\n",
              "        const dataTable =\n",
              "          await google.colab.kernel.invokeFunction('convertToInteractive',\n",
              "                                                    [key], {});\n",
              "        if (!dataTable) return;\n",
              "\n",
              "        const docLinkHtml = 'Like what you see? Visit the ' +\n",
              "          '<a target=\"_blank\" href=https://colab.research.google.com/notebooks/data_table.ipynb>data table notebook</a>'\n",
              "          + ' to learn more about interactive tables.';\n",
              "        element.innerHTML = '';\n",
              "        dataTable['output_type'] = 'display_data';\n",
              "        await google.colab.output.renderOutput(dataTable, element);\n",
              "        const docLink = document.createElement('div');\n",
              "        docLink.innerHTML = docLinkHtml;\n",
              "        element.appendChild(docLink);\n",
              "      }\n",
              "    </script>\n",
              "  </div>\n",
              "\n",
              "\n",
              "<div id=\"df-64a8cd5b-5789-4f66-853e-f9b45a7bda47\">\n",
              "  <button class=\"colab-df-quickchart\" onclick=\"quickchart('df-64a8cd5b-5789-4f66-853e-f9b45a7bda47')\"\n",
              "            title=\"Suggest charts\"\n",
              "            style=\"display:none;\">\n",
              "\n",
              "<svg xmlns=\"http://www.w3.org/2000/svg\" height=\"24px\"viewBox=\"0 0 24 24\"\n",
              "     width=\"24px\">\n",
              "    <g>\n",
              "        <path d=\"M19 3H5c-1.1 0-2 .9-2 2v14c0 1.1.9 2 2 2h14c1.1 0 2-.9 2-2V5c0-1.1-.9-2-2-2zM9 17H7v-7h2v7zm4 0h-2V7h2v10zm4 0h-2v-4h2v4z\"/>\n",
              "    </g>\n",
              "</svg>\n",
              "  </button>\n",
              "\n",
              "<style>\n",
              "  .colab-df-quickchart {\n",
              "      --bg-color: #E8F0FE;\n",
              "      --fill-color: #1967D2;\n",
              "      --hover-bg-color: #E2EBFA;\n",
              "      --hover-fill-color: #174EA6;\n",
              "      --disabled-fill-color: #AAA;\n",
              "      --disabled-bg-color: #DDD;\n",
              "  }\n",
              "\n",
              "  [theme=dark] .colab-df-quickchart {\n",
              "      --bg-color: #3B4455;\n",
              "      --fill-color: #D2E3FC;\n",
              "      --hover-bg-color: #434B5C;\n",
              "      --hover-fill-color: #FFFFFF;\n",
              "      --disabled-bg-color: #3B4455;\n",
              "      --disabled-fill-color: #666;\n",
              "  }\n",
              "\n",
              "  .colab-df-quickchart {\n",
              "    background-color: var(--bg-color);\n",
              "    border: none;\n",
              "    border-radius: 50%;\n",
              "    cursor: pointer;\n",
              "    display: none;\n",
              "    fill: var(--fill-color);\n",
              "    height: 32px;\n",
              "    padding: 0;\n",
              "    width: 32px;\n",
              "  }\n",
              "\n",
              "  .colab-df-quickchart:hover {\n",
              "    background-color: var(--hover-bg-color);\n",
              "    box-shadow: 0 1px 2px rgba(60, 64, 67, 0.3), 0 1px 3px 1px rgba(60, 64, 67, 0.15);\n",
              "    fill: var(--button-hover-fill-color);\n",
              "  }\n",
              "\n",
              "  .colab-df-quickchart-complete:disabled,\n",
              "  .colab-df-quickchart-complete:disabled:hover {\n",
              "    background-color: var(--disabled-bg-color);\n",
              "    fill: var(--disabled-fill-color);\n",
              "    box-shadow: none;\n",
              "  }\n",
              "\n",
              "  .colab-df-spinner {\n",
              "    border: 2px solid var(--fill-color);\n",
              "    border-color: transparent;\n",
              "    border-bottom-color: var(--fill-color);\n",
              "    animation:\n",
              "      spin 1s steps(1) infinite;\n",
              "  }\n",
              "\n",
              "  @keyframes spin {\n",
              "    0% {\n",
              "      border-color: transparent;\n",
              "      border-bottom-color: var(--fill-color);\n",
              "      border-left-color: var(--fill-color);\n",
              "    }\n",
              "    20% {\n",
              "      border-color: transparent;\n",
              "      border-left-color: var(--fill-color);\n",
              "      border-top-color: var(--fill-color);\n",
              "    }\n",
              "    30% {\n",
              "      border-color: transparent;\n",
              "      border-left-color: var(--fill-color);\n",
              "      border-top-color: var(--fill-color);\n",
              "      border-right-color: var(--fill-color);\n",
              "    }\n",
              "    40% {\n",
              "      border-color: transparent;\n",
              "      border-right-color: var(--fill-color);\n",
              "      border-top-color: var(--fill-color);\n",
              "    }\n",
              "    60% {\n",
              "      border-color: transparent;\n",
              "      border-right-color: var(--fill-color);\n",
              "    }\n",
              "    80% {\n",
              "      border-color: transparent;\n",
              "      border-right-color: var(--fill-color);\n",
              "      border-bottom-color: var(--fill-color);\n",
              "    }\n",
              "    90% {\n",
              "      border-color: transparent;\n",
              "      border-bottom-color: var(--fill-color);\n",
              "    }\n",
              "  }\n",
              "</style>\n",
              "\n",
              "  <script>\n",
              "    async function quickchart(key) {\n",
              "      const quickchartButtonEl =\n",
              "        document.querySelector('#' + key + ' button');\n",
              "      quickchartButtonEl.disabled = true;  // To prevent multiple clicks.\n",
              "      quickchartButtonEl.classList.add('colab-df-spinner');\n",
              "      try {\n",
              "        const charts = await google.colab.kernel.invokeFunction(\n",
              "            'suggestCharts', [key], {});\n",
              "      } catch (error) {\n",
              "        console.error('Error during call to suggestCharts:', error);\n",
              "      }\n",
              "      quickchartButtonEl.classList.remove('colab-df-spinner');\n",
              "      quickchartButtonEl.classList.add('colab-df-quickchart-complete');\n",
              "    }\n",
              "    (() => {\n",
              "      let quickchartButtonEl =\n",
              "        document.querySelector('#df-64a8cd5b-5789-4f66-853e-f9b45a7bda47 button');\n",
              "      quickchartButtonEl.style.display =\n",
              "        google.colab.kernel.accessAllowed ? 'block' : 'none';\n",
              "    })();\n",
              "  </script>\n",
              "</div>\n",
              "\n",
              "    </div>\n",
              "  </div>\n"
            ],
            "application/vnd.google.colaboratory.intrinsic+json": {
              "type": "dataframe",
              "summary": "{\n  \"name\": \"data2\",\n  \"rows\": 8,\n  \"fields\": [\n    {\n      \"column\": \"S_no\",\n      \"properties\": {\n        \"dtype\": \"number\",\n        \"std\": 219.62823149011203,\n        \"min\": 0.0,\n        \"max\": 610.0,\n        \"num_unique_values\": 7,\n        \"samples\": [\n          610.0,\n          304.5,\n          456.75\n        ],\n        \"semantic_type\": \"\",\n        \"description\": \"\"\n      }\n    },\n    {\n      \"column\": \"instant\",\n      \"properties\": {\n        \"dtype\": \"number\",\n        \"std\": 219.5422400966136,\n        \"min\": 1.0,\n        \"max\": 610.0,\n        \"num_unique_values\": 6,\n        \"samples\": [\n          610.0,\n          305.5,\n          457.75\n        ],\n        \"semantic_type\": \"\",\n        \"description\": \"\"\n      }\n    },\n    {\n      \"column\": \"temp\",\n      \"properties\": {\n        \"dtype\": \"number\",\n        \"std\": 211.7116416810615,\n        \"min\": 0.0,\n        \"max\": 599.0,\n        \"num_unique_values\": 8,\n        \"samples\": [\n          0.19993489148580967,\n          0.197,\n          599.0\n        ],\n        \"semantic_type\": \"\",\n        \"description\": \"\"\n      }\n    },\n    {\n      \"column\": \"humidity\",\n      \"properties\": {\n        \"dtype\": \"number\",\n        \"std\": 215.48638507037293,\n        \"min\": 0.17544015550267802,\n        \"max\": 610.0,\n        \"num_unique_values\": 8,\n        \"samples\": [\n          0.5624754098360656,\n          0.52,\n          610.0\n        ],\n        \"semantic_type\": \"\",\n        \"description\": \"\"\n      }\n    },\n    {\n      \"column\": \"windspeed\",\n      \"properties\": {\n        \"dtype\": \"number\",\n        \"std\": 215.59233723403838,\n        \"min\": 0.0,\n        \"max\": 610.0,\n        \"num_unique_values\": 8,\n        \"samples\": [\n          0.20485098360655737,\n          0.194,\n          610.0\n        ],\n        \"semantic_type\": \"\",\n        \"description\": \"\"\n      }\n    },\n    {\n      \"column\": \"casual\",\n      \"properties\": {\n        \"dtype\": \"number\",\n        \"std\": 212.91089844132196,\n        \"min\": 0.0,\n        \"max\": 610.0,\n        \"num_unique_values\": 7,\n        \"samples\": [\n          610.0,\n          4.501639344262295,\n          6.0\n        ],\n        \"semantic_type\": \"\",\n        \"description\": \"\"\n      }\n    },\n    {\n      \"column\": \"rgstd\",\n      \"properties\": {\n        \"dtype\": \"number\",\n        \"std\": 206.50429260891286,\n        \"min\": 0.0,\n        \"max\": 610.0,\n        \"num_unique_values\": 8,\n        \"samples\": [\n          51.06885245901639,\n          43.0,\n          610.0\n        ],\n        \"semantic_type\": \"\",\n        \"description\": \"\"\n      }\n    },\n    {\n      \"column\": \"cnt\",\n      \"properties\": {\n        \"dtype\": \"number\",\n        \"std\": 205.31847814633875,\n        \"min\": 1.0,\n        \"max\": 610.0,\n        \"num_unique_values\": 8,\n        \"samples\": [\n          55.570491803278685,\n          47.0,\n          610.0\n        ],\n        \"semantic_type\": \"\",\n        \"description\": \"\"\n      }\n    }\n  ]\n}"
            }
          },
          "metadata": {},
          "execution_count": 44
        }
      ]
    },
    {
      "cell_type": "code",
      "source": [
        "#dropping the unwanted columns\n",
        "\n",
        "#data2 = data2.drop(data2.columns[[0, 1]], axis=1)\n",
        "\n",
        "#Will use this when necessary"
      ],
      "metadata": {
        "id": "ryqZUtaJS66o"
      },
      "execution_count": 45,
      "outputs": []
    },
    {
      "cell_type": "code",
      "source": [
        "#Checking the unique values of temp in data2\n",
        "\n",
        "data2.temp.unique()"
      ],
      "metadata": {
        "colab": {
          "base_uri": "https://localhost:8080/"
        },
        "id": "A7Qg44-6TUYg",
        "outputId": "16bd76c4-36bf-45fd-ed88-41656d2b29ab"
      },
      "execution_count": 46,
      "outputs": [
        {
          "output_type": "execute_result",
          "data": {
            "text/plain": [
              "array([0.2879, 0.2727, 0.2576,    nan, 0.3485, 0.3939, 0.3333, 0.4242,\n",
              "       0.4545, 0.4394, 0.4091, 0.2273, 0.2121, 0.197 , 0.1364, 0.1061,\n",
              "       0.1212, 0.1667, 0.1818, 0.2424, 0.1515, 0.3182, 0.0606, 0.0758,\n",
              "       0.0909, 0.303 , 0.0303, 0.0455, 0.    , 0.0152])"
            ]
          },
          "metadata": {},
          "execution_count": 46
        }
      ]
    },
    {
      "cell_type": "code",
      "source": [
        "# Replace specific values in column 'temp'\n",
        "\n",
        "\n",
        "\n",
        "data2['temp'].fillna(data2['temp'].mean(), inplace=True)\n",
        "print(data2['temp'])"
      ],
      "metadata": {
        "colab": {
          "base_uri": "https://localhost:8080/"
        },
        "id": "CAdz-Q7qojP6",
        "outputId": "53c694b5-e151-422c-96c3-8485de5de012"
      },
      "execution_count": 47,
      "outputs": [
        {
          "output_type": "stream",
          "name": "stdout",
          "text": [
            "0      0.2879\n",
            "1      0.2727\n",
            "2      0.2727\n",
            "3      0.2879\n",
            "4      0.2879\n",
            "        ...  \n",
            "605    0.2121\n",
            "606    0.2121\n",
            "607    0.2121\n",
            "608    0.2727\n",
            "609    0.2576\n",
            "Name: temp, Length: 610, dtype: float64\n"
          ]
        }
      ]
    },
    {
      "cell_type": "code",
      "source": [
        "#Filling the mising values with mean value to give accurate result\n",
        "\n",
        "df = pd.DataFrame(data2)\n",
        "\n",
        "df['temp'].fillna(df['temp'].mean(), inplace=True)\n",
        "print(data2)"
      ],
      "metadata": {
        "colab": {
          "base_uri": "https://localhost:8080/"
        },
        "id": "FjKzt11FnG3n",
        "outputId": "9b13c3d9-64bf-44ff-ca5f-664f93ffcc78"
      },
      "execution_count": 48,
      "outputs": [
        {
          "output_type": "stream",
          "name": "stdout",
          "text": [
            "     S_no  instant    temp  humidity  windspeed  casual  rgstd  cnt\n",
            "0       0        1  0.2879      0.81     0.0000       3     13   16\n",
            "1       1        2  0.2727      0.80     0.0000       8     32   40\n",
            "2       2        3  0.2727      0.80     0.0000       5     27   32\n",
            "3       3        4  0.2879      0.75     0.0000       3     10   13\n",
            "4       4        5  0.2879      0.75     0.0000       0      1    1\n",
            "..    ...      ...     ...       ...        ...     ...    ...  ...\n",
            "605   605      606  0.2121      0.93     0.1045       0     30   30\n",
            "606   606      607  0.2121      0.93     0.1045       1     28   29\n",
            "607   607      608  0.2121      0.93     0.1045       0     31   31\n",
            "608   608      609  0.2727      0.80     0.0000       2     36   38\n",
            "609   609      610  0.2576      0.86     0.0000       1     40   41\n",
            "\n",
            "[610 rows x 8 columns]\n"
          ]
        }
      ]
    },
    {
      "cell_type": "markdown",
      "source": [],
      "metadata": {
        "id": "Q4QZAIMWoN-g"
      }
    },
    {
      "cell_type": "code",
      "source": [
        "#Checking the unique values of humidity in data2\n",
        "\n",
        "data2.humidity.unique()"
      ],
      "metadata": {
        "colab": {
          "base_uri": "https://localhost:8080/"
        },
        "id": "AbyvF0GlTieK",
        "outputId": "355c49ca-5f9c-4130-ae8e-1b6261f25211"
      },
      "execution_count": 49,
      "outputs": [
        {
          "output_type": "execute_result",
          "data": {
            "text/plain": [
              "array([0.81, 0.8 , 0.75, 0.86, 0.76, 0.77, 0.72, 0.82, 0.88, 0.87, 0.94,\n",
              "       1.  , 0.71, 0.66, 0.57, 0.46, 0.42, 0.39, 0.44, 0.47, 0.5 , 0.43,\n",
              "       0.4 , 0.35, 0.3 , 0.32, 0.64, 0.69, 0.55, 0.59, 0.63, 0.68, 0.74,\n",
              "       0.51, 0.56, 0.52, 0.49, 0.48, 0.37, 0.33, 0.28, 0.38, 0.36, 0.93,\n",
              "       0.29, 0.53, 0.34, 0.54, 0.41, 0.45, 0.92, 0.62, 0.58, 0.61, 0.6 ,\n",
              "       0.65, 0.7 , 0.27, 0.21, 0.25, 0.26])"
            ]
          },
          "metadata": {},
          "execution_count": 49
        }
      ]
    },
    {
      "cell_type": "code",
      "source": [
        "#Checking the unique values of windspeed in data2\n",
        "\n",
        "data2.windspeed.unique()"
      ],
      "metadata": {
        "colab": {
          "base_uri": "https://localhost:8080/"
        },
        "id": "PifEB_fnTrKk",
        "outputId": "ba2f527b-99f4-492a-ae04-7fb520611707"
      },
      "execution_count": 50,
      "outputs": [
        {
          "output_type": "execute_result",
          "data": {
            "text/plain": [
              "array([0.    , 0.0896, 0.2537, 0.2836, 0.2985, 0.194 , 0.2239, 0.1343,\n",
              "       0.1642, 0.3284, 0.4478, 0.3582, 0.4179, 0.3881, 0.1045, 0.4925,\n",
              "       0.5522, 0.4627, 0.5224, 0.5821])"
            ]
          },
          "metadata": {},
          "execution_count": 50
        }
      ]
    },
    {
      "cell_type": "code",
      "source": [
        "#Checking the unique values of casual in data2\n",
        "\n",
        "data2.casual.unique()"
      ],
      "metadata": {
        "colab": {
          "base_uri": "https://localhost:8080/"
        },
        "id": "hOgh3qX9MDNf",
        "outputId": "c77ef062-d685-46ef-883c-8a54eac81035"
      },
      "execution_count": 51,
      "outputs": [
        {
          "output_type": "execute_result",
          "data": {
            "text/plain": [
              "array([ 3,  8,  5,  0,  2,  1, 12, 26, 29, 47, 35, 40, 41, 15,  9,  6, 11,\n",
              "        4,  7, 16, 20, 19, 10, 13, 14, 18, 17, 21, 33, 23, 22, 24])"
            ]
          },
          "metadata": {},
          "execution_count": 51
        }
      ]
    },
    {
      "cell_type": "code",
      "source": [
        "#Checking the unique values of registered in data2\n",
        "\n",
        "data2.rgstd.unique()"
      ],
      "metadata": {
        "colab": {
          "base_uri": "https://localhost:8080/"
        },
        "id": "u9G0Fr9uwX69",
        "outputId": "4f074e23-683a-4d3a-9e48-db88f3f4af06"
      },
      "execution_count": 52,
      "outputs": [
        {
          "output_type": "execute_result",
          "data": {
            "text/plain": [
              "array([ 13,  32,  27,  10,   1,   0,   2,   7,   6,  24,  30,  55,  47,\n",
              "        71,  70,  52,  26,  31,  25,  17,  16,   8,   4,  19,  46,  54,\n",
              "        73,  64,  67,  58,  43,  29,  20,   9,   5,   3,  63, 153,  81,\n",
              "        33,  41,  48,  53,  66, 146, 148, 102,  49,  11,  36,  92, 177,\n",
              "        98,  37,  50,  79,  68, 202, 179, 110,  34,  87, 192, 109,  74,\n",
              "        65,  85, 186, 166, 127,  82,  40,  18,  95, 216, 116,  42,  57,\n",
              "        78,  59, 163, 158,  51,  76, 190, 125, 178,  39,  14,  15,  56,\n",
              "        60,  90,  83,  69,  28,  35,  22,  12,  77,  44,  38,  75, 184,\n",
              "       174, 154,  97, 214,  45,  72, 130,  94, 139, 135, 197, 137, 141,\n",
              "       156, 117, 155, 134,  89,  80, 108,  61, 124, 132, 196, 107, 100,\n",
              "       247, 140,  86,  62, 207, 210, 159, 151, 119,  93,  23, 171, 145,\n",
              "       101,  21, 103, 233, 208, 218, 133])"
            ]
          },
          "metadata": {},
          "execution_count": 52
        }
      ]
    },
    {
      "cell_type": "code",
      "source": [
        "#Checking the unique values of count in data2\n",
        "\n",
        "data2.cnt.unique()"
      ],
      "metadata": {
        "colab": {
          "base_uri": "https://localhost:8080/"
        },
        "id": "Tg1YMHvuwfib",
        "outputId": "a3faef3b-065e-4482-fa04-5a1e62fa2f45"
      },
      "execution_count": 53,
      "outputs": [
        {
          "output_type": "execute_result",
          "data": {
            "text/plain": [
              "array([ 16,  40,  32,  13,   1,   2,   3,   8,  14,  36,  56,  84,  94,\n",
              "       106, 110,  93,  67,  35,  37,  34,  28,  39,  17,   9,   6,  20,\n",
              "        53,  70,  75,  59,  74,  76,  65,  30,  22,  31,   5,  64, 154,\n",
              "        88,  44,  51,  61,  77,  72, 157,  52,  12,   4, 179, 100,  42,\n",
              "        57,  78,  97,  63,  83, 212, 182, 112,  54,  48,  11,  33, 195,\n",
              "       115,  46,  79,  71,  62,  89, 190, 169, 132,  43,  19,  95, 219,\n",
              "       122,  45,  86, 172, 163,  69,  23,   7, 210, 134,  73,  50,  87,\n",
              "       187, 123,  15,  25,  98, 102,  55,  10,  49,  82,  92,  41,  38,\n",
              "       188,  47, 178, 155,  24,  18,  27,  99, 217, 130, 136,  29, 128,\n",
              "        81,  68, 139, 137, 202,  60, 162, 144, 158, 117,  90, 159, 101,\n",
              "       118, 129,  26, 104,  91, 113, 105,  21,  80, 125, 133, 197, 109,\n",
              "       161, 249, 143, 215, 185, 152, 126, 166, 120,  96, 103,  58, 116,\n",
              "       177, 184, 153, 108, 238, 222, 225, 146, 119])"
            ]
          },
          "metadata": {},
          "execution_count": 53
        }
      ]
    },
    {
      "cell_type": "code",
      "source": [
        "#Finding the Median for all the columns inthe dataset 2 - for knowing the central tendency\n",
        "\n",
        "median_temp = data2['temp'].median()\n",
        "median_humidity = data2['humidity'].median()\n",
        "median_windspeed  = data2['windspeed'].median()\n",
        "median_casual  = data2['casual'].median()\n",
        "median_rgstd  = data2['rgstd'].median()\n",
        "median_cnt  = data2['cnt'].median()\n",
        "\n",
        "\n",
        "\n",
        "print(\"Median of the temperature :\", median_temp)\n",
        "print(\"Median of the humidity :\", median_humidity)\n",
        "print(\"Median of the Wind speed :\", median_windspeed )\n",
        "print(\"Median of the casual :\", median_casual)\n",
        "print(\"Median of the registered :\", median_rgstd)\n",
        "print(\"Median of the count :\", median_cnt)\n"
      ],
      "metadata": {
        "id": "d53Gs4WUMTsx",
        "colab": {
          "base_uri": "https://localhost:8080/"
        },
        "outputId": "4920febf-6f88-47a4-96c0-3eba6d1c7fc5"
      },
      "execution_count": 54,
      "outputs": [
        {
          "output_type": "stream",
          "name": "stdout",
          "text": [
            "Median of the temperature : 0.197\n",
            "Median of the humidity : 0.52\n",
            "Median of the Wind speed : 0.194\n",
            "Median of the casual : 2.0\n",
            "Median of the registered : 43.0\n",
            "Median of the count : 47.0\n"
          ]
        }
      ]
    },
    {
      "cell_type": "code",
      "source": [
        "#Finding the skewness for all the columns inthe dataset 2 - for knowing the central tendency\n",
        "\n",
        "skew_temp = data2['temp'].skew()\n",
        "skew_humidity = data2['humidity'].skew()\n",
        "skew_windspeed  = data2['windspeed'].skew()\n",
        "skew_casual  = data2['casual'].skew()\n",
        "skew_rgstd  = data2['rgstd'].skew()\n",
        "skew_cnt  = data2['cnt'].skew()\n",
        "\n",
        "\n",
        "\n",
        "print(\"Skewness of the temperature :\", skew_temp)\n",
        "print(\"Skewness of the humidity :\", skew_humidity)\n",
        "print(\"Skewness of the Wind speed :\", skew_windspeed )\n",
        "print(\"Skewness of the casual :\", skew_casual)\n",
        "print(\"Skewness of the registered :\", skew_rgstd)\n",
        "print(\"Skewness of the count :\", skew_cnt)"
      ],
      "metadata": {
        "colab": {
          "base_uri": "https://localhost:8080/"
        },
        "id": "WMfuh3B0wQQu",
        "outputId": "7715c6c0-501e-4477-8c03-0a06c18e4029"
      },
      "execution_count": 55,
      "outputs": [
        {
          "output_type": "stream",
          "name": "stdout",
          "text": [
            "Skewness of the temperature : 0.5606522224707997\n",
            "Skewness of the humidity : 0.6095529268829645\n",
            "Skewness of the Wind speed : 0.3390293755619799\n",
            "Skewness of the casual : 2.71286911677041\n",
            "Skewness of the registered : 1.4288749411052102\n",
            "Skewness of the count : 1.2435625473403078\n"
          ]
        }
      ]
    },
    {
      "cell_type": "markdown",
      "source": [
        "From the above data report it is very clear that all the categories are right skewed"
      ],
      "metadata": {
        "id": "5NuImMQSxL6E"
      }
    },
    {
      "cell_type": "code",
      "source": [
        "import matplotlib.pyplot as plt\n",
        "import seaborn as sns\n",
        "\n",
        "plt.boxplot(data2)\n",
        "\n",
        "plt.show()"
      ],
      "metadata": {
        "colab": {
          "base_uri": "https://localhost:8080/",
          "height": 430
        },
        "id": "LEBC94ZPxJjw",
        "outputId": "b5f2bbad-107a-4371-e5cc-f30747d26daa"
      },
      "execution_count": 56,
      "outputs": [
        {
          "output_type": "display_data",
          "data": {
            "text/plain": [
              "<Figure size 640x480 with 1 Axes>"
            ],
            "image/png": "[encoded data removed]"
          },
          "metadata": {}
        }
      ]
    },
    {
      "cell_type": "code",
      "source": [
        "box_data1=['cnt','casual']\n",
        "\n",
        "\n",
        "sns.boxplot(box_data1)\n",
        "plt.show()"
      ],
      "metadata": {
        "colab": {
          "base_uri": "https://localhost:8080/",
          "height": 411
        },
        "id": "PLydYd-fxx8C",
        "outputId": "5f311333-f5eb-4229-d0e5-df1fe9583a0f"
      },
      "execution_count": 57,
      "outputs": [
        {
          "output_type": "display_data",
          "data": {
            "text/plain": [
              "<Figure size 640x480 with 1 Axes>"
            ],
            "image/png": "[encoded data removed]"
          },
          "metadata": {}
        }
      ]
    },
    {
      "cell_type": "code",
      "source": [
        "#Finding correlation of the data in the dataset 2\n",
        "\n",
        "Correlation_data2 = data2.corr()\n",
        "print(Correlation_data2)"
      ],
      "metadata": {
        "colab": {
          "base_uri": "https://localhost:8080/"
        },
        "id": "QbEOsCUIySce",
        "outputId": "f34b8fde-05ca-40d2-ff76-3d33f23ca93f"
      },
      "execution_count": 58,
      "outputs": [
        {
          "output_type": "stream",
          "name": "stdout",
          "text": [
            "               S_no   instant      temp  humidity  windspeed    casual  \\\n",
            "S_no       1.000000  1.000000 -0.271718  0.045119  -0.029262 -0.088926   \n",
            "instant    1.000000  1.000000 -0.271718  0.045119  -0.029262 -0.088926   \n",
            "temp      -0.271718 -0.271718  1.000000  0.298281  -0.244217  0.388592   \n",
            "humidity   0.045119  0.045119  0.298281  1.000000  -0.307205 -0.204634   \n",
            "windspeed -0.029262 -0.029262 -0.244217 -0.307205   1.000000  0.120109   \n",
            "casual    -0.088926 -0.088926  0.388592 -0.204634   0.120109  1.000000   \n",
            "rgstd      0.047670  0.047670  0.145222 -0.228278   0.038115  0.304894   \n",
            "cnt        0.034055  0.034055  0.188260 -0.243876   0.051733  0.418852   \n",
            "\n",
            "              rgstd       cnt  \n",
            "S_no       0.047670  0.034055  \n",
            "instant    0.047670  0.034055  \n",
            "temp       0.145222  0.188260  \n",
            "humidity  -0.228278 -0.243876  \n",
            "windspeed  0.038115  0.051733  \n",
            "casual     0.304894  0.418852  \n",
            "rgstd      1.000000  0.992524  \n",
            "cnt        0.992524  1.000000  \n"
          ]
        }
      ]
    },
    {
      "cell_type": "code",
      "source": [
        "#merging dataset1 and dataset2\n",
        "\n",
        "merged_data = pd.merge(data, data2, how='outer')"
      ],
      "metadata": {
        "id": "39gk_RWr0p_M"
      },
      "execution_count": 59,
      "outputs": []
    },
    {
      "cell_type": "code",
      "source": [
        "print(merged_data)"
      ],
      "metadata": {
        "colab": {
          "base_uri": "https://localhost:8080/"
        },
        "id": "lJ5jMRU21Gfz",
        "outputId": "6381fafe-cab0-4e10-cd8d-8f3da202fbaa"
      },
      "execution_count": 60,
      "outputs": [
        {
          "output_type": "stream",
          "name": "stdout",
          "text": [
            "      S_no       date  season   yr  month   hr holiday  weekday  weathersit  \\\n",
            "0        1 2011-01-01     1.0  0.0    1.0  0.0   False      6.0         1.0   \n",
            "1        2 2011-01-01     1.0  0.0    1.0  1.0   False      6.0         1.0   \n",
            "2        3 2011-01-01     1.0  0.0    1.0  2.0   False      6.0         1.0   \n",
            "3        4 2011-01-01     1.0  0.0    1.0  3.0   False      6.0         1.0   \n",
            "4        5 2011-01-01     1.0  0.0    1.0  4.0   False      6.0         1.0   \n",
            "...    ...        ...     ...  ...    ...  ...     ...      ...         ...   \n",
            "1215   605        NaT     NaN  NaN    NaN  NaN     NaN      NaN         NaN   \n",
            "1216   606        NaT     NaN  NaN    NaN  NaN     NaN      NaN         NaN   \n",
            "1217   607        NaT     NaN  NaN    NaN  NaN     NaN      NaN         NaN   \n",
            "1218   608        NaT     NaN  NaN    NaN  NaN     NaN      NaN         NaN   \n",
            "1219   609        NaT     NaN  NaN    NaN  NaN     NaN      NaN         NaN   \n",
            "\n",
            "        temp  instant  humidity  windspeed  casual  rgstd   cnt  \n",
            "0     0.2400      NaN       NaN        NaN     NaN    NaN   NaN  \n",
            "1     0.2200      NaN       NaN        NaN     NaN    NaN   NaN  \n",
            "2     0.2200      NaN       NaN        NaN     NaN    NaN   NaN  \n",
            "3     0.2400      NaN       NaN        NaN     NaN    NaN   NaN  \n",
            "4     0.2400      NaN       NaN        NaN     NaN    NaN   NaN  \n",
            "...      ...      ...       ...        ...     ...    ...   ...  \n",
            "1215  0.2121    606.0      0.93     0.1045     0.0   30.0  30.0  \n",
            "1216  0.2121    607.0      0.93     0.1045     1.0   28.0  29.0  \n",
            "1217  0.2121    608.0      0.93     0.1045     0.0   31.0  31.0  \n",
            "1218  0.2727    609.0      0.80     0.0000     2.0   36.0  38.0  \n",
            "1219  0.2576    610.0      0.86     0.0000     1.0   40.0  41.0  \n",
            "\n",
            "[1220 rows x 16 columns]\n"
          ]
        }
      ]
    },
    {
      "cell_type": "code",
      "source": [
        "# Convert datetime to timestamp (seconds since Unix epoch)\n",
        "merged_data['Timestamp'] = merged_data['date'].astype('int64') // 10**9  # Convert nanoseconds to seconds (Unix timestamp)\n",
        "\n",
        "# Convert Timestamp to int64 (optional)\n",
        "merged_data['Timestamp'] = merged_data['Timestamp'].astype('int64')\n",
        "\n",
        "print(merged_data)"
      ],
      "metadata": {
        "colab": {
          "base_uri": "https://localhost:8080/"
        },
        "id": "OF0Yv6EEzsKK",
        "outputId": "5402cdda-f632-4d7d-b7d0-fe6e23bef776"
      },
      "execution_count": 61,
      "outputs": [
        {
          "output_type": "stream",
          "name": "stdout",
          "text": [
            "      S_no       date  season   yr  month   hr holiday  weekday  weathersit  \\\n",
            "0        1 2011-01-01     1.0  0.0    1.0  0.0   False      6.0         1.0   \n",
            "1        2 2011-01-01     1.0  0.0    1.0  1.0   False      6.0         1.0   \n",
            "2        3 2011-01-01     1.0  0.0    1.0  2.0   False      6.0         1.0   \n",
            "3        4 2011-01-01     1.0  0.0    1.0  3.0   False      6.0         1.0   \n",
            "4        5 2011-01-01     1.0  0.0    1.0  4.0   False      6.0         1.0   \n",
            "...    ...        ...     ...  ...    ...  ...     ...      ...         ...   \n",
            "1215   605        NaT     NaN  NaN    NaN  NaN     NaN      NaN         NaN   \n",
            "1216   606        NaT     NaN  NaN    NaN  NaN     NaN      NaN         NaN   \n",
            "1217   607        NaT     NaN  NaN    NaN  NaN     NaN      NaN         NaN   \n",
            "1218   608        NaT     NaN  NaN    NaN  NaN     NaN      NaN         NaN   \n",
            "1219   609        NaT     NaN  NaN    NaN  NaN     NaN      NaN         NaN   \n",
            "\n",
            "        temp  instant  humidity  windspeed  casual  rgstd   cnt   Timestamp  \n",
            "0     0.2400      NaN       NaN        NaN     NaN    NaN   NaN  1293840000  \n",
            "1     0.2200      NaN       NaN        NaN     NaN    NaN   NaN  1293840000  \n",
            "2     0.2200      NaN       NaN        NaN     NaN    NaN   NaN  1293840000  \n",
            "3     0.2400      NaN       NaN        NaN     NaN    NaN   NaN  1293840000  \n",
            "4     0.2400      NaN       NaN        NaN     NaN    NaN   NaN  1293840000  \n",
            "...      ...      ...       ...        ...     ...    ...   ...         ...  \n",
            "1215  0.2121    606.0      0.93     0.1045     0.0   30.0  30.0 -9223372037  \n",
            "1216  0.2121    607.0      0.93     0.1045     1.0   28.0  29.0 -9223372037  \n",
            "1217  0.2121    608.0      0.93     0.1045     0.0   31.0  31.0 -9223372037  \n",
            "1218  0.2727    609.0      0.80     0.0000     2.0   36.0  38.0 -9223372037  \n",
            "1219  0.2576    610.0      0.86     0.0000     1.0   40.0  41.0 -9223372037  \n",
            "\n",
            "[1220 rows x 17 columns]\n"
          ]
        }
      ]
    },
    {
      "cell_type": "code",
      "source": [
        "#Dropping date and time column as that column is converted into timestamp i.e into integer mode to generate the boxplot\n",
        "\n",
        "merged_data = merged_data.drop(merged_data.columns[[1]], axis=1)\n",
        "print(merged_data)"
      ],
      "metadata": {
        "colab": {
          "base_uri": "https://localhost:8080/"
        },
        "id": "efJgEefr04iA",
        "outputId": "a556ede3-1e6f-470b-d255-3b1350fdbad2"
      },
      "execution_count": 62,
      "outputs": [
        {
          "output_type": "stream",
          "name": "stdout",
          "text": [
            "      S_no  season   yr  month   hr holiday  weekday  weathersit    temp  \\\n",
            "0        1     1.0  0.0    1.0  0.0   False      6.0         1.0  0.2400   \n",
            "1        2     1.0  0.0    1.0  1.0   False      6.0         1.0  0.2200   \n",
            "2        3     1.0  0.0    1.0  2.0   False      6.0         1.0  0.2200   \n",
            "3        4     1.0  0.0    1.0  3.0   False      6.0         1.0  0.2400   \n",
            "4        5     1.0  0.0    1.0  4.0   False      6.0         1.0  0.2400   \n",
            "...    ...     ...  ...    ...  ...     ...      ...         ...     ...   \n",
            "1215   605     NaN  NaN    NaN  NaN     NaN      NaN         NaN  0.2121   \n",
            "1216   606     NaN  NaN    NaN  NaN     NaN      NaN         NaN  0.2121   \n",
            "1217   607     NaN  NaN    NaN  NaN     NaN      NaN         NaN  0.2121   \n",
            "1218   608     NaN  NaN    NaN  NaN     NaN      NaN         NaN  0.2727   \n",
            "1219   609     NaN  NaN    NaN  NaN     NaN      NaN         NaN  0.2576   \n",
            "\n",
            "      instant  humidity  windspeed  casual  rgstd   cnt   Timestamp  \n",
            "0         NaN       NaN        NaN     NaN    NaN   NaN  1293840000  \n",
            "1         NaN       NaN        NaN     NaN    NaN   NaN  1293840000  \n",
            "2         NaN       NaN        NaN     NaN    NaN   NaN  1293840000  \n",
            "3         NaN       NaN        NaN     NaN    NaN   NaN  1293840000  \n",
            "4         NaN       NaN        NaN     NaN    NaN   NaN  1293840000  \n",
            "...       ...       ...        ...     ...    ...   ...         ...  \n",
            "1215    606.0      0.93     0.1045     0.0   30.0  30.0 -9223372037  \n",
            "1216    607.0      0.93     0.1045     1.0   28.0  29.0 -9223372037  \n",
            "1217    608.0      0.93     0.1045     0.0   31.0  31.0 -9223372037  \n",
            "1218    609.0      0.80     0.0000     2.0   36.0  38.0 -9223372037  \n",
            "1219    610.0      0.86     0.0000     1.0   40.0  41.0 -9223372037  \n",
            "\n",
            "[1220 rows x 16 columns]\n"
          ]
        }
      ]
    },
    {
      "cell_type": "code",
      "source": [
        "import matplotlib.pyplot as plt\n",
        "import seaborn as sns\n",
        "\n",
        "plt.boxplot(merged_data)\n",
        "\n",
        "plt.show()"
      ],
      "metadata": {
        "colab": {
          "base_uri": "https://localhost:8080/",
          "height": 604
        },
        "id": "YljLHnS31M8g",
        "outputId": "6127bfa0-09b2-47bc-9243-d71b55fc2efc"
      },
      "execution_count": 63,
      "outputs": [
        {
          "output_type": "stream",
          "name": "stderr",
          "text": [
            "/usr/local/lib/python3.10/dist-packages/matplotlib/cbook/__init__.py:1257: RuntimeWarning: invalid value encountered in less_equal\n",
            "  wiskhi = x[x <= hival]\n",
            "/usr/local/lib/python3.10/dist-packages/matplotlib/cbook/__init__.py:1264: RuntimeWarning: invalid value encountered in greater_equal\n",
            "  wisklo = x[x >= loval]\n",
            "/usr/local/lib/python3.10/dist-packages/matplotlib/cbook/__init__.py:1272: RuntimeWarning: invalid value encountered in less\n",
            "  x[x < stats['whislo']],\n",
            "/usr/local/lib/python3.10/dist-packages/matplotlib/cbook/__init__.py:1273: RuntimeWarning: invalid value encountered in greater\n",
            "  x[x > stats['whishi']],\n"
          ]
        },
        {
          "output_type": "display_data",
          "data": {
            "text/plain": [
              "<Figure size 640x480 with 1 Axes>"
            ],
            "image/png": "[encoded data removed]"
          },
          "metadata": {}
        }
      ]
    },
    {
      "cell_type": "code",
      "source": [
        "#Reading dataset 3\n",
        "\n",
        "excel_file = '/content/dataset_3.xlsx'\n",
        "data3 = pd.read_excel(excel_file)\n",
        "print(data3)"
      ],
      "metadata": {
        "colab": {
          "base_uri": "https://localhost:8080/"
        },
        "id": "ZIPbUk0B1OYJ",
        "outputId": "127ee6d6-e6da-499e-a1d2-495e78e1a347"
      },
      "execution_count": 6,
      "outputs": [
        {
          "output_type": "stream",
          "name": "stdout",
          "text": [
            "     instant     dteday  season  yr  mnth  hr  holiday  weekday  weathersit  \\\n",
            "0        620 2011-01-29       1   0     1   1    False        6           1   \n",
            "1        621 2011-01-29       1   0     1   2    False        6           1   \n",
            "2        622 2011-01-29       1   0     1   3    False        6           1   \n",
            "3        623 2011-01-29       1   0     1   4    False        6           1   \n",
            "4        624 2011-01-29       1   0     1   6    False        6           1   \n",
            "..       ...        ...     ...  ..   ...  ..      ...      ...         ...   \n",
            "385      615 2011-01-28       1   0     1  20    False        5           2   \n",
            "386      616 2011-01-28       1   0     1  21    False        5           2   \n",
            "387      617 2011-01-28       1   0     1  22    False        5           1   \n",
            "388      618 2011-01-28       1   0     1  23    False        5           1   \n",
            "389      619 2011-01-29       1   0     1   0    False        6           1   \n",
            "\n",
            "     temp   atemp   hum  windspeed  casual  registered  cnt  \n",
            "0    0.22  0.2273  0.64     0.1940       0          20   20  \n",
            "1    0.22  0.2273  0.64     0.1642       0          15   15  \n",
            "2    0.20  0.2121  0.64     0.1343       3           5    8  \n",
            "3    0.16  0.1818  0.69     0.1045       1           2    3  \n",
            "4    0.16  0.1818  0.64     0.1343       0           2    2  \n",
            "..    ...     ...   ...        ...     ...         ...  ...  \n",
            "385  0.24  0.2273  0.70     0.1940       1          61   62  \n",
            "386  0.22  0.2273  0.75     0.1343       1          57   58  \n",
            "387  0.24  0.2121  0.65     0.3582       0          26   26  \n",
            "388  0.24  0.2273  0.60     0.2239       1          22   23  \n",
            "389  0.22  0.1970  0.64     0.3582       2          26   28  \n",
            "\n",
            "[390 rows x 16 columns]\n"
          ]
        }
      ]
    },
    {
      "cell_type": "code",
      "source": [
        "data3.head()"
      ],
      "metadata": {
        "colab": {
          "base_uri": "https://localhost:8080/",
          "height": 313
        },
        "id": "sxsy8tPC1sEI",
        "outputId": "375db8ac-aa8d-4c64-962c-deac07c40699"
      },
      "execution_count": 7,
      "outputs": [
        {
          "output_type": "execute_result",
          "data": {
            "text/plain": [
              "   instant     dteday  season  yr  mnth  hr  holiday  weekday  weathersit  \\\n",
              "0      620 2011-01-29       1   0     1   1    False        6           1   \n",
              "1      621 2011-01-29       1   0     1   2    False        6           1   \n",
              "2      622 2011-01-29       1   0     1   3    False        6           1   \n",
              "3      623 2011-01-29       1   0     1   4    False        6           1   \n",
              "4      624 2011-01-29       1   0     1   6    False        6           1   \n",
              "\n",
              "   temp   atemp   hum  windspeed  casual  registered  cnt  \n",
              "0  0.22  0.2273  0.64     0.1940       0          20   20  \n",
              "1  0.22  0.2273  0.64     0.1642       0          15   15  \n",
              "2  0.20  0.2121  0.64     0.1343       3           5    8  \n",
              "3  0.16  0.1818  0.69     0.1045       1           2    3  \n",
              "4  0.16  0.1818  0.64     0.1343       0           2    2  "
            ],
            "text/html": [
              "\n",
              "  <div id=\"df-79e0ad28-a8ce-4063-b586-3c0115be5613\" class=\"colab-df-container\">\n",
              "    <div>\n",
              "<style scoped>\n",
              "    .dataframe tbody tr th:only-of-type {\n",
              "        vertical-align: middle;\n",
              "    }\n",
              "\n",
              "    .dataframe tbody tr th {\n",
              "        vertical-align: top;\n",
              "    }\n",
              "\n",
              "    .dataframe thead th {\n",
              "        text-align: right;\n",
              "    }\n",
              "</style>\n",
              "<table border=\"1\" class=\"dataframe\">\n",
              "  <thead>\n",
              "    <tr style=\"text-align: right;\">\n",
              "      <th></th>\n",
              "      <th>instant</th>\n",
              "      <th>dteday</th>\n",
              "      <th>season</th>\n",
              "      <th>yr</th>\n",
              "      <th>mnth</th>\n",
              "      <th>hr</th>\n",
              "      <th>holiday</th>\n",
              "      <th>weekday</th>\n",
              "      <th>weathersit</th>\n",
              "      <th>temp</th>\n",
              "      <th>atemp</th>\n",
              "      <th>hum</th>\n",
              "      <th>windspeed</th>\n",
              "      <th>casual</th>\n",
              "      <th>registered</th>\n",
              "      <th>cnt</th>\n",
              "    </tr>\n",
              "  </thead>\n",
              "  <tbody>\n",
              "    <tr>\n",
              "      <th>0</th>\n",
              "      <td>620</td>\n",
              "      <td>2011-01-29</td>\n",
              "      <td>1</td>\n",
              "      <td>0</td>\n",
              "      <td>1</td>\n",
              "      <td>1</td>\n",
              "      <td>False</td>\n",
              "      <td>6</td>\n",
              "      <td>1</td>\n",
              "      <td>0.22</td>\n",
              "      <td>0.2273</td>\n",
              "      <td>0.64</td>\n",
              "      <td>0.1940</td>\n",
              "      <td>0</td>\n",
              "      <td>20</td>\n",
              "      <td>20</td>\n",
              "    </tr>\n",
              "    <tr>\n",
              "      <th>1</th>\n",
              "      <td>621</td>\n",
              "      <td>2011-01-29</td>\n",
              "      <td>1</td>\n",
              "      <td>0</td>\n",
              "      <td>1</td>\n",
              "      <td>2</td>\n",
              "      <td>False</td>\n",
              "      <td>6</td>\n",
              "      <td>1</td>\n",
              "      <td>0.22</td>\n",
              "      <td>0.2273</td>\n",
              "      <td>0.64</td>\n",
              "      <td>0.1642</td>\n",
              "      <td>0</td>\n",
              "      <td>15</td>\n",
              "      <td>15</td>\n",
              "    </tr>\n",
              "    <tr>\n",
              "      <th>2</th>\n",
              "      <td>622</td>\n",
              "      <td>2011-01-29</td>\n",
              "      <td>1</td>\n",
              "      <td>0</td>\n",
              "      <td>1</td>\n",
              "      <td>3</td>\n",
              "      <td>False</td>\n",
              "      <td>6</td>\n",
              "      <td>1</td>\n",
              "      <td>0.20</td>\n",
              "      <td>0.2121</td>\n",
              "      <td>0.64</td>\n",
              "      <td>0.1343</td>\n",
              "      <td>3</td>\n",
              "      <td>5</td>\n",
              "      <td>8</td>\n",
              "    </tr>\n",
              "    <tr>\n",
              "      <th>3</th>\n",
              "      <td>623</td>\n",
              "      <td>2011-01-29</td>\n",
              "      <td>1</td>\n",
              "      <td>0</td>\n",
              "      <td>1</td>\n",
              "      <td>4</td>\n",
              "      <td>False</td>\n",
              "      <td>6</td>\n",
              "      <td>1</td>\n",
              "      <td>0.16</td>\n",
              "      <td>0.1818</td>\n",
              "      <td>0.69</td>\n",
              "      <td>0.1045</td>\n",
              "      <td>1</td>\n",
              "      <td>2</td>\n",
              "      <td>3</td>\n",
              "    </tr>\n",
              "    <tr>\n",
              "      <th>4</th>\n",
              "      <td>624</td>\n",
              "      <td>2011-01-29</td>\n",
              "      <td>1</td>\n",
              "      <td>0</td>\n",
              "      <td>1</td>\n",
              "      <td>6</td>\n",
              "      <td>False</td>\n",
              "      <td>6</td>\n",
              "      <td>1</td>\n",
              "      <td>0.16</td>\n",
              "      <td>0.1818</td>\n",
              "      <td>0.64</td>\n",
              "      <td>0.1343</td>\n",
              "      <td>0</td>\n",
              "      <td>2</td>\n",
              "      <td>2</td>\n",
              "    </tr>\n",
              "  </tbody>\n",
              "</table>\n",
              "</div>\n",
              "    <div class=\"colab-df-buttons\">\n",
              "\n",
              "  <div class=\"colab-df-container\">\n",
              "    <button class=\"colab-df-convert\" onclick=\"convertToInteractive('df-79e0ad28-a8ce-4063-b586-3c0115be5613')\"\n",
              "            title=\"Convert this dataframe to an interactive table.\"\n",
              "            style=\"display:none;\">\n",
              "\n",
              "  <svg xmlns=\"http://www.w3.org/2000/svg\" height=\"24px\" viewBox=\"0 -960 960 960\">\n",
              "    <path d=\"M120-120v-720h720v720H120Zm60-500h600v-160H180v160Zm220 220h160v-160H400v160Zm0 220h160v-160H400v160ZM180-400h160v-160H180v160Zm440 0h160v-160H620v160ZM180-180h160v-160H180v160Zm440 0h160v-160H620v160Z\"/>\n",
              "  </svg>\n",
              "    </button>\n",
              "\n",
              "  <style>\n",
              "    .colab-df-container {\n",
              "      display:flex;\n",
              "      gap: 12px;\n",
              "    }\n",
              "\n",
              "    .colab-df-convert {\n",
              "      background-color: #E8F0FE;\n",
              "      border: none;\n",
              "      border-radius: 50%;\n",
              "      cursor: pointer;\n",
              "      display: none;\n",
              "      fill: #1967D2;\n",
              "      height: 32px;\n",
              "      padding: 0 0 0 0;\n",
              "      width: 32px;\n",
              "    }\n",
              "\n",
              "    .colab-df-convert:hover {\n",
              "      background-color: #E2EBFA;\n",
              "      box-shadow: 0px 1px 2px rgba(60, 64, 67, 0.3), 0px 1px 3px 1px rgba(60, 64, 67, 0.15);\n",
              "      fill: #174EA6;\n",
              "    }\n",
              "\n",
              "    .colab-df-buttons div {\n",
              "      margin-bottom: 4px;\n",
              "    }\n",
              "\n",
              "    [theme=dark] .colab-df-convert {\n",
              "      background-color: #3B4455;\n",
              "      fill: #D2E3FC;\n",
              "    }\n",
              "\n",
              "    [theme=dark] .colab-df-convert:hover {\n",
              "      background-color: #434B5C;\n",
              "      box-shadow: 0px 1px 3px 1px rgba(0, 0, 0, 0.15);\n",
              "      filter: drop-shadow(0px 1px 2px rgba(0, 0, 0, 0.3));\n",
              "      fill: #FFFFFF;\n",
              "    }\n",
              "  </style>\n",
              "\n",
              "    <script>\n",
              "      const buttonEl =\n",
              "        document.querySelector('#df-79e0ad28-a8ce-4063-b586-3c0115be5613 button.colab-df-convert');\n",
              "      buttonEl.style.display =\n",
              "        google.colab.kernel.accessAllowed ? 'block' : 'none';\n",
              "\n",
              "      async function convertToInteractive(key) {\n",
              "        const element = document.querySelector('#df-79e0ad28-a8ce-4063-b586-3c0115be5613');\n",
              "        const dataTable =\n",
              "          await google.colab.kernel.invokeFunction('convertToInteractive',\n",
              "                                                    [key], {});\n",
              "        if (!dataTable) return;\n",
              "\n",
              "        const docLinkHtml = 'Like what you see? Visit the ' +\n",
              "          '<a target=\"_blank\" href=https://colab.research.google.com/notebooks/data_table.ipynb>data table notebook</a>'\n",
              "          + ' to learn more about interactive tables.';\n",
              "        element.innerHTML = '';\n",
              "        dataTable['output_type'] = 'display_data';\n",
              "        await google.colab.output.renderOutput(dataTable, element);\n",
              "        const docLink = document.createElement('div');\n",
              "        docLink.innerHTML = docLinkHtml;\n",
              "        element.appendChild(docLink);\n",
              "      }\n",
              "    </script>\n",
              "  </div>\n",
              "\n",
              "\n",
              "<div id=\"df-3d0255e4-3a3d-447d-8d4e-8c5fe0882e25\">\n",
              "  <button class=\"colab-df-quickchart\" onclick=\"quickchart('df-3d0255e4-3a3d-447d-8d4e-8c5fe0882e25')\"\n",
              "            title=\"Suggest charts\"\n",
              "            style=\"display:none;\">\n",
              "\n",
              "<svg xmlns=\"http://www.w3.org/2000/svg\" height=\"24px\"viewBox=\"0 0 24 24\"\n",
              "     width=\"24px\">\n",
              "    <g>\n",
              "        <path d=\"M19 3H5c-1.1 0-2 .9-2 2v14c0 1.1.9 2 2 2h14c1.1 0 2-.9 2-2V5c0-1.1-.9-2-2-2zM9 17H7v-7h2v7zm4 0h-2V7h2v10zm4 0h-2v-4h2v4z\"/>\n",
              "    </g>\n",
              "</svg>\n",
              "  </button>\n",
              "\n",
              "<style>\n",
              "  .colab-df-quickchart {\n",
              "      --bg-color: #E8F0FE;\n",
              "      --fill-color: #1967D2;\n",
              "      --hover-bg-color: #E2EBFA;\n",
              "      --hover-fill-color: #174EA6;\n",
              "      --disabled-fill-color: #AAA;\n",
              "      --disabled-bg-color: #DDD;\n",
              "  }\n",
              "\n",
              "  [theme=dark] .colab-df-quickchart {\n",
              "      --bg-color: #3B4455;\n",
              "      --fill-color: #D2E3FC;\n",
              "      --hover-bg-color: #434B5C;\n",
              "      --hover-fill-color: #FFFFFF;\n",
              "      --disabled-bg-color: #3B4455;\n",
              "      --disabled-fill-color: #666;\n",
              "  }\n",
              "\n",
              "  .colab-df-quickchart {\n",
              "    background-color: var(--bg-color);\n",
              "    border: none;\n",
              "    border-radius: 50%;\n",
              "    cursor: pointer;\n",
              "    display: none;\n",
              "    fill: var(--fill-color);\n",
              "    height: 32px;\n",
              "    padding: 0;\n",
              "    width: 32px;\n",
              "  }\n",
              "\n",
              "  .colab-df-quickchart:hover {\n",
              "    background-color: var(--hover-bg-color);\n",
              "    box-shadow: 0 1px 2px rgba(60, 64, 67, 0.3), 0 1px 3px 1px rgba(60, 64, 67, 0.15);\n",
              "    fill: var(--button-hover-fill-color);\n",
              "  }\n",
              "\n",
              "  .colab-df-quickchart-complete:disabled,\n",
              "  .colab-df-quickchart-complete:disabled:hover {\n",
              "    background-color: var(--disabled-bg-color);\n",
              "    fill: var(--disabled-fill-color);\n",
              "    box-shadow: none;\n",
              "  }\n",
              "\n",
              "  .colab-df-spinner {\n",
              "    border: 2px solid var(--fill-color);\n",
              "    border-color: transparent;\n",
              "    border-bottom-color: var(--fill-color);\n",
              "    animation:\n",
              "      spin 1s steps(1) infinite;\n",
              "  }\n",
              "\n",
              "  @keyframes spin {\n",
              "    0% {\n",
              "      border-color: transparent;\n",
              "      border-bottom-color: var(--fill-color);\n",
              "      border-left-color: var(--fill-color);\n",
              "    }\n",
              "    20% {\n",
              "      border-color: transparent;\n",
              "      border-left-color: var(--fill-color);\n",
              "      border-top-color: var(--fill-color);\n",
              "    }\n",
              "    30% {\n",
              "      border-color: transparent;\n",
              "      border-left-color: var(--fill-color);\n",
              "      border-top-color: var(--fill-color);\n",
              "      border-right-color: var(--fill-color);\n",
              "    }\n",
              "    40% {\n",
              "      border-color: transparent;\n",
              "      border-right-color: var(--fill-color);\n",
              "      border-top-color: var(--fill-color);\n",
              "    }\n",
              "    60% {\n",
              "      border-color: transparent;\n",
              "      border-right-color: var(--fill-color);\n",
              "    }\n",
              "    80% {\n",
              "      border-color: transparent;\n",
              "      border-right-color: var(--fill-color);\n",
              "      border-bottom-color: var(--fill-color);\n",
              "    }\n",
              "    90% {\n",
              "      border-color: transparent;\n",
              "      border-bottom-color: var(--fill-color);\n",
              "    }\n",
              "  }\n",
              "</style>\n",
              "\n",
              "  <script>\n",
              "    async function quickchart(key) {\n",
              "      const quickchartButtonEl =\n",
              "        document.querySelector('#' + key + ' button');\n",
              "      quickchartButtonEl.disabled = true;  // To prevent multiple clicks.\n",
              "      quickchartButtonEl.classList.add('colab-df-spinner');\n",
              "      try {\n",
              "        const charts = await google.colab.kernel.invokeFunction(\n",
              "            'suggestCharts', [key], {});\n",
              "      } catch (error) {\n",
              "        console.error('Error during call to suggestCharts:', error);\n",
              "      }\n",
              "      quickchartButtonEl.classList.remove('colab-df-spinner');\n",
              "      quickchartButtonEl.classList.add('colab-df-quickchart-complete');\n",
              "    }\n",
              "    (() => {\n",
              "      let quickchartButtonEl =\n",
              "        document.querySelector('#df-3d0255e4-3a3d-447d-8d4e-8c5fe0882e25 button');\n",
              "      quickchartButtonEl.style.display =\n",
              "        google.colab.kernel.accessAllowed ? 'block' : 'none';\n",
              "    })();\n",
              "  </script>\n",
              "</div>\n",
              "\n",
              "    </div>\n",
              "  </div>\n"
            ],
            "application/vnd.google.colaboratory.intrinsic+json": {
              "type": "dataframe",
              "variable_name": "data3",
              "summary": "{\n  \"name\": \"data3\",\n  \"rows\": 390,\n  \"fields\": [\n    {\n      \"column\": \"instant\",\n      \"properties\": {\n        \"dtype\": \"number\",\n        \"std\": 112,\n        \"min\": 611,\n        \"max\": 1000,\n        \"num_unique_values\": 390,\n        \"samples\": [\n          629,\n          662,\n          653\n        ],\n        \"semantic_type\": \"\",\n        \"description\": \"\"\n      }\n    },\n    {\n      \"column\": \"dteday\",\n      \"properties\": {\n        \"dtype\": \"date\",\n        \"min\": \"2011-01-28 00:00:00\",\n        \"max\": \"2011-02-14 00:00:00\",\n        \"num_unique_values\": 18,\n        \"samples\": [\n          \"2011-01-29 00:00:00\",\n          \"2011-01-30 00:00:00\",\n          \"2011-02-06 00:00:00\"\n        ],\n        \"semantic_type\": \"\",\n        \"description\": \"\"\n      }\n    },\n    {\n      \"column\": \"season\",\n      \"properties\": {\n        \"dtype\": \"number\",\n        \"std\": 0,\n        \"min\": 1,\n        \"max\": 1,\n        \"num_unique_values\": 1,\n        \"samples\": [\n          1\n        ],\n        \"semantic_type\": \"\",\n        \"description\": \"\"\n      }\n    },\n    {\n      \"column\": \"yr\",\n      \"properties\": {\n        \"dtype\": \"number\",\n        \"std\": 0,\n        \"min\": 0,\n        \"max\": 0,\n        \"num_unique_values\": 1,\n        \"samples\": [\n          0\n        ],\n        \"semantic_type\": \"\",\n        \"description\": \"\"\n      }\n    },\n    {\n      \"column\": \"mnth\",\n      \"properties\": {\n        \"dtype\": \"number\",\n        \"std\": 0,\n        \"min\": 1,\n        \"max\": 2,\n        \"num_unique_values\": 2,\n        \"samples\": [\n          2\n        ],\n        \"semantic_type\": \"\",\n        \"description\": \"\"\n      }\n    },\n    {\n      \"column\": \"hr\",\n      \"properties\": {\n        \"dtype\": \"number\",\n        \"std\": 6,\n        \"min\": 0,\n        \"max\": 23,\n        \"num_unique_values\": 24,\n        \"samples\": [\n          10\n        ],\n        \"semantic_type\": \"\",\n        \"description\": \"\"\n      }\n    },\n    {\n      \"column\": \"holiday\",\n      \"properties\": {\n        \"dtype\": \"boolean\",\n        \"num_unique_values\": 1,\n        \"samples\": [\n          false\n        ],\n        \"semantic_type\": \"\",\n        \"description\": \"\"\n      }\n    },\n    {\n      \"column\": \"weekday\",\n      \"properties\": {\n        \"dtype\": \"number\",\n        \"std\": 2,\n        \"min\": 0,\n        \"max\": 6,\n        \"num_unique_values\": 7,\n        \"samples\": [\n          6\n        ],\n        \"semantic_type\": \"\",\n        \"description\": \"\"\n      }\n    },\n    {\n      \"column\": \"weathersit\",\n      \"properties\": {\n        \"dtype\": \"number\",\n        \"std\": 0,\n        \"min\": 1,\n        \"max\": 3,\n        \"num_unique_values\": 3,\n        \"samples\": [\n          1\n        ],\n        \"semantic_type\": \"\",\n        \"description\": \"\"\n      }\n    },\n    {\n      \"column\": \"temp\",\n      \"properties\": {\n        \"dtype\": \"number\",\n        \"std\": 0.07309535273367,\n        \"min\": 0.06,\n        \"max\": 0.42,\n        \"num_unique_values\": 19,\n        \"samples\": [\n          0.22\n        ],\n        \"semantic_type\": \"\",\n        \"description\": \"\"\n      }\n    },\n    {\n      \"column\": \"atemp\",\n      \"properties\": {\n        \"dtype\": \"number\",\n        \"std\": 0.0694553887306772,\n        \"min\": 0.0758,\n        \"max\": 0.4242,\n        \"num_unique_values\": 22,\n        \"samples\": [\n          0.2273\n        ],\n        \"semantic_type\": \"\",\n        \"description\": \"\"\n      }\n    },\n    {\n      \"column\": \"hum\",\n      \"properties\": {\n        \"dtype\": \"number\",\n        \"std\": 0.20236112208001783,\n        \"min\": 0.21,\n        \"max\": 1.0,\n        \"num_unique_values\": 58,\n        \"samples\": [\n          0.64\n        ],\n        \"semantic_type\": \"\",\n        \"description\": \"\"\n      }\n    },\n    {\n      \"column\": \"windspeed\",\n      \"properties\": {\n        \"dtype\": \"number\",\n        \"std\": 0.13855127865173453,\n        \"min\": 0.0,\n        \"max\": 0.5821,\n        \"num_unique_values\": 20,\n        \"samples\": [\n          0.194\n        ],\n        \"semantic_type\": \"\",\n        \"description\": \"\"\n      }\n    },\n    {\n      \"column\": \"casual\",\n      \"properties\": {\n        \"dtype\": \"number\",\n        \"std\": 9,\n        \"min\": 0,\n        \"max\": 62,\n        \"num_unique_values\": 36,\n        \"samples\": [\n          40\n        ],\n        \"semantic_type\": \"\",\n        \"description\": \"\"\n      }\n    },\n    {\n      \"column\": \"registered\",\n      \"properties\": {\n        \"dtype\": \"number\",\n        \"std\": 49,\n        \"min\": 0,\n        \"max\": 236,\n        \"num_unique_values\": 146,\n        \"samples\": [\n          85\n        ],\n        \"semantic_type\": \"\",\n        \"description\": \"\"\n      }\n    },\n    {\n      \"column\": \"cnt\",\n      \"properties\": {\n        \"dtype\": \"number\",\n        \"std\": 53,\n        \"min\": 1,\n        \"max\": 243,\n        \"num_unique_values\": 144,\n        \"samples\": [\n          152\n        ],\n        \"semantic_type\": \"\",\n        \"description\": \"\"\n      }\n    }\n  ]\n}"
            }
          },
          "metadata": {},
          "execution_count": 7
        }
      ]
    },
    {
      "cell_type": "code",
      "source": [
        "data3.tail()"
      ],
      "metadata": {
        "colab": {
          "base_uri": "https://localhost:8080/",
          "height": 313
        },
        "id": "qMtt-3xp1zPa",
        "outputId": "dadbc50a-73c1-4395-c2a1-9caa49242f65"
      },
      "execution_count": null,
      "outputs": [
        {
          "output_type": "execute_result",
          "data": {
            "text/plain": [
              "     instant     dteday  season  yr  mnth  hr  holiday  weekday  weathersit  \\\n",
              "385      615 2011-01-28       1   0     1  20    False        5           2   \n",
              "386      616 2011-01-28       1   0     1  21    False        5           2   \n",
              "387      617 2011-01-28       1   0     1  22    False        5           1   \n",
              "388      618 2011-01-28       1   0     1  23    False        5           1   \n",
              "389      619 2011-01-29       1   0     1   0    False        6           1   \n",
              "\n",
              "     temp   atemp   hum  windspeed  casual  registered  cnt  \n",
              "385  0.24  0.2273  0.70     0.1940       1          61   62  \n",
              "386  0.22  0.2273  0.75     0.1343       1          57   58  \n",
              "387  0.24  0.2121  0.65     0.3582       0          26   26  \n",
              "388  0.24  0.2273  0.60     0.2239       1          22   23  \n",
              "389  0.22  0.1970  0.64     0.3582       2          26   28  "
            ],
            "text/html": [
              "\n",
              "  <div id=\"df-1d405f93-68a2-4419-bc2c-bf8406c56f12\" class=\"colab-df-container\">\n",
              "    <div>\n",
              "<style scoped>\n",
              "    .dataframe tbody tr th:only-of-type {\n",
              "        vertical-align: middle;\n",
              "    }\n",
              "\n",
              "    .dataframe tbody tr th {\n",
              "        vertical-align: top;\n",
              "    }\n",
              "\n",
              "    .dataframe thead th {\n",
              "        text-align: right;\n",
              "    }\n",
              "</style>\n",
              "<table border=\"1\" class=\"dataframe\">\n",
              "  <thead>\n",
              "    <tr style=\"text-align: right;\">\n",
              "      <th></th>\n",
              "      <th>instant</th>\n",
              "      <th>dteday</th>\n",
              "      <th>season</th>\n",
              "      <th>yr</th>\n",
              "      <th>mnth</th>\n",
              "      <th>hr</th>\n",
              "      <th>holiday</th>\n",
              "      <th>weekday</th>\n",
              "      <th>weathersit</th>\n",
              "      <th>temp</th>\n",
              "      <th>atemp</th>\n",
              "      <th>hum</th>\n",
              "      <th>windspeed</th>\n",
              "      <th>casual</th>\n",
              "      <th>registered</th>\n",
              "      <th>cnt</th>\n",
              "    </tr>\n",
              "  </thead>\n",
              "  <tbody>\n",
              "    <tr>\n",
              "      <th>385</th>\n",
              "      <td>615</td>\n",
              "      <td>2011-01-28</td>\n",
              "      <td>1</td>\n",
              "      <td>0</td>\n",
              "      <td>1</td>\n",
              "      <td>20</td>\n",
              "      <td>False</td>\n",
              "      <td>5</td>\n",
              "      <td>2</td>\n",
              "      <td>0.24</td>\n",
              "      <td>0.2273</td>\n",
              "      <td>0.70</td>\n",
              "      <td>0.1940</td>\n",
              "      <td>1</td>\n",
              "      <td>61</td>\n",
              "      <td>62</td>\n",
              "    </tr>\n",
              "    <tr>\n",
              "      <th>386</th>\n",
              "      <td>616</td>\n",
              "      <td>2011-01-28</td>\n",
              "      <td>1</td>\n",
              "      <td>0</td>\n",
              "      <td>1</td>\n",
              "      <td>21</td>\n",
              "      <td>False</td>\n",
              "      <td>5</td>\n",
              "      <td>2</td>\n",
              "      <td>0.22</td>\n",
              "      <td>0.2273</td>\n",
              "      <td>0.75</td>\n",
              "      <td>0.1343</td>\n",
              "      <td>1</td>\n",
              "      <td>57</td>\n",
              "      <td>58</td>\n",
              "    </tr>\n",
              "    <tr>\n",
              "      <th>387</th>\n",
              "      <td>617</td>\n",
              "      <td>2011-01-28</td>\n",
              "      <td>1</td>\n",
              "      <td>0</td>\n",
              "      <td>1</td>\n",
              "      <td>22</td>\n",
              "      <td>False</td>\n",
              "      <td>5</td>\n",
              "      <td>1</td>\n",
              "      <td>0.24</td>\n",
              "      <td>0.2121</td>\n",
              "      <td>0.65</td>\n",
              "      <td>0.3582</td>\n",
              "      <td>0</td>\n",
              "      <td>26</td>\n",
              "      <td>26</td>\n",
              "    </tr>\n",
              "    <tr>\n",
              "      <th>388</th>\n",
              "      <td>618</td>\n",
              "      <td>2011-01-28</td>\n",
              "      <td>1</td>\n",
              "      <td>0</td>\n",
              "      <td>1</td>\n",
              "      <td>23</td>\n",
              "      <td>False</td>\n",
              "      <td>5</td>\n",
              "      <td>1</td>\n",
              "      <td>0.24</td>\n",
              "      <td>0.2273</td>\n",
              "      <td>0.60</td>\n",
              "      <td>0.2239</td>\n",
              "      <td>1</td>\n",
              "      <td>22</td>\n",
              "      <td>23</td>\n",
              "    </tr>\n",
              "    <tr>\n",
              "      <th>389</th>\n",
              "      <td>619</td>\n",
              "      <td>2011-01-29</td>\n",
              "      <td>1</td>\n",
              "      <td>0</td>\n",
              "      <td>1</td>\n",
              "      <td>0</td>\n",
              "      <td>False</td>\n",
              "      <td>6</td>\n",
              "      <td>1</td>\n",
              "      <td>0.22</td>\n",
              "      <td>0.1970</td>\n",
              "      <td>0.64</td>\n",
              "      <td>0.3582</td>\n",
              "      <td>2</td>\n",
              "      <td>26</td>\n",
              "      <td>28</td>\n",
              "    </tr>\n",
              "  </tbody>\n",
              "</table>\n",
              "</div>\n",
              "    <div class=\"colab-df-buttons\">\n",
              "\n",
              "  <div class=\"colab-df-container\">\n",
              "    <button class=\"colab-df-convert\" onclick=\"convertToInteractive('df-1d405f93-68a2-4419-bc2c-bf8406c56f12')\"\n",
              "            title=\"Convert this dataframe to an interactive table.\"\n",
              "            style=\"display:none;\">\n",
              "\n",
              "  <svg xmlns=\"http://www.w3.org/2000/svg\" height=\"24px\" viewBox=\"0 -960 960 960\">\n",
              "    <path d=\"M120-120v-720h720v720H120Zm60-500h600v-160H180v160Zm220 220h160v-160H400v160Zm0 220h160v-160H400v160ZM180-400h160v-160H180v160Zm440 0h160v-160H620v160ZM180-180h160v-160H180v160Zm440 0h160v-160H620v160Z\"/>\n",
              "  </svg>\n",
              "    </button>\n",
              "\n",
              "  <style>\n",
              "    .colab-df-container {\n",
              "      display:flex;\n",
              "      gap: 12px;\n",
              "    }\n",
              "\n",
              "    .colab-df-convert {\n",
              "      background-color: #E8F0FE;\n",
              "      border: none;\n",
              "      border-radius: 50%;\n",
              "      cursor: pointer;\n",
              "      display: none;\n",
              "      fill: #1967D2;\n",
              "      height: 32px;\n",
              "      padding: 0 0 0 0;\n",
              "      width: 32px;\n",
              "    }\n",
              "\n",
              "    .colab-df-convert:hover {\n",
              "      background-color: #E2EBFA;\n",
              "      box-shadow: 0px 1px 2px rgba(60, 64, 67, 0.3), 0px 1px 3px 1px rgba(60, 64, 67, 0.15);\n",
              "      fill: #174EA6;\n",
              "    }\n",
              "\n",
              "    .colab-df-buttons div {\n",
              "      margin-bottom: 4px;\n",
              "    }\n",
              "\n",
              "    [theme=dark] .colab-df-convert {\n",
              "      background-color: #3B4455;\n",
              "      fill: #D2E3FC;\n",
              "    }\n",
              "\n",
              "    [theme=dark] .colab-df-convert:hover {\n",
              "      background-color: #434B5C;\n",
              "      box-shadow: 0px 1px 3px 1px rgba(0, 0, 0, 0.15);\n",
              "      filter: drop-shadow(0px 1px 2px rgba(0, 0, 0, 0.3));\n",
              "      fill: #FFFFFF;\n",
              "    }\n",
              "  </style>\n",
              "\n",
              "    <script>\n",
              "      const buttonEl =\n",
              "        document.querySelector('#df-1d405f93-68a2-4419-bc2c-bf8406c56f12 button.colab-df-convert');\n",
              "      buttonEl.style.display =\n",
              "        google.colab.kernel.accessAllowed ? 'block' : 'none';\n",
              "\n",
              "      async function convertToInteractive(key) {\n",
              "        const element = document.querySelector('#df-1d405f93-68a2-4419-bc2c-bf8406c56f12');\n",
              "        const dataTable =\n",
              "          await google.colab.kernel.invokeFunction('convertToInteractive',\n",
              "                                                    [key], {});\n",
              "        if (!dataTable) return;\n",
              "\n",
              "        const docLinkHtml = 'Like what you see? Visit the ' +\n",
              "          '<a target=\"_blank\" href=https://colab.research.google.com/notebooks/data_table.ipynb>data table notebook</a>'\n",
              "          + ' to learn more about interactive tables.';\n",
              "        element.innerHTML = '';\n",
              "        dataTable['output_type'] = 'display_data';\n",
              "        await google.colab.output.renderOutput(dataTable, element);\n",
              "        const docLink = document.createElement('div');\n",
              "        docLink.innerHTML = docLinkHtml;\n",
              "        element.appendChild(docLink);\n",
              "      }\n",
              "    </script>\n",
              "  </div>\n",
              "\n",
              "\n",
              "<div id=\"df-e16e8fab-a053-4ce4-a775-e754e83d73f5\">\n",
              "  <button class=\"colab-df-quickchart\" onclick=\"quickchart('df-e16e8fab-a053-4ce4-a775-e754e83d73f5')\"\n",
              "            title=\"Suggest charts\"\n",
              "            style=\"display:none;\">\n",
              "\n",
              "<svg xmlns=\"http://www.w3.org/2000/svg\" height=\"24px\"viewBox=\"0 0 24 24\"\n",
              "     width=\"24px\">\n",
              "    <g>\n",
              "        <path d=\"M19 3H5c-1.1 0-2 .9-2 2v14c0 1.1.9 2 2 2h14c1.1 0 2-.9 2-2V5c0-1.1-.9-2-2-2zM9 17H7v-7h2v7zm4 0h-2V7h2v10zm4 0h-2v-4h2v4z\"/>\n",
              "    </g>\n",
              "</svg>\n",
              "  </button>\n",
              "\n",
              "<style>\n",
              "  .colab-df-quickchart {\n",
              "      --bg-color: #E8F0FE;\n",
              "      --fill-color: #1967D2;\n",
              "      --hover-bg-color: #E2EBFA;\n",
              "      --hover-fill-color: #174EA6;\n",
              "      --disabled-fill-color: #AAA;\n",
              "      --disabled-bg-color: #DDD;\n",
              "  }\n",
              "\n",
              "  [theme=dark] .colab-df-quickchart {\n",
              "      --bg-color: #3B4455;\n",
              "      --fill-color: #D2E3FC;\n",
              "      --hover-bg-color: #434B5C;\n",
              "      --hover-fill-color: #FFFFFF;\n",
              "      --disabled-bg-color: #3B4455;\n",
              "      --disabled-fill-color: #666;\n",
              "  }\n",
              "\n",
              "  .colab-df-quickchart {\n",
              "    background-color: var(--bg-color);\n",
              "    border: none;\n",
              "    border-radius: 50%;\n",
              "    cursor: pointer;\n",
              "    display: none;\n",
              "    fill: var(--fill-color);\n",
              "    height: 32px;\n",
              "    padding: 0;\n",
              "    width: 32px;\n",
              "  }\n",
              "\n",
              "  .colab-df-quickchart:hover {\n",
              "    background-color: var(--hover-bg-color);\n",
              "    box-shadow: 0 1px 2px rgba(60, 64, 67, 0.3), 0 1px 3px 1px rgba(60, 64, 67, 0.15);\n",
              "    fill: var(--button-hover-fill-color);\n",
              "  }\n",
              "\n",
              "  .colab-df-quickchart-complete:disabled,\n",
              "  .colab-df-quickchart-complete:disabled:hover {\n",
              "    background-color: var(--disabled-bg-color);\n",
              "    fill: var(--disabled-fill-color);\n",
              "    box-shadow: none;\n",
              "  }\n",
              "\n",
              "  .colab-df-spinner {\n",
              "    border: 2px solid var(--fill-color);\n",
              "    border-color: transparent;\n",
              "    border-bottom-color: var(--fill-color);\n",
              "    animation:\n",
              "      spin 1s steps(1) infinite;\n",
              "  }\n",
              "\n",
              "  @keyframes spin {\n",
              "    0% {\n",
              "      border-color: transparent;\n",
              "      border-bottom-color: var(--fill-color);\n",
              "      border-left-color: var(--fill-color);\n",
              "    }\n",
              "    20% {\n",
              "      border-color: transparent;\n",
              "      border-left-color: var(--fill-color);\n",
              "      border-top-color: var(--fill-color);\n",
              "    }\n",
              "    30% {\n",
              "      border-color: transparent;\n",
              "      border-left-color: var(--fill-color);\n",
              "      border-top-color: var(--fill-color);\n",
              "      border-right-color: var(--fill-color);\n",
              "    }\n",
              "    40% {\n",
              "      border-color: transparent;\n",
              "      border-right-color: var(--fill-color);\n",
              "      border-top-color: var(--fill-color);\n",
              "    }\n",
              "    60% {\n",
              "      border-color: transparent;\n",
              "      border-right-color: var(--fill-color);\n",
              "    }\n",
              "    80% {\n",
              "      border-color: transparent;\n",
              "      border-right-color: var(--fill-color);\n",
              "      border-bottom-color: var(--fill-color);\n",
              "    }\n",
              "    90% {\n",
              "      border-color: transparent;\n",
              "      border-bottom-color: var(--fill-color);\n",
              "    }\n",
              "  }\n",
              "</style>\n",
              "\n",
              "  <script>\n",
              "    async function quickchart(key) {\n",
              "      const quickchartButtonEl =\n",
              "        document.querySelector('#' + key + ' button');\n",
              "      quickchartButtonEl.disabled = true;  // To prevent multiple clicks.\n",
              "      quickchartButtonEl.classList.add('colab-df-spinner');\n",
              "      try {\n",
              "        const charts = await google.colab.kernel.invokeFunction(\n",
              "            'suggestCharts', [key], {});\n",
              "      } catch (error) {\n",
              "        console.error('Error during call to suggestCharts:', error);\n",
              "      }\n",
              "      quickchartButtonEl.classList.remove('colab-df-spinner');\n",
              "      quickchartButtonEl.classList.add('colab-df-quickchart-complete');\n",
              "    }\n",
              "    (() => {\n",
              "      let quickchartButtonEl =\n",
              "        document.querySelector('#df-e16e8fab-a053-4ce4-a775-e754e83d73f5 button');\n",
              "      quickchartButtonEl.style.display =\n",
              "        google.colab.kernel.accessAllowed ? 'block' : 'none';\n",
              "    })();\n",
              "  </script>\n",
              "</div>\n",
              "\n",
              "    </div>\n",
              "  </div>\n"
            ],
            "application/vnd.google.colaboratory.intrinsic+json": {
              "type": "dataframe",
              "summary": "{\n  \"name\": \"data3\",\n  \"rows\": 5,\n  \"fields\": [\n    {\n      \"column\": \"instant\",\n      \"properties\": {\n        \"dtype\": \"number\",\n        \"std\": 1,\n        \"min\": 615,\n        \"max\": 619,\n        \"num_unique_values\": 5,\n        \"samples\": [\n          616,\n          619,\n          617\n        ],\n        \"semantic_type\": \"\",\n        \"description\": \"\"\n      }\n    },\n    {\n      \"column\": \"dteday\",\n      \"properties\": {\n        \"dtype\": \"date\",\n        \"min\": \"2011-01-28 00:00:00\",\n        \"max\": \"2011-01-29 00:00:00\",\n        \"num_unique_values\": 2,\n        \"samples\": [\n          \"2011-01-29 00:00:00\",\n          \"2011-01-28 00:00:00\"\n        ],\n        \"semantic_type\": \"\",\n        \"description\": \"\"\n      }\n    },\n    {\n      \"column\": \"season\",\n      \"properties\": {\n        \"dtype\": \"number\",\n        \"std\": 0,\n        \"min\": 1,\n        \"max\": 1,\n        \"num_unique_values\": 1,\n        \"samples\": [\n          1\n        ],\n        \"semantic_type\": \"\",\n        \"description\": \"\"\n      }\n    },\n    {\n      \"column\": \"yr\",\n      \"properties\": {\n        \"dtype\": \"number\",\n        \"std\": 0,\n        \"min\": 0,\n        \"max\": 0,\n        \"num_unique_values\": 1,\n        \"samples\": [\n          0\n        ],\n        \"semantic_type\": \"\",\n        \"description\": \"\"\n      }\n    },\n    {\n      \"column\": \"mnth\",\n      \"properties\": {\n        \"dtype\": \"number\",\n        \"std\": 0,\n        \"min\": 1,\n        \"max\": 1,\n        \"num_unique_values\": 1,\n        \"samples\": [\n          1\n        ],\n        \"semantic_type\": \"\",\n        \"description\": \"\"\n      }\n    },\n    {\n      \"column\": \"hr\",\n      \"properties\": {\n        \"dtype\": \"number\",\n        \"std\": 9,\n        \"min\": 0,\n        \"max\": 23,\n        \"num_unique_values\": 5,\n        \"samples\": [\n          21\n        ],\n        \"semantic_type\": \"\",\n        \"description\": \"\"\n      }\n    },\n    {\n      \"column\": \"holiday\",\n      \"properties\": {\n        \"dtype\": \"boolean\",\n        \"num_unique_values\": 1,\n        \"samples\": [\n          false\n        ],\n        \"semantic_type\": \"\",\n        \"description\": \"\"\n      }\n    },\n    {\n      \"column\": \"weekday\",\n      \"properties\": {\n        \"dtype\": \"number\",\n        \"std\": 0,\n        \"min\": 5,\n        \"max\": 6,\n        \"num_unique_values\": 2,\n        \"samples\": [\n          6\n        ],\n        \"semantic_type\": \"\",\n        \"description\": \"\"\n      }\n    },\n    {\n      \"column\": \"weathersit\",\n      \"properties\": {\n        \"dtype\": \"number\",\n        \"std\": 0,\n        \"min\": 1,\n        \"max\": 2,\n        \"num_unique_values\": 2,\n        \"samples\": [\n          1\n        ],\n        \"semantic_type\": \"\",\n        \"description\": \"\"\n      }\n    },\n    {\n      \"column\": \"temp\",\n      \"properties\": {\n        \"dtype\": \"number\",\n        \"std\": 0.010954451150103317,\n        \"min\": 0.22,\n        \"max\": 0.24,\n        \"num_unique_values\": 2,\n        \"samples\": [\n          0.22\n        ],\n        \"semantic_type\": \"\",\n        \"description\": \"\"\n      }\n    },\n    {\n      \"column\": \"atemp\",\n      \"properties\": {\n        \"dtype\": \"number\",\n        \"std\": 0.01355617940276684,\n        \"min\": 0.197,\n        \"max\": 0.2273,\n        \"num_unique_values\": 3,\n        \"samples\": [\n          0.2273\n        ],\n        \"semantic_type\": \"\",\n        \"description\": \"\"\n      }\n    },\n    {\n      \"column\": \"hum\",\n      \"properties\": {\n        \"dtype\": \"number\",\n        \"std\": 0.05805170109479997,\n        \"min\": 0.6,\n        \"max\": 0.75,\n        \"num_unique_values\": 5,\n        \"samples\": [\n          0.75\n        ],\n        \"semantic_type\": \"\",\n        \"description\": \"\"\n      }\n    },\n    {\n      \"column\": \"windspeed\",\n      \"properties\": {\n        \"dtype\": \"number\",\n        \"std\": 0.10068389642837629,\n        \"min\": 0.1343,\n        \"max\": 0.3582,\n        \"num_unique_values\": 4,\n        \"samples\": [\n          0.1343\n        ],\n        \"semantic_type\": \"\",\n        \"description\": \"\"\n      }\n    },\n    {\n      \"column\": \"casual\",\n      \"properties\": {\n        \"dtype\": \"number\",\n        \"std\": 0,\n        \"min\": 0,\n        \"max\": 2,\n        \"num_unique_values\": 3,\n        \"samples\": [\n          1\n        ],\n        \"semantic_type\": \"\",\n        \"description\": \"\"\n      }\n    },\n    {\n      \"column\": \"registered\",\n      \"properties\": {\n        \"dtype\": \"number\",\n        \"std\": 18,\n        \"min\": 22,\n        \"max\": 61,\n        \"num_unique_values\": 4,\n        \"samples\": [\n          57\n        ],\n        \"semantic_type\": \"\",\n        \"description\": \"\"\n      }\n    },\n    {\n      \"column\": \"cnt\",\n      \"properties\": {\n        \"dtype\": \"number\",\n        \"std\": 18,\n        \"min\": 23,\n        \"max\": 62,\n        \"num_unique_values\": 5,\n        \"samples\": [\n          58\n        ],\n        \"semantic_type\": \"\",\n        \"description\": \"\"\n      }\n    }\n  ]\n}"
            }
          },
          "metadata": {},
          "execution_count": 137
        }
      ]
    },
    {
      "cell_type": "code",
      "source": [
        "#Checking the type of the data3\n",
        "\n",
        "data3.dtypes"
      ],
      "metadata": {
        "colab": {
          "base_uri": "https://localhost:8080/"
        },
        "id": "4YwC8sg-2NlR",
        "outputId": "00f094ed-8cb3-41a4-b7c7-b53a923ebfac"
      },
      "execution_count": 8,
      "outputs": [
        {
          "output_type": "execute_result",
          "data": {
            "text/plain": [
              "instant                int64\n",
              "dteday        datetime64[ns]\n",
              "season                 int64\n",
              "yr                     int64\n",
              "mnth                   int64\n",
              "hr                     int64\n",
              "holiday                 bool\n",
              "weekday                int64\n",
              "weathersit             int64\n",
              "temp                 float64\n",
              "atemp                float64\n",
              "hum                  float64\n",
              "windspeed            float64\n",
              "casual                 int64\n",
              "registered             int64\n",
              "cnt                    int64\n",
              "dtype: object"
            ]
          },
          "metadata": {},
          "execution_count": 8
        }
      ]
    },
    {
      "cell_type": "code",
      "source": [
        "\n",
        "# Convert datetime to timestamp (seconds since Unix epoch)\n",
        "data3['Timestamp'] = data3['dteday'].astype('int64') // 10**9  # Convert nanoseconds to seconds (Unix timestamp)\n",
        "\n",
        "# Convert Timestamp to int64 (optional)\n",
        "data3['Timestamp'] = data3['Timestamp'].astype('int64')\n",
        "\n",
        "print(data3)\n"
      ],
      "metadata": {
        "colab": {
          "base_uri": "https://localhost:8080/"
        },
        "id": "VytV9V5d3qBr",
        "outputId": "cc833568-4d3b-4997-cd44-5f6ccfd98e8c"
      },
      "execution_count": 9,
      "outputs": [
        {
          "output_type": "stream",
          "name": "stdout",
          "text": [
            "     instant     dteday  season  yr  mnth  hr  holiday  weekday  weathersit  \\\n",
            "0        620 2011-01-29       1   0     1   1    False        6           1   \n",
            "1        621 2011-01-29       1   0     1   2    False        6           1   \n",
            "2        622 2011-01-29       1   0     1   3    False        6           1   \n",
            "3        623 2011-01-29       1   0     1   4    False        6           1   \n",
            "4        624 2011-01-29       1   0     1   6    False        6           1   \n",
            "..       ...        ...     ...  ..   ...  ..      ...      ...         ...   \n",
            "385      615 2011-01-28       1   0     1  20    False        5           2   \n",
            "386      616 2011-01-28       1   0     1  21    False        5           2   \n",
            "387      617 2011-01-28       1   0     1  22    False        5           1   \n",
            "388      618 2011-01-28       1   0     1  23    False        5           1   \n",
            "389      619 2011-01-29       1   0     1   0    False        6           1   \n",
            "\n",
            "     temp   atemp   hum  windspeed  casual  registered  cnt   Timestamp  \n",
            "0    0.22  0.2273  0.64     0.1940       0          20   20  1296259200  \n",
            "1    0.22  0.2273  0.64     0.1642       0          15   15  1296259200  \n",
            "2    0.20  0.2121  0.64     0.1343       3           5    8  1296259200  \n",
            "3    0.16  0.1818  0.69     0.1045       1           2    3  1296259200  \n",
            "4    0.16  0.1818  0.64     0.1343       0           2    2  1296259200  \n",
            "..    ...     ...   ...        ...     ...         ...  ...         ...  \n",
            "385  0.24  0.2273  0.70     0.1940       1          61   62  1296172800  \n",
            "386  0.22  0.2273  0.75     0.1343       1          57   58  1296172800  \n",
            "387  0.24  0.2121  0.65     0.3582       0          26   26  1296172800  \n",
            "388  0.24  0.2273  0.60     0.2239       1          22   23  1296172800  \n",
            "389  0.22  0.1970  0.64     0.3582       2          26   28  1296259200  \n",
            "\n",
            "[390 rows x 17 columns]\n"
          ]
        }
      ]
    },
    {
      "cell_type": "code",
      "source": [
        "data3.dtypes"
      ],
      "metadata": {
        "colab": {
          "base_uri": "https://localhost:8080/"
        },
        "id": "l_Rkv83339qY",
        "outputId": "7e7502d3-5781-4f25-af63-cc953aaf695f"
      },
      "execution_count": 12,
      "outputs": [
        {
          "output_type": "execute_result",
          "data": {
            "text/plain": [
              "instant                int64\n",
              "dteday        datetime64[ns]\n",
              "season                 int64\n",
              "yr                     int64\n",
              "mnth                   int64\n",
              "hr                     int64\n",
              "holiday                 bool\n",
              "weekday                int64\n",
              "weathersit             int64\n",
              "temp                 float64\n",
              "atemp                float64\n",
              "hum                  float64\n",
              "windspeed            float64\n",
              "casual                 int64\n",
              "registered             int64\n",
              "cnt                    int64\n",
              "Timestamp              int64\n",
              "dtype: object"
            ]
          },
          "metadata": {},
          "execution_count": 12
        }
      ]
    },
    {
      "cell_type": "code",
      "source": [
        "data3.describe()"
      ],
      "metadata": {
        "colab": {
          "base_uri": "https://localhost:8080/",
          "height": 424
        },
        "id": "OaNUBaVO2bp7",
        "outputId": "e7c4a902-9eae-4320-9fff-62c17cb249dc"
      },
      "execution_count": 14,
      "outputs": [
        {
          "output_type": "execute_result",
          "data": {
            "text/plain": [
              "           instant                         dteday  season     yr        mnth  \\\n",
              "count   390.000000                            390   390.0  390.0  390.000000   \n",
              "mean    805.500000  2011-02-05 11:45:13.846153728     1.0    0.0    1.800000   \n",
              "min     611.000000            2011-01-28 00:00:00     1.0    0.0    1.000000   \n",
              "25%     708.250000            2011-02-01 00:00:00     1.0    0.0    2.000000   \n",
              "50%     805.500000            2011-02-05 12:00:00     1.0    0.0    2.000000   \n",
              "75%     902.750000            2011-02-10 00:00:00     1.0    0.0    2.000000   \n",
              "max    1000.000000            2011-02-14 00:00:00     1.0    0.0    2.000000   \n",
              "std     112.727548                            NaN     0.0    0.0    0.400514   \n",
              "\n",
              "               hr     weekday  weathersit        temp       atemp         hum  \\\n",
              "count  390.000000  390.000000  390.000000  390.000000  390.000000  390.000000   \n",
              "mean    11.687179    2.989744    1.484615    0.220000    0.230424    0.613769   \n",
              "min      0.000000    0.000000    1.000000    0.060000    0.075800    0.210000   \n",
              "25%      6.000000    1.000000    1.000000    0.160000    0.181800    0.450000   \n",
              "50%     12.000000    3.000000    1.000000    0.220000    0.227300    0.600000   \n",
              "75%     18.000000    5.000000    2.000000    0.260000    0.272700    0.750000   \n",
              "max     23.000000    6.000000    3.000000    0.420000    0.424200    1.000000   \n",
              "std      6.980295    2.149884    0.663805    0.073095    0.069455    0.202361   \n",
              "\n",
              "        windspeed      casual  registered         cnt     Timestamp  \n",
              "count  390.000000  390.000000  390.000000  390.000000  3.900000e+02  \n",
              "mean     0.179416    5.576923   57.002564   62.579487  1.296906e+09  \n",
              "min      0.000000    0.000000    0.000000    1.000000  1.296173e+09  \n",
              "25%      0.089600    1.000000   17.000000   18.500000  1.296518e+09  \n",
              "50%      0.164200    3.000000   48.000000   52.000000  1.296907e+09  \n",
              "75%      0.283600    6.000000   83.750000   88.750000  1.297296e+09  \n",
              "max      0.582100   62.000000  236.000000  243.000000  1.297642e+09  \n",
              "std      0.138551    9.317478   49.070198   53.274838  4.164954e+05  "
            ],
            "text/html": [
              "\n",
              "  <div id=\"df-fae48267-e0c3-462a-8cbe-83f7615399d8\" class=\"colab-df-container\">\n",
              "    <div>\n",
              "<style scoped>\n",
              "    .dataframe tbody tr th:only-of-type {\n",
              "        vertical-align: middle;\n",
              "    }\n",
              "\n",
              "    .dataframe tbody tr th {\n",
              "        vertical-align: top;\n",
              "    }\n",
              "\n",
              "    .dataframe thead th {\n",
              "        text-align: right;\n",
              "    }\n",
              "</style>\n",
              "<table border=\"1\" class=\"dataframe\">\n",
              "  <thead>\n",
              "    <tr style=\"text-align: right;\">\n",
              "      <th></th>\n",
              "      <th>instant</th>\n",
              "      <th>dteday</th>\n",
              "      <th>season</th>\n",
              "      <th>yr</th>\n",
              "      <th>mnth</th>\n",
              "      <th>hr</th>\n",
              "      <th>weekday</th>\n",
              "      <th>weathersit</th>\n",
              "      <th>temp</th>\n",
              "      <th>atemp</th>\n",
              "      <th>hum</th>\n",
              "      <th>windspeed</th>\n",
              "      <th>casual</th>\n",
              "      <th>registered</th>\n",
              "      <th>cnt</th>\n",
              "      <th>Timestamp</th>\n",
              "    </tr>\n",
              "  </thead>\n",
              "  <tbody>\n",
              "    <tr>\n",
              "      <th>count</th>\n",
              "      <td>390.000000</td>\n",
              "      <td>390</td>\n",
              "      <td>390.0</td>\n",
              "      <td>390.0</td>\n",
              "      <td>390.000000</td>\n",
              "      <td>390.000000</td>\n",
              "      <td>390.000000</td>\n",
              "      <td>390.000000</td>\n",
              "      <td>390.000000</td>\n",
              "      <td>390.000000</td>\n",
              "      <td>390.000000</td>\n",
              "      <td>390.000000</td>\n",
              "      <td>390.000000</td>\n",
              "      <td>390.000000</td>\n",
              "      <td>390.000000</td>\n",
              "      <td>3.900000e+02</td>\n",
              "    </tr>\n",
              "    <tr>\n",
              "      <th>mean</th>\n",
              "      <td>805.500000</td>\n",
              "      <td>2011-02-05 11:45:13.846153728</td>\n",
              "      <td>1.0</td>\n",
              "      <td>0.0</td>\n",
              "      <td>1.800000</td>\n",
              "      <td>11.687179</td>\n",
              "      <td>2.989744</td>\n",
              "      <td>1.484615</td>\n",
              "      <td>0.220000</td>\n",
              "      <td>0.230424</td>\n",
              "      <td>0.613769</td>\n",
              "      <td>0.179416</td>\n",
              "      <td>5.576923</td>\n",
              "      <td>57.002564</td>\n",
              "      <td>62.579487</td>\n",
              "      <td>1.296906e+09</td>\n",
              "    </tr>\n",
              "    <tr>\n",
              "      <th>min</th>\n",
              "      <td>611.000000</td>\n",
              "      <td>2011-01-28 00:00:00</td>\n",
              "      <td>1.0</td>\n",
              "      <td>0.0</td>\n",
              "      <td>1.000000</td>\n",
              "      <td>0.000000</td>\n",
              "      <td>0.000000</td>\n",
              "      <td>1.000000</td>\n",
              "      <td>0.060000</td>\n",
              "      <td>0.075800</td>\n",
              "      <td>0.210000</td>\n",
              "      <td>0.000000</td>\n",
              "      <td>0.000000</td>\n",
              "      <td>0.000000</td>\n",
              "      <td>1.000000</td>\n",
              "      <td>1.296173e+09</td>\n",
              "    </tr>\n",
              "    <tr>\n",
              "      <th>25%</th>\n",
              "      <td>708.250000</td>\n",
              "      <td>2011-02-01 00:00:00</td>\n",
              "      <td>1.0</td>\n",
              "      <td>0.0</td>\n",
              "      <td>2.000000</td>\n",
              "      <td>6.000000</td>\n",
              "      <td>1.000000</td>\n",
              "      <td>1.000000</td>\n",
              "      <td>0.160000</td>\n",
              "      <td>0.181800</td>\n",
              "      <td>0.450000</td>\n",
              "      <td>0.089600</td>\n",
              "      <td>1.000000</td>\n",
              "      <td>17.000000</td>\n",
              "      <td>18.500000</td>\n",
              "      <td>1.296518e+09</td>\n",
              "    </tr>\n",
              "    <tr>\n",
              "      <th>50%</th>\n",
              "      <td>805.500000</td>\n",
              "      <td>2011-02-05 12:00:00</td>\n",
              "      <td>1.0</td>\n",
              "      <td>0.0</td>\n",
              "      <td>2.000000</td>\n",
              "      <td>12.000000</td>\n",
              "      <td>3.000000</td>\n",
              "      <td>1.000000</td>\n",
              "      <td>0.220000</td>\n",
              "      <td>0.227300</td>\n",
              "      <td>0.600000</td>\n",
              "      <td>0.164200</td>\n",
              "      <td>3.000000</td>\n",
              "      <td>48.000000</td>\n",
              "      <td>52.000000</td>\n",
              "      <td>1.296907e+09</td>\n",
              "    </tr>\n",
              "    <tr>\n",
              "      <th>75%</th>\n",
              "      <td>902.750000</td>\n",
              "      <td>2011-02-10 00:00:00</td>\n",
              "      <td>1.0</td>\n",
              "      <td>0.0</td>\n",
              "      <td>2.000000</td>\n",
              "      <td>18.000000</td>\n",
              "      <td>5.000000</td>\n",
              "      <td>2.000000</td>\n",
              "      <td>0.260000</td>\n",
              "      <td>0.272700</td>\n",
              "      <td>0.750000</td>\n",
              "      <td>0.283600</td>\n",
              "      <td>6.000000</td>\n",
              "      <td>83.750000</td>\n",
              "      <td>88.750000</td>\n",
              "      <td>1.297296e+09</td>\n",
              "    </tr>\n",
              "    <tr>\n",
              "      <th>max</th>\n",
              "      <td>1000.000000</td>\n",
              "      <td>2011-02-14 00:00:00</td>\n",
              "      <td>1.0</td>\n",
              "      <td>0.0</td>\n",
              "      <td>2.000000</td>\n",
              "      <td>23.000000</td>\n",
              "      <td>6.000000</td>\n",
              "      <td>3.000000</td>\n",
              "      <td>0.420000</td>\n",
              "      <td>0.424200</td>\n",
              "      <td>1.000000</td>\n",
              "      <td>0.582100</td>\n",
              "      <td>62.000000</td>\n",
              "      <td>236.000000</td>\n",
              "      <td>243.000000</td>\n",
              "      <td>1.297642e+09</td>\n",
              "    </tr>\n",
              "    <tr>\n",
              "      <th>std</th>\n",
              "      <td>112.727548</td>\n",
              "      <td>NaN</td>\n",
              "      <td>0.0</td>\n",
              "      <td>0.0</td>\n",
              "      <td>0.400514</td>\n",
              "      <td>6.980295</td>\n",
              "      <td>2.149884</td>\n",
              "      <td>0.663805</td>\n",
              "      <td>0.073095</td>\n",
              "      <td>0.069455</td>\n",
              "      <td>0.202361</td>\n",
              "      <td>0.138551</td>\n",
              "      <td>9.317478</td>\n",
              "      <td>49.070198</td>\n",
              "      <td>53.274838</td>\n",
              "      <td>4.164954e+05</td>\n",
              "    </tr>\n",
              "  </tbody>\n",
              "</table>\n",
              "</div>\n",
              "    <div class=\"colab-df-buttons\">\n",
              "\n",
              "  <div class=\"colab-df-container\">\n",
              "    <button class=\"colab-df-convert\" onclick=\"convertToInteractive('df-fae48267-e0c3-462a-8cbe-83f7615399d8')\"\n",
              "            title=\"Convert this dataframe to an interactive table.\"\n",
              "            style=\"display:none;\">\n",
              "\n",
              "  <svg xmlns=\"http://www.w3.org/2000/svg\" height=\"24px\" viewBox=\"0 -960 960 960\">\n",
              "    <path d=\"M120-120v-720h720v720H120Zm60-500h600v-160H180v160Zm220 220h160v-160H400v160Zm0 220h160v-160H400v160ZM180-400h160v-160H180v160Zm440 0h160v-160H620v160ZM180-180h160v-160H180v160Zm440 0h160v-160H620v160Z\"/>\n",
              "  </svg>\n",
              "    </button>\n",
              "\n",
              "  <style>\n",
              "    .colab-df-container {\n",
              "      display:flex;\n",
              "      gap: 12px;\n",
              "    }\n",
              "\n",
              "    .colab-df-convert {\n",
              "      background-color: #E8F0FE;\n",
              "      border: none;\n",
              "      border-radius: 50%;\n",
              "      cursor: pointer;\n",
              "      display: none;\n",
              "      fill: #1967D2;\n",
              "      height: 32px;\n",
              "      padding: 0 0 0 0;\n",
              "      width: 32px;\n",
              "    }\n",
              "\n",
              "    .colab-df-convert:hover {\n",
              "      background-color: #E2EBFA;\n",
              "      box-shadow: 0px 1px 2px rgba(60, 64, 67, 0.3), 0px 1px 3px 1px rgba(60, 64, 67, 0.15);\n",
              "      fill: #174EA6;\n",
              "    }\n",
              "\n",
              "    .colab-df-buttons div {\n",
              "      margin-bottom: 4px;\n",
              "    }\n",
              "\n",
              "    [theme=dark] .colab-df-convert {\n",
              "      background-color: #3B4455;\n",
              "      fill: #D2E3FC;\n",
              "    }\n",
              "\n",
              "    [theme=dark] .colab-df-convert:hover {\n",
              "      background-color: #434B5C;\n",
              "      box-shadow: 0px 1px 3px 1px rgba(0, 0, 0, 0.15);\n",
              "      filter: drop-shadow(0px 1px 2px rgba(0, 0, 0, 0.3));\n",
              "      fill: #FFFFFF;\n",
              "    }\n",
              "  </style>\n",
              "\n",
              "    <script>\n",
              "      const buttonEl =\n",
              "        document.querySelector('#df-fae48267-e0c3-462a-8cbe-83f7615399d8 button.colab-df-convert');\n",
              "      buttonEl.style.display =\n",
              "        google.colab.kernel.accessAllowed ? 'block' : 'none';\n",
              "\n",
              "      async function convertToInteractive(key) {\n",
              "        const element = document.querySelector('#df-fae48267-e0c3-462a-8cbe-83f7615399d8');\n",
              "        const dataTable =\n",
              "          await google.colab.kernel.invokeFunction('convertToInteractive',\n",
              "                                                    [key], {});\n",
              "        if (!dataTable) return;\n",
              "\n",
              "        const docLinkHtml = 'Like what you see? Visit the ' +\n",
              "          '<a target=\"_blank\" href=https://colab.research.google.com/notebooks/data_table.ipynb>data table notebook</a>'\n",
              "          + ' to learn more about interactive tables.';\n",
              "        element.innerHTML = '';\n",
              "        dataTable['output_type'] = 'display_data';\n",
              "        await google.colab.output.renderOutput(dataTable, element);\n",
              "        const docLink = document.createElement('div');\n",
              "        docLink.innerHTML = docLinkHtml;\n",
              "        element.appendChild(docLink);\n",
              "      }\n",
              "    </script>\n",
              "  </div>\n",
              "\n",
              "\n",
              "<div id=\"df-325ac5a3-588a-44b5-a528-e4a39d0cb346\">\n",
              "  <button class=\"colab-df-quickchart\" onclick=\"quickchart('df-325ac5a3-588a-44b5-a528-e4a39d0cb346')\"\n",
              "            title=\"Suggest charts\"\n",
              "            style=\"display:none;\">\n",
              "\n",
              "<svg xmlns=\"http://www.w3.org/2000/svg\" height=\"24px\"viewBox=\"0 0 24 24\"\n",
              "     width=\"24px\">\n",
              "    <g>\n",
              "        <path d=\"M19 3H5c-1.1 0-2 .9-2 2v14c0 1.1.9 2 2 2h14c1.1 0 2-.9 2-2V5c0-1.1-.9-2-2-2zM9 17H7v-7h2v7zm4 0h-2V7h2v10zm4 0h-2v-4h2v4z\"/>\n",
              "    </g>\n",
              "</svg>\n",
              "  </button>\n",
              "\n",
              "<style>\n",
              "  .colab-df-quickchart {\n",
              "      --bg-color: #E8F0FE;\n",
              "      --fill-color: #1967D2;\n",
              "      --hover-bg-color: #E2EBFA;\n",
              "      --hover-fill-color: #174EA6;\n",
              "      --disabled-fill-color: #AAA;\n",
              "      --disabled-bg-color: #DDD;\n",
              "  }\n",
              "\n",
              "  [theme=dark] .colab-df-quickchart {\n",
              "      --bg-color: #3B4455;\n",
              "      --fill-color: #D2E3FC;\n",
              "      --hover-bg-color: #434B5C;\n",
              "      --hover-fill-color: #FFFFFF;\n",
              "      --disabled-bg-color: #3B4455;\n",
              "      --disabled-fill-color: #666;\n",
              "  }\n",
              "\n",
              "  .colab-df-quickchart {\n",
              "    background-color: var(--bg-color);\n",
              "    border: none;\n",
              "    border-radius: 50%;\n",
              "    cursor: pointer;\n",
              "    display: none;\n",
              "    fill: var(--fill-color);\n",
              "    height: 32px;\n",
              "    padding: 0;\n",
              "    width: 32px;\n",
              "  }\n",
              "\n",
              "  .colab-df-quickchart:hover {\n",
              "    background-color: var(--hover-bg-color);\n",
              "    box-shadow: 0 1px 2px rgba(60, 64, 67, 0.3), 0 1px 3px 1px rgba(60, 64, 67, 0.15);\n",
              "    fill: var(--button-hover-fill-color);\n",
              "  }\n",
              "\n",
              "  .colab-df-quickchart-complete:disabled,\n",
              "  .colab-df-quickchart-complete:disabled:hover {\n",
              "    background-color: var(--disabled-bg-color);\n",
              "    fill: var(--disabled-fill-color);\n",
              "    box-shadow: none;\n",
              "  }\n",
              "\n",
              "  .colab-df-spinner {\n",
              "    border: 2px solid var(--fill-color);\n",
              "    border-color: transparent;\n",
              "    border-bottom-color: var(--fill-color);\n",
              "    animation:\n",
              "      spin 1s steps(1) infinite;\n",
              "  }\n",
              "\n",
              "  @keyframes spin {\n",
              "    0% {\n",
              "      border-color: transparent;\n",
              "      border-bottom-color: var(--fill-color);\n",
              "      border-left-color: var(--fill-color);\n",
              "    }\n",
              "    20% {\n",
              "      border-color: transparent;\n",
              "      border-left-color: var(--fill-color);\n",
              "      border-top-color: var(--fill-color);\n",
              "    }\n",
              "    30% {\n",
              "      border-color: transparent;\n",
              "      border-left-color: var(--fill-color);\n",
              "      border-top-color: var(--fill-color);\n",
              "      border-right-color: var(--fill-color);\n",
              "    }\n",
              "    40% {\n",
              "      border-color: transparent;\n",
              "      border-right-color: var(--fill-color);\n",
              "      border-top-color: var(--fill-color);\n",
              "    }\n",
              "    60% {\n",
              "      border-color: transparent;\n",
              "      border-right-color: var(--fill-color);\n",
              "    }\n",
              "    80% {\n",
              "      border-color: transparent;\n",
              "      border-right-color: var(--fill-color);\n",
              "      border-bottom-color: var(--fill-color);\n",
              "    }\n",
              "    90% {\n",
              "      border-color: transparent;\n",
              "      border-bottom-color: var(--fill-color);\n",
              "    }\n",
              "  }\n",
              "</style>\n",
              "\n",
              "  <script>\n",
              "    async function quickchart(key) {\n",
              "      const quickchartButtonEl =\n",
              "        document.querySelector('#' + key + ' button');\n",
              "      quickchartButtonEl.disabled = true;  // To prevent multiple clicks.\n",
              "      quickchartButtonEl.classList.add('colab-df-spinner');\n",
              "      try {\n",
              "        const charts = await google.colab.kernel.invokeFunction(\n",
              "            'suggestCharts', [key], {});\n",
              "      } catch (error) {\n",
              "        console.error('Error during call to suggestCharts:', error);\n",
              "      }\n",
              "      quickchartButtonEl.classList.remove('colab-df-spinner');\n",
              "      quickchartButtonEl.classList.add('colab-df-quickchart-complete');\n",
              "    }\n",
              "    (() => {\n",
              "      let quickchartButtonEl =\n",
              "        document.querySelector('#df-325ac5a3-588a-44b5-a528-e4a39d0cb346 button');\n",
              "      quickchartButtonEl.style.display =\n",
              "        google.colab.kernel.accessAllowed ? 'block' : 'none';\n",
              "    })();\n",
              "  </script>\n",
              "</div>\n",
              "\n",
              "    </div>\n",
              "  </div>\n"
            ],
            "application/vnd.google.colaboratory.intrinsic+json": {
              "type": "dataframe",
              "summary": "{\n  \"name\": \"data3\",\n  \"rows\": 8,\n  \"fields\": [\n    {\n      \"column\": \"instant\",\n      \"properties\": {\n        \"dtype\": \"number\",\n        \"std\": 291.2083366034115,\n        \"min\": 112.72754765362369,\n        \"max\": 1000.0,\n        \"num_unique_values\": 7,\n        \"samples\": [\n          390.0,\n          805.5,\n          1000.0\n        ],\n        \"semantic_type\": \"\",\n        \"description\": \"\"\n      }\n    },\n    {\n      \"column\": \"dteday\",\n      \"properties\": {\n        \"dtype\": \"date\",\n        \"min\": \"1970-01-01 00:00:00.000000390\",\n        \"max\": \"2011-02-14 00:00:00\",\n        \"num_unique_values\": 7,\n        \"samples\": [\n          \"390\",\n          \"2011-02-05 11:45:13.846153728\",\n          \"2011-02-10 00:00:00\"\n        ],\n        \"semantic_type\": \"\",\n        \"description\": \"\"\n      }\n    },\n    {\n      \"column\": \"season\",\n      \"properties\": {\n        \"dtype\": \"number\",\n        \"std\": 137.5832215684124,\n        \"min\": 0.0,\n        \"max\": 390.0,\n        \"num_unique_values\": 3,\n        \"samples\": [\n          390.0,\n          1.0,\n          0.0\n        ],\n        \"semantic_type\": \"\",\n        \"description\": \"\"\n      }\n    },\n    {\n      \"column\": \"yr\",\n      \"properties\": {\n        \"dtype\": \"number\",\n        \"std\": 137.88582233137677,\n        \"min\": 0.0,\n        \"max\": 390.0,\n        \"num_unique_values\": 2,\n        \"samples\": [\n          0.0,\n          390.0\n        ],\n        \"semantic_type\": \"\",\n        \"description\": \"\"\n      }\n    },\n    {\n      \"column\": \"mnth\",\n      \"properties\": {\n        \"dtype\": \"number\",\n        \"std\": 137.32140030716968,\n        \"min\": 0.4005138088181038,\n        \"max\": 390.0,\n        \"num_unique_values\": 5,\n        \"samples\": [\n          1.8,\n          0.4005138088181038\n        ],\n        \"semantic_type\": \"\",\n        \"description\": \"\"\n      }\n    },\n    {\n      \"column\": \"hr\",\n      \"properties\": {\n        \"dtype\": \"number\",\n        \"std\": 134.15300772866834,\n        \"min\": 0.0,\n        \"max\": 390.0,\n        \"num_unique_values\": 8,\n        \"samples\": [\n          11.687179487179487,\n          18.0\n        ],\n        \"semantic_type\": \"\",\n        \"description\": \"\"\n      }\n    },\n    {\n      \"column\": \"weekday\",\n      \"properties\": {\n        \"dtype\": \"number\",\n        \"std\": 136.88250763416036,\n        \"min\": 0.0,\n        \"max\": 390.0,\n        \"num_unique_values\": 8,\n        \"samples\": [\n          2.98974358974359,\n          5.0\n        ],\n        \"semantic_type\": \"\",\n        \"description\": \"\"\n      }\n    },\n    {\n      \"column\": \"weathersit\",\n      \"properties\": {\n        \"dtype\": \"number\",\n        \"std\": 137.37529407374086,\n        \"min\": 0.6638047462551621,\n        \"max\": 390.0,\n        \"num_unique_values\": 6,\n        \"samples\": [\n          390.0,\n          1.4846153846153847\n        ],\n        \"semantic_type\": \"\",\n        \"description\": \"\"\n      }\n    },\n    {\n      \"column\": \"temp\",\n      \"properties\": {\n        \"dtype\": \"number\",\n        \"std\": 137.81449692624065,\n        \"min\": 0.06,\n        \"max\": 390.0,\n        \"num_unique_values\": 7,\n        \"samples\": [\n          390.0,\n          0.22\n        ],\n        \"semantic_type\": \"\",\n        \"description\": \"\"\n      }\n    },\n    {\n      \"column\": \"atemp\",\n      \"properties\": {\n        \"dtype\": \"number\",\n        \"std\": 137.81103239334092,\n        \"min\": 0.0694553887306772,\n        \"max\": 390.0,\n        \"num_unique_values\": 8,\n        \"samples\": [\n          0.23042384615384612,\n          0.2727\n        ],\n        \"semantic_type\": \"\",\n        \"description\": \"\"\n      }\n    },\n    {\n      \"column\": \"hum\",\n      \"properties\": {\n        \"dtype\": \"number\",\n        \"std\": 137.6928305759417,\n        \"min\": 0.20236112208001783,\n        \"max\": 390.0,\n        \"num_unique_values\": 8,\n        \"samples\": [\n          0.6137692307692307,\n          0.75\n        ],\n        \"semantic_type\": \"\",\n        \"description\": \"\"\n      }\n    },\n    {\n      \"column\": \"windspeed\",\n      \"properties\": {\n        \"dtype\": \"number\",\n        \"std\": 137.8133283555473,\n        \"min\": 0.0,\n        \"max\": 390.0,\n        \"num_unique_values\": 8,\n        \"samples\": [\n          0.17941589743589745,\n          0.2836\n        ],\n        \"semantic_type\": \"\",\n        \"description\": \"\"\n      }\n    },\n    {\n      \"column\": \"casual\",\n      \"properties\": {\n        \"dtype\": \"number\",\n        \"std\": 135.0552181787657,\n        \"min\": 0.0,\n        \"max\": 390.0,\n        \"num_unique_values\": 8,\n        \"samples\": [\n          5.576923076923077,\n          6.0\n        ],\n        \"semantic_type\": \"\",\n        \"description\": \"\"\n      }\n    },\n    {\n      \"column\": \"registered\",\n      \"properties\": {\n        \"dtype\": \"number\",\n        \"std\": 134.20620961290257,\n        \"min\": 0.0,\n        \"max\": 390.0,\n        \"num_unique_values\": 8,\n        \"samples\": [\n          57.0025641025641,\n          83.75\n        ],\n        \"semantic_type\": \"\",\n        \"description\": \"\"\n      }\n    },\n    {\n      \"column\": \"cnt\",\n      \"properties\": {\n        \"dtype\": \"number\",\n        \"std\": 133.90741944318688,\n        \"min\": 1.0,\n        \"max\": 390.0,\n        \"num_unique_values\": 8,\n        \"samples\": [\n          62.57948717948718,\n          88.75\n        ],\n        \"semantic_type\": \"\",\n        \"description\": \"\"\n      }\n    },\n    {\n      \"column\": \"Timestamp\",\n      \"properties\": {\n        \"dtype\": \"number\",\n        \"std\": 600254992.7106036,\n        \"min\": 390.0,\n        \"max\": 1297641600.0,\n        \"num_unique_values\": 8,\n        \"samples\": [\n          1296906313.8461537,\n          1297296000.0\n        ],\n        \"semantic_type\": \"\",\n        \"description\": \"\"\n      }\n    }\n  ]\n}"
            }
          },
          "metadata": {},
          "execution_count": 14
        }
      ]
    },
    {
      "cell_type": "code",
      "source": [
        "#Dropping date and time column as that column is converted into timestamp i.e into integer mode to generate the boxplot\n",
        "\n",
        "data3 = data3.drop(data3.columns[[1]], axis=1)\n",
        "print(data3)"
      ],
      "metadata": {
        "colab": {
          "base_uri": "https://localhost:8080/"
        },
        "id": "moxDM-ggyXYy",
        "outputId": "febed6f9-378b-4ba7-c1fa-d8567d36b73a"
      },
      "execution_count": 15,
      "outputs": [
        {
          "output_type": "stream",
          "name": "stdout",
          "text": [
            "     instant  season  yr  mnth  hr  holiday  weekday  weathersit  temp  \\\n",
            "0        620       1   0     1   1    False        6           1  0.22   \n",
            "1        621       1   0     1   2    False        6           1  0.22   \n",
            "2        622       1   0     1   3    False        6           1  0.20   \n",
            "3        623       1   0     1   4    False        6           1  0.16   \n",
            "4        624       1   0     1   6    False        6           1  0.16   \n",
            "..       ...     ...  ..   ...  ..      ...      ...         ...   ...   \n",
            "385      615       1   0     1  20    False        5           2  0.24   \n",
            "386      616       1   0     1  21    False        5           2  0.22   \n",
            "387      617       1   0     1  22    False        5           1  0.24   \n",
            "388      618       1   0     1  23    False        5           1  0.24   \n",
            "389      619       1   0     1   0    False        6           1  0.22   \n",
            "\n",
            "      atemp   hum  windspeed  casual  registered  cnt   Timestamp  \n",
            "0    0.2273  0.64     0.1940       0          20   20  1296259200  \n",
            "1    0.2273  0.64     0.1642       0          15   15  1296259200  \n",
            "2    0.2121  0.64     0.1343       3           5    8  1296259200  \n",
            "3    0.1818  0.69     0.1045       1           2    3  1296259200  \n",
            "4    0.1818  0.64     0.1343       0           2    2  1296259200  \n",
            "..      ...   ...        ...     ...         ...  ...         ...  \n",
            "385  0.2273  0.70     0.1940       1          61   62  1296172800  \n",
            "386  0.2273  0.75     0.1343       1          57   58  1296172800  \n",
            "387  0.2121  0.65     0.3582       0          26   26  1296172800  \n",
            "388  0.2273  0.60     0.2239       1          22   23  1296172800  \n",
            "389  0.1970  0.64     0.3582       2          26   28  1296259200  \n",
            "\n",
            "[390 rows x 16 columns]\n"
          ]
        }
      ]
    },
    {
      "cell_type": "code",
      "source": [
        "#Checking the unique values of season in data3\n",
        "\n",
        "data3.season.unique()\n",
        "\n"
      ],
      "metadata": {
        "id": "_Deu7SZT2xX3",
        "colab": {
          "base_uri": "https://localhost:8080/"
        },
        "outputId": "9222dd05-dcd3-4816-f2a8-556d178d8e6c"
      },
      "execution_count": 16,
      "outputs": [
        {
          "output_type": "execute_result",
          "data": {
            "text/plain": [
              "array([1])"
            ]
          },
          "metadata": {},
          "execution_count": 16
        }
      ]
    },
    {
      "cell_type": "code",
      "source": [
        "#Checking the unique values of year in data3\n",
        "\n",
        "data3.yr.unique()\n"
      ],
      "metadata": {
        "colab": {
          "base_uri": "https://localhost:8080/"
        },
        "id": "hS5laybczawA",
        "outputId": "8323c8e4-50cb-4e0c-8ef1-ab8c5f3460a2"
      },
      "execution_count": 17,
      "outputs": [
        {
          "output_type": "execute_result",
          "data": {
            "text/plain": [
              "array([0])"
            ]
          },
          "metadata": {},
          "execution_count": 17
        }
      ]
    },
    {
      "cell_type": "code",
      "source": [
        "#Checking the unique values of month in data3\n",
        "\n",
        "data3.mnth.unique()\n",
        "\n",
        "\n"
      ],
      "metadata": {
        "colab": {
          "base_uri": "https://localhost:8080/"
        },
        "id": "gDikCifFzip_",
        "outputId": "74881dc4-29ae-4b82-d57a-486a52ca4b37"
      },
      "execution_count": 64,
      "outputs": [
        {
          "output_type": "execute_result",
          "data": {
            "text/plain": [
              "array([1, 2])"
            ]
          },
          "metadata": {},
          "execution_count": 64
        }
      ]
    },
    {
      "cell_type": "code",
      "source": [
        "#Checking the unique values of hour in data3\n",
        "\n",
        "data3.hr.unique()\n"
      ],
      "metadata": {
        "colab": {
          "base_uri": "https://localhost:8080/"
        },
        "id": "q8qMAEet1mNY",
        "outputId": "331eca89-c1d1-4f27-c1c9-923b0301f4d7"
      },
      "execution_count": 65,
      "outputs": [
        {
          "output_type": "execute_result",
          "data": {
            "text/plain": [
              "array([ 1,  2,  3,  4,  6,  7,  8,  9, 10, 11, 12, 13, 14, 15, 16, 17, 18,\n",
              "       19, 20, 21, 22, 23,  0,  5])"
            ]
          },
          "metadata": {},
          "execution_count": 65
        }
      ]
    },
    {
      "cell_type": "code",
      "source": [
        "#Checking the unique values of week day in data3\n",
        "\n",
        "data3.weekday.unique()\n"
      ],
      "metadata": {
        "colab": {
          "base_uri": "https://localhost:8080/"
        },
        "id": "6m_kkISx1x25",
        "outputId": "ebba3679-6872-44b4-97c3-2716a65668ac"
      },
      "execution_count": 66,
      "outputs": [
        {
          "output_type": "execute_result",
          "data": {
            "text/plain": [
              "array([6, 0, 1, 2, 3, 4, 5])"
            ]
          },
          "metadata": {},
          "execution_count": 66
        }
      ]
    },
    {
      "cell_type": "code",
      "source": [
        "#Checking the unique values of weather situation in data3\n",
        "\n",
        "data3.weathersit.unique()\n"
      ],
      "metadata": {
        "colab": {
          "base_uri": "https://localhost:8080/"
        },
        "id": "c9sQupPV163r",
        "outputId": "3c15e0e7-3c1c-4ad5-cc95-2d337a62f3ef"
      },
      "execution_count": 67,
      "outputs": [
        {
          "output_type": "execute_result",
          "data": {
            "text/plain": [
              "array([1, 2, 3])"
            ]
          },
          "metadata": {},
          "execution_count": 67
        }
      ]
    },
    {
      "cell_type": "code",
      "source": [
        "#Checking the unique values of temperature in data3\n",
        "\n",
        "data3.temp.unique()"
      ],
      "metadata": {
        "colab": {
          "base_uri": "https://localhost:8080/"
        },
        "id": "RPYBKhAU2Dib",
        "outputId": "28cfea2c-2e8a-4b48-e03a-89404ae157e9"
      },
      "execution_count": 68,
      "outputs": [
        {
          "output_type": "execute_result",
          "data": {
            "text/plain": [
              "array([0.22, 0.2 , 0.16, 0.18, 0.24, 0.14, 0.3 , 0.28, 0.26, 0.34, 0.38,\n",
              "       0.36, 0.32, 0.12, 0.1 , 0.08, 0.06, 0.4 , 0.42])"
            ]
          },
          "metadata": {},
          "execution_count": 68
        }
      ]
    },
    {
      "cell_type": "code",
      "source": [
        "#Checking the unique values of air temperature in data3\n",
        "\n",
        "data3.atemp.unique()"
      ],
      "metadata": {
        "colab": {
          "base_uri": "https://localhost:8080/"
        },
        "id": "sVgqj2CL2Lw_",
        "outputId": "18888e58-b781-4453-af9c-d5cbf729080d"
      },
      "execution_count": 69,
      "outputs": [
        {
          "output_type": "execute_result",
          "data": {
            "text/plain": [
              "array([0.2273, 0.2121, 0.1818, 0.197 , 0.2424, 0.2879, 0.2727, 0.3182,\n",
              "       0.303 , 0.3333, 0.2576, 0.1667, 0.1364, 0.1515, 0.3939, 0.1212,\n",
              "       0.3636, 0.3485, 0.1061, 0.0758, 0.4091, 0.4242])"
            ]
          },
          "metadata": {},
          "execution_count": 69
        }
      ]
    },
    {
      "cell_type": "code",
      "source": [
        "#Checking the unique values of humidity in data3\n",
        "\n",
        "data3.hum.unique()"
      ],
      "metadata": {
        "colab": {
          "base_uri": "https://localhost:8080/"
        },
        "id": "ocbiC2aF2VXV",
        "outputId": "d046607a-759b-49c7-a72a-d022d3d35d1d"
      },
      "execution_count": 70,
      "outputs": [
        {
          "output_type": "execute_result",
          "data": {
            "text/plain": [
              "array([0.64, 0.69, 0.59, 0.55, 0.6 , 0.74, 0.8 , 0.93, 0.86, 0.75, 0.52,\n",
              "       0.61, 0.56, 0.65, 0.7 , 0.81, 0.87, 1.  , 0.82, 0.76, 0.71, 0.53,\n",
              "       0.42, 0.45, 0.48, 0.47, 0.44, 0.4 , 0.43, 0.5 , 0.37, 0.51, 0.63,\n",
              "       0.49, 0.46, 0.62, 0.57, 0.54, 0.66, 0.38, 0.32, 0.35, 0.33, 0.36,\n",
              "       0.39, 0.34, 0.29, 0.27, 0.25, 0.26, 0.28, 0.31, 0.68, 0.73, 0.21,\n",
              "       0.24, 0.41, 0.3 ])"
            ]
          },
          "metadata": {},
          "execution_count": 70
        }
      ]
    },
    {
      "cell_type": "code",
      "source": [
        "data3.fillna(method='ffill', inplace=True)\n",
        "print(data3.hum)"
      ],
      "metadata": {
        "colab": {
          "base_uri": "https://localhost:8080/"
        },
        "id": "0mM54d0v2gt6",
        "outputId": "118ff35d-c55e-457b-b3ff-a022e630ced5"
      },
      "execution_count": 73,
      "outputs": [
        {
          "output_type": "stream",
          "name": "stdout",
          "text": [
            "0      0.64\n",
            "1      0.64\n",
            "2      0.64\n",
            "3      0.69\n",
            "4      0.64\n",
            "       ... \n",
            "385    0.70\n",
            "386    0.75\n",
            "387    0.65\n",
            "388    0.60\n",
            "389    0.64\n",
            "Name: hum, Length: 390, dtype: float64\n"
          ]
        }
      ]
    },
    {
      "cell_type": "code",
      "source": [
        "#Checking the unique values of windspeed in data3\n",
        "\n",
        "data3.windspeed.unique()"
      ],
      "metadata": {
        "colab": {
          "base_uri": "https://localhost:8080/"
        },
        "id": "HC3_Bevz2hl_",
        "outputId": "20a8242c-19a5-4bdc-8ba8-41486b792c93"
      },
      "execution_count": 71,
      "outputs": [
        {
          "output_type": "execute_result",
          "data": {
            "text/plain": [
              "array([0.194 , 0.1642, 0.1343, 0.1045, 0.0896, 0.2537, 0.    , 0.2836,\n",
              "       0.2239, 0.3284, 0.2985, 0.3881, 0.5224, 0.5522, 0.4925, 0.4478,\n",
              "       0.3582, 0.4179, 0.4627, 0.5821])"
            ]
          },
          "metadata": {},
          "execution_count": 71
        }
      ]
    },
    {
      "cell_type": "code",
      "source": [
        "data3.windspeed.fillna(method='ffill', inplace=True)\n",
        "print(data3.windspeed)"
      ],
      "metadata": {
        "colab": {
          "base_uri": "https://localhost:8080/"
        },
        "id": "_SsmOKEf2x4Z",
        "outputId": "4ed3c8c4-74d0-4a11-e3f3-a8c47d4a2fc3"
      },
      "execution_count": 75,
      "outputs": [
        {
          "output_type": "stream",
          "name": "stdout",
          "text": [
            "0      0.1940\n",
            "1      0.1642\n",
            "2      0.1343\n",
            "3      0.1045\n",
            "4      0.1343\n",
            "        ...  \n",
            "385    0.1940\n",
            "386    0.1343\n",
            "387    0.3582\n",
            "388    0.2239\n",
            "389    0.3582\n",
            "Name: windspeed, Length: 390, dtype: float64\n"
          ]
        }
      ]
    },
    {
      "cell_type": "code",
      "source": [
        "#Finding correlation of the data in the dataset 3\n",
        "\n",
        "Correlation_data3 = data3.corr()\n",
        "print(Correlation_data3)"
      ],
      "metadata": {
        "colab": {
          "base_uri": "https://localhost:8080/"
        },
        "id": "Ol-IHXHw2zsp",
        "outputId": "455e1687-1793-4173-8555-f820d970483c"
      },
      "execution_count": 76,
      "outputs": [
        {
          "output_type": "stream",
          "name": "stdout",
          "text": [
            "             instant  season  yr      mnth        hr  holiday   weekday  \\\n",
            "instant     1.000000     NaN NaN  0.692823 -0.018596      NaN  0.000053   \n",
            "season           NaN     NaN NaN       NaN       NaN      NaN       NaN   \n",
            "yr               NaN     NaN NaN       NaN       NaN      NaN       NaN   \n",
            "mnth        0.692823     NaN NaN  1.000000 -0.056458      NaN  0.093148   \n",
            "hr         -0.018596     NaN NaN -0.056458  1.000000      NaN  0.050662   \n",
            "holiday          NaN     NaN NaN       NaN       NaN      NaN       NaN   \n",
            "weekday     0.000053     NaN NaN  0.093148  0.050662      NaN  1.000000   \n",
            "weathersit -0.220022     NaN NaN  0.027074 -0.054857      NaN  0.052128   \n",
            "temp        0.164053     NaN NaN  0.126446  0.278821      NaN -0.289220   \n",
            "atemp       0.117704     NaN NaN  0.091299  0.225257      NaN -0.319828   \n",
            "hum        -0.403658     NaN NaN -0.125794 -0.211255      NaN  0.049960   \n",
            "windspeed   0.206271     NaN NaN  0.142861  0.097096      NaN  0.023188   \n",
            "casual      0.219238     NaN NaN  0.074397  0.203295      NaN -0.120978   \n",
            "registered  0.041795     NaN NaN  0.063073  0.392769      NaN  0.013744   \n",
            "cnt         0.076839     NaN NaN  0.071107  0.397325      NaN -0.008499   \n",
            "Timestamp   0.998153     NaN NaN  0.693970 -0.079014      NaN -0.001995   \n",
            "\n",
            "            weathersit      temp     atemp       hum  windspeed    casual  \\\n",
            "instant      -0.220022  0.164053  0.117704 -0.403658   0.206271  0.219238   \n",
            "season             NaN       NaN       NaN       NaN        NaN       NaN   \n",
            "yr                 NaN       NaN       NaN       NaN        NaN       NaN   \n",
            "mnth          0.027074  0.126446  0.091299 -0.125794   0.142861  0.074397   \n",
            "hr           -0.054857  0.278821  0.225257 -0.211255   0.097096  0.203295   \n",
            "holiday            NaN       NaN       NaN       NaN        NaN       NaN   \n",
            "weekday       0.052128 -0.289220 -0.319828  0.049960   0.023188 -0.120978   \n",
            "weathersit    1.000000 -0.093247 -0.036555  0.531591  -0.228990 -0.156710   \n",
            "temp         -0.093247  1.000000  0.909959 -0.182066   0.242623  0.530170   \n",
            "atemp        -0.036555  0.909959  1.000000 -0.019152  -0.130303  0.485061   \n",
            "hum           0.531591 -0.182066 -0.019152  1.000000  -0.462165 -0.337181   \n",
            "windspeed    -0.228990  0.242623 -0.130303 -0.462165   1.000000  0.154892   \n",
            "casual       -0.156710  0.530170  0.485061 -0.337181   0.154892  1.000000   \n",
            "registered   -0.088272  0.183277  0.103077 -0.255911   0.173689  0.375657   \n",
            "cnt          -0.108713  0.261536  0.179776 -0.294684   0.187071  0.520903   \n",
            "Timestamp    -0.215753  0.147810  0.105316 -0.389363   0.198956  0.207463   \n",
            "\n",
            "            registered       cnt  Timestamp  \n",
            "instant       0.041795  0.076839   0.998153  \n",
            "season             NaN       NaN        NaN  \n",
            "yr                 NaN       NaN        NaN  \n",
            "mnth          0.063073  0.071107   0.693970  \n",
            "hr            0.392769  0.397325  -0.079014  \n",
            "holiday            NaN       NaN        NaN  \n",
            "weekday       0.013744 -0.008499  -0.001995  \n",
            "weathersit   -0.088272 -0.108713  -0.215753  \n",
            "temp          0.183277  0.261536   0.147810  \n",
            "atemp         0.103077  0.179776   0.105316  \n",
            "hum          -0.255911 -0.294684  -0.389363  \n",
            "windspeed     0.173689  0.187071   0.198956  \n",
            "casual        0.375657  0.520903   0.207463  \n",
            "registered    1.000000  0.986777   0.018035  \n",
            "cnt           0.986777  1.000000   0.052896  \n",
            "Timestamp     0.018035  0.052896   1.000000  \n"
          ]
        }
      ]
    },
    {
      "cell_type": "code",
      "source": [
        "import matplotlib.pyplot as plt\n",
        "import seaborn as sns\n",
        "\n",
        "plt.boxplot(data3)\n",
        "\n",
        "plt.show()"
      ],
      "metadata": {
        "colab": {
          "base_uri": "https://localhost:8080/",
          "height": 445
        },
        "id": "TavY6BHS36T2",
        "outputId": "b9c6789f-9005-46e7-efdf-92c066358ba1"
      },
      "execution_count": 77,
      "outputs": [
        {
          "output_type": "display_data",
          "data": {
            "text/plain": [
              "<Figure size 640x480 with 1 Axes>"
            ],
            "image/png": "[encoded data removed]"
          },
          "metadata": {}
        }
      ]
    },
    {
      "cell_type": "markdown",
      "source": [
        "## From the above plots we can see that there's no outliers detected hence concatenating 3 datasets and creating one large datasets"
      ],
      "metadata": {
        "id": "2kFBOo8Q4GiF"
      }
    },
    {
      "cell_type": "code",
      "source": [
        "result = pd.concat([merged_data, data3], ignore_index=True)\n",
        "\n",
        "print(result)"
      ],
      "metadata": {
        "colab": {
          "base_uri": "https://localhost:8080/"
        },
        "id": "QLjvGrsF4EMf",
        "outputId": "94a9bf2b-8ad8-48e2-83fa-f616e58c7c65"
      },
      "execution_count": 78,
      "outputs": [
        {
          "output_type": "stream",
          "name": "stdout",
          "text": [
            "      S_no  season   yr  month    hr holiday  weekday  weathersit  temp  \\\n",
            "0      1.0     1.0  0.0    1.0   0.0   False      6.0         1.0  0.24   \n",
            "1      2.0     1.0  0.0    1.0   1.0   False      6.0         1.0  0.22   \n",
            "2      3.0     1.0  0.0    1.0   2.0   False      6.0         1.0  0.22   \n",
            "3      4.0     1.0  0.0    1.0   3.0   False      6.0         1.0  0.24   \n",
            "4      5.0     1.0  0.0    1.0   4.0   False      6.0         1.0  0.24   \n",
            "...    ...     ...  ...    ...   ...     ...      ...         ...   ...   \n",
            "1605   NaN     1.0  0.0    NaN  20.0   False      5.0         2.0  0.24   \n",
            "1606   NaN     1.0  0.0    NaN  21.0   False      5.0         2.0  0.22   \n",
            "1607   NaN     1.0  0.0    NaN  22.0   False      5.0         1.0  0.24   \n",
            "1608   NaN     1.0  0.0    NaN  23.0   False      5.0         1.0  0.24   \n",
            "1609   NaN     1.0  0.0    NaN   0.0   False      6.0         1.0  0.22   \n",
            "\n",
            "      instant  humidity  windspeed  casual  rgstd   cnt   Timestamp  mnth  \\\n",
            "0         NaN       NaN        NaN     NaN    NaN   NaN  1293840000   NaN   \n",
            "1         NaN       NaN        NaN     NaN    NaN   NaN  1293840000   NaN   \n",
            "2         NaN       NaN        NaN     NaN    NaN   NaN  1293840000   NaN   \n",
            "3         NaN       NaN        NaN     NaN    NaN   NaN  1293840000   NaN   \n",
            "4         NaN       NaN        NaN     NaN    NaN   NaN  1293840000   NaN   \n",
            "...       ...       ...        ...     ...    ...   ...         ...   ...   \n",
            "1605    615.0       NaN     0.1940     1.0    NaN  62.0  1296172800   1.0   \n",
            "1606    616.0       NaN     0.1343     1.0    NaN  58.0  1296172800   1.0   \n",
            "1607    617.0       NaN     0.3582     0.0    NaN  26.0  1296172800   1.0   \n",
            "1608    618.0       NaN     0.2239     1.0    NaN  23.0  1296172800   1.0   \n",
            "1609    619.0       NaN     0.3582     2.0    NaN  28.0  1296259200   1.0   \n",
            "\n",
            "       atemp   hum  registered  \n",
            "0        NaN   NaN         NaN  \n",
            "1        NaN   NaN         NaN  \n",
            "2        NaN   NaN         NaN  \n",
            "3        NaN   NaN         NaN  \n",
            "4        NaN   NaN         NaN  \n",
            "...      ...   ...         ...  \n",
            "1605  0.2273  0.70        61.0  \n",
            "1606  0.2273  0.75        57.0  \n",
            "1607  0.2121  0.65        26.0  \n",
            "1608  0.2273  0.60        22.0  \n",
            "1609  0.1970  0.64        26.0  \n",
            "\n",
            "[1610 rows x 20 columns]\n"
          ]
        }
      ]
    }
  ]
}